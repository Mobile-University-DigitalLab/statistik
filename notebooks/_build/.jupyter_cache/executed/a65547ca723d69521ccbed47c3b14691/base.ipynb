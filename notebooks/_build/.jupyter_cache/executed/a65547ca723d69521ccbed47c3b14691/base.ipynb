{
 "cells": [
  {
   "cell_type": "code",
   "execution_count": 1,
   "id": "b810a98b-77d7-4b3b-bd36-c4568d979816",
   "metadata": {},
   "outputs": [],
   "source": [
    "pop = [4, 10, 10, 17, 5, 1, 11, 3, 15, 8, 10, 2, 11, 10, 15, 5, 0, 14, 1, 12]"
   ]
  },
  {
   "cell_type": "code",
   "execution_count": 2,
   "id": "b9cf85a4-3fae-41a1-b9db-feec971ee01d",
   "metadata": {},
   "outputs": [
    {
     "data": {
      "text/plain": [
       "8.2"
      ]
     },
     "execution_count": 2,
     "metadata": {},
     "output_type": "execute_result"
    }
   ],
   "source": [
    "import numpy as np\n",
    "pop_mean = np.mean(pop)\n",
    "pop_mean"
   ]
  },
  {
   "cell_type": "code",
   "execution_count": 3,
   "id": "33c05116-89d6-42fb-a78a-b9f89eb2d59f",
   "metadata": {},
   "outputs": [
    {
     "data": {
      "text/plain": [
       "[3, 10, 1, 8, 12, 10, 0, 15, 2, 5]"
      ]
     },
     "execution_count": 3,
     "metadata": {},
     "output_type": "execute_result"
    }
   ],
   "source": [
    "import random\n",
    "sample = random.sample(pop,10)\n",
    "sample"
   ]
  },
  {
   "cell_type": "code",
   "execution_count": 4,
   "id": "a2b9f622-c9a3-472b-9f1a-0817a6374cc6",
   "metadata": {},
   "outputs": [
    {
     "name": "stdout",
     "output_type": "stream",
     "text": [
      "6.6 Stichprobenmittel\n",
      "-1.5999999999999996 Schätzfehler\n"
     ]
    }
   ],
   "source": [
    "sample_mean = np.mean(sample)\n",
    "print(sample_mean, 'Stichprobenmittel')\n",
    "print(sample_mean-pop_mean, 'Schätzfehler')"
   ]
  },
  {
   "cell_type": "code",
   "execution_count": 5,
   "id": "b850d4e3-e892-46fc-83f5-035eaf7d12b0",
   "metadata": {},
   "outputs": [
    {
     "data": {
      "text/plain": [
       "[0, 1, 1, 2, 3, 4, 5, 5, 8, 10, 10, 10, 10, 11, 11, 12, 14, 15, 15, 17]"
      ]
     },
     "execution_count": 5,
     "metadata": {},
     "output_type": "execute_result"
    }
   ],
   "source": [
    "pop = sorted(pop)\n",
    "pop"
   ]
  },
  {
   "cell_type": "code",
   "execution_count": 6,
   "id": "6b197d9c-0608-4263-8a1f-5c7698ef6e87",
   "metadata": {},
   "outputs": [
    {
     "data": {
      "text/plain": [
       "[0, 1, 1, 2]"
      ]
     },
     "execution_count": 6,
     "metadata": {},
     "output_type": "execute_result"
    }
   ],
   "source": [
    "# Entnehme kleinste mögliche Stichprobe n = 4\n",
    "sample_min = pop[0:4]\n",
    "sample_min"
   ]
  },
  {
   "cell_type": "code",
   "execution_count": 7,
   "id": "8811eda0-3893-49b1-adce-0af4e1636cd8",
   "metadata": {},
   "outputs": [
    {
     "name": "stdout",
     "output_type": "stream",
     "text": [
      "-7.199999999999999 : Schätzfehler - untere Grenze\n"
     ]
    }
   ],
   "source": [
    "print(np.mean(sample_min) - pop_mean,': Schätzfehler - untere Grenze')"
   ]
  },
  {
   "cell_type": "code",
   "execution_count": 8,
   "id": "03a55021-9f7c-4878-86b1-af36def5c4bd",
   "metadata": {},
   "outputs": [
    {
     "data": {
      "text/plain": [
       "[14, 15, 15, 17]"
      ]
     },
     "execution_count": 8,
     "metadata": {},
     "output_type": "execute_result"
    }
   ],
   "source": [
    "# Entnehme größte mögliche Stichprobe n = 4\n",
    "sample_max = pop[16:20]\n",
    "sample_max"
   ]
  },
  {
   "cell_type": "code",
   "execution_count": 9,
   "id": "710d3a82-9754-48ae-8dee-67646e70f541",
   "metadata": {},
   "outputs": [
    {
     "name": "stdout",
     "output_type": "stream",
     "text": [
      "7.050000000000001 : Schätzfehler - obere Grenze\n"
     ]
    }
   ],
   "source": [
    "print(np.mean(sample_max) - pop_mean,': Schätzfehler - obere Grenze')"
   ]
  },
  {
   "cell_type": "code",
   "execution_count": null,
   "id": "0c9a1f81-d928-4f52-9d35-4bff20dc4591",
   "metadata": {},
   "outputs": [],
   "source": []
  }
 ],
 "metadata": {
  "kernelspec": {
   "display_name": "Python 3 (ipykernel)",
   "language": "python",
   "name": "python3"
  },
  "language_info": {
   "codemirror_mode": {
    "name": "ipython",
    "version": 3
   },
   "file_extension": ".py",
   "mimetype": "text/x-python",
   "name": "python",
   "nbconvert_exporter": "python",
   "pygments_lexer": "ipython3",
   "version": "3.10.9"
  }
 },
 "nbformat": 4,
 "nbformat_minor": 5
}