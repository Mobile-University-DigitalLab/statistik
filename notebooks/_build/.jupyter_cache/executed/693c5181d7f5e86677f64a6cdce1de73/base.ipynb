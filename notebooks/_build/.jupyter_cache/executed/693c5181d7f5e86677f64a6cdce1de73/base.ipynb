{
 "cells": [
  {
   "cell_type": "code",
   "execution_count": 1,
   "id": "37c13222-7445-47b5-a623-99b39f7e5f07",
   "metadata": {},
   "outputs": [
    {
     "data": {
      "text/plain": [
       "7.0"
      ]
     },
     "execution_count": 1,
     "metadata": {},
     "output_type": "execute_result"
    }
   ],
   "source": [
    "1/36*(2+3*2+4*3+5*4+6*5+7*6+8*5+9*4+10*3+11*2+12)"
   ]
  },
  {
   "cell_type": "code",
   "execution_count": 2,
   "id": "7157f79d-d502-4d86-8fef-8f121a388dac",
   "metadata": {},
   "outputs": [
    {
     "name": "stdout",
     "output_type": "stream",
     "text": [
      "7.759792771508046 : Erwartungswert bei 10 Würfen\n",
      "7.08988993160077 : Erwartungswert bei 100 Würfen\n",
      "6.964062912894181 : Erwartungswert bei 10000 Würfen\n"
     ]
    }
   ],
   "source": [
    "dices = [11,101,10001]\n",
    "import random\n",
    "n=12\n",
    "\n",
    "for dice in dices:\n",
    "    e_x = 0\n",
    "    for i in range(dice):\n",
    "        e_x += random.uniform(1,6) + random.uniform(1,6)\n",
    "    print(e_x/dice,': Erwartungswert bei',i,'Würfen')"
   ]
  },
  {
   "cell_type": "code",
   "execution_count": null,
   "id": "c8cb8165-0b92-4fbe-9308-21b15d3910e9",
   "metadata": {},
   "outputs": [],
   "source": []
  }
 ],
 "metadata": {
  "kernelspec": {
   "display_name": "Python 3 (ipykernel)",
   "language": "python",
   "name": "python3"
  },
  "language_info": {
   "codemirror_mode": {
    "name": "ipython",
    "version": 3
   },
   "file_extension": ".py",
   "mimetype": "text/x-python",
   "name": "python",
   "nbconvert_exporter": "python",
   "pygments_lexer": "ipython3",
   "version": "3.10.9"
  }
 },
 "nbformat": 4,
 "nbformat_minor": 5
}