{
 "cells": [
  {
   "cell_type": "code",
   "execution_count": 1,
   "id": "5c158535-9c08-4fcd-b7cd-a85304340e9e",
   "metadata": {},
   "outputs": [
    {
     "name": "stdout",
     "output_type": "stream",
     "text": [
      "Die Wahrscheinlichkeit einen Fehler 1ter Art zu begehen ist 0.05083044536950047\n"
     ]
    }
   ],
   "source": [
    "import math\n",
    "\n",
    "n = 100\n",
    "p = 0.98\n",
    "\n",
    "prob_total =  0\n",
    "for i in range(0,96):\n",
    "    prob = math.comb(n,i)*p**(i)*(1-p)**(n-i)\n",
    "    prob_total += prob\n",
    "    \n",
    "print('Die Wahrscheinlichkeit einen Fehler 1ter Art zu begehen ist',prob_total)"
   ]
  },
  {
   "cell_type": "code",
   "execution_count": 2,
   "id": "abf62de1-43b0-49f3-9d1c-620dea23c747",
   "metadata": {},
   "outputs": [
    {
     "name": "stdout",
     "output_type": "stream",
     "text": [
      "Die Wahrscheinlichkeit einen Fehler 1ter Art zu begehen ist 0.050830445369501875\n"
     ]
    }
   ],
   "source": [
    "n = 100\n",
    "p = 0.02\n",
    "\n",
    "prob_total =  0\n",
    "for i in range(0,5):\n",
    "    prob = math.comb(n,i)*p**(i)*(1-p)**(n-i)\n",
    "    prob_total += prob\n",
    "    \n",
    "print('Die Wahrscheinlichkeit einen Fehler 1ter Art zu begehen ist',1-prob_total)"
   ]
  },
  {
   "cell_type": "code",
   "execution_count": null,
   "id": "13a2213a-0789-4ec3-ae98-f58a869f81f0",
   "metadata": {},
   "outputs": [],
   "source": []
  }
 ],
 "metadata": {
  "kernelspec": {
   "display_name": "Python 3 (ipykernel)",
   "language": "python",
   "name": "python3"
  },
  "language_info": {
   "codemirror_mode": {
    "name": "ipython",
    "version": 3
   },
   "file_extension": ".py",
   "mimetype": "text/x-python",
   "name": "python",
   "nbconvert_exporter": "python",
   "pygments_lexer": "ipython3",
   "version": "3.10.9"
  }
 },
 "nbformat": 4,
 "nbformat_minor": 5
}