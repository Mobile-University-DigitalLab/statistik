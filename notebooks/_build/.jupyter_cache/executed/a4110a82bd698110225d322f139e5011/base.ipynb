{
 "cells": [
  {
   "cell_type": "code",
   "execution_count": 1,
   "id": "8764eeb7-825f-493a-85e4-0ff7805fce0f",
   "metadata": {},
   "outputs": [
    {
     "name": "stdout",
     "output_type": "stream",
     "text": [
      "1te Standardabweichung 0.6826894921370859\n",
      "2te Standardabweichung 0.9544997361036416\n",
      "3te Standardabweichung 0.9973002039367398\n"
     ]
    }
   ],
   "source": [
    "from scipy.stats import norm\n",
    "\n",
    "print('1te Standardabweichung',norm.cdf(0, loc=-2, scale=2)-norm.cdf(-4, loc=-2, scale=2))\n",
    "print('2te Standardabweichung',norm.cdf(2, loc=-2, scale=2)-norm.cdf(-6, loc=-2, scale=2))\n",
    "print('3te Standardabweichung',norm.cdf(4, loc=-2, scale=2)-norm.cdf(-8, loc=-2, scale=2))"
   ]
  },
  {
   "cell_type": "code",
   "execution_count": null,
   "id": "0dae07e7-2d6c-4306-af27-8e0fdfc80eb7",
   "metadata": {},
   "outputs": [],
   "source": []
  }
 ],
 "metadata": {
  "kernelspec": {
   "display_name": "Python 3 (ipykernel)",
   "language": "python",
   "name": "python3"
  },
  "language_info": {
   "codemirror_mode": {
    "name": "ipython",
    "version": 3
   },
   "file_extension": ".py",
   "mimetype": "text/x-python",
   "name": "python",
   "nbconvert_exporter": "python",
   "pygments_lexer": "ipython3",
   "version": "3.10.9"
  }
 },
 "nbformat": 4,
 "nbformat_minor": 5
}