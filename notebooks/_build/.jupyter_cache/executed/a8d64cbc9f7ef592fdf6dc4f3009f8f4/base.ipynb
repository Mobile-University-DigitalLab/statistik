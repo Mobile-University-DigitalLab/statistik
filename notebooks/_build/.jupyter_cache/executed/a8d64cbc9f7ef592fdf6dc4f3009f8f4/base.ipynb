{
 "cells": [
  {
   "cell_type": "code",
   "execution_count": 1,
   "id": "bbeb710a-fde9-4820-ae53-4d3445d7554a",
   "metadata": {
    "tags": [
     "remove-cell"
    ]
   },
   "outputs": [
    {
     "name": "stdout",
     "output_type": "stream",
     "text": [
      "\n",
      "---------------------------------\n",
      "Working on the host: imarevic-pc\n",
      "\n",
      "---------------------------------\n",
      "Python version: 3.10.9 | packaged by conda-forge | (main, Feb  2 2023, 20:20:04) [GCC 11.3.0]\n",
      "\n",
      "---------------------------------\n",
      "Python interpreter: /home/imarevic/anaconda3/envs/srh/bin/python\n"
     ]
    }
   ],
   "source": [
    "%matplotlib inline\n",
    "# Load the \"autoreload\" extension\n",
    "%load_ext autoreload\n",
    "# always reload modules\n",
    "%autoreload 2\n",
    "# black formatter for jupyter notebooks\n",
    "# %load_ext nb_black\n",
    "# black formatter for jupyter lab\n",
    "%load_ext lab_black\n",
    "\n",
    "%run ../../../src/notebook_env.py"
   ]
  },
  {
   "cell_type": "code",
   "execution_count": 2,
   "id": "b02e304f-2dc5-43d0-9d2c-3b1a7fb7a79e",
   "metadata": {},
   "outputs": [],
   "source": [
    "from scipy.stats import norm\n",
    "\n",
    "n = 100\n",
    "a = norm.rvs(loc=0, scale=2, size=n, random_state=1)\n",
    "b = norm.rvs(loc=1, scale=2, size=n, random_state=1)"
   ]
  },
  {
   "cell_type": "code",
   "execution_count": 3,
   "id": "f7872602-7669-45d7-b7b2-800f740f262c",
   "metadata": {
    "tags": [
     "hide-cell"
    ]
   },
   "outputs": [
    {
     "data": {
      "text/plain": [
       "True"
      ]
     },
     "execution_count": 3,
     "metadata": {},
     "output_type": "execute_result"
    }
   ],
   "source": [
    "from scipy import stats\n",
    "\n",
    "alpha = 0.01\n",
    "statistics, pvalue = stats.ttest_ind(a, b, equal_var=True)\n",
    "pvalue <= alpha"
   ]
  },
  {
   "cell_type": "code",
   "execution_count": 4,
   "id": "6edf1af4-21b0-483d-a784-1b306d2be8cb",
   "metadata": {
    "tags": [
     "hide-cell"
    ]
   },
   "outputs": [
    {
     "data": {
      "text/plain": [
       "True"
      ]
     },
     "execution_count": 4,
     "metadata": {},
     "output_type": "execute_result"
    }
   ],
   "source": [
    "statistics, pvalue = stats.ttest_ind(a, b, equal_var=True)\n",
    "# unterer kritischer Punkt\n",
    "lower = stats.t.ppf(alpha / 2, df=n - 1)\n",
    "# oberer kritischer Punkt\n",
    "upper = stats.t.ppf(1 - alpha / 2, df=n - 1)\n",
    "(statistics <= lower) or (statistics >= upper)"
   ]
  },
  {
   "cell_type": "code",
   "execution_count": null,
   "id": "f3d403e5-d10f-4026-9099-b973289e94e7",
   "metadata": {},
   "outputs": [],
   "source": []
  }
 ],
 "metadata": {
  "kernelspec": {
   "display_name": "Python 3 (ipykernel)",
   "language": "python",
   "name": "python3"
  },
  "language_info": {
   "codemirror_mode": {
    "name": "ipython",
    "version": 3
   },
   "file_extension": ".py",
   "mimetype": "text/x-python",
   "name": "python",
   "nbconvert_exporter": "python",
   "pygments_lexer": "ipython3",
   "version": "3.10.9"
  }
 },
 "nbformat": 4,
 "nbformat_minor": 5
}