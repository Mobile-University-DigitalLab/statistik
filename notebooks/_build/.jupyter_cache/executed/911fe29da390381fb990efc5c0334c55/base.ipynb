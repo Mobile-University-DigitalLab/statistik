{
 "cells": [
  {
   "cell_type": "code",
   "execution_count": 1,
   "id": "4dec4a0c-28ff-4b3d-a3ba-ef68fcdb8642",
   "metadata": {
    "tags": [
     "remove-cell"
    ]
   },
   "outputs": [
    {
     "name": "stdout",
     "output_type": "stream",
     "text": [
      "\n",
      "---------------------------------\n",
      "Working on the host: imarevic-pc\n",
      "\n",
      "---------------------------------\n",
      "Python version: 3.10.9 | packaged by conda-forge | (main, Feb  2 2023, 20:20:04) [GCC 11.3.0]\n",
      "\n",
      "---------------------------------\n",
      "Python interpreter: /home/imarevic/anaconda3/envs/srh/bin/python\n"
     ]
    }
   ],
   "source": [
    "%matplotlib inline\n",
    "# Load the \"autoreload\" extension\n",
    "%load_ext autoreload\n",
    "# always reload modules\n",
    "%autoreload 2\n",
    "# black formatter for jupyter notebooks\n",
    "# %load_ext nb_black\n",
    "# black formatter for jupyter lab\n",
    "%load_ext lab_black\n",
    "\n",
    "%run ../../src/notebook_env.py"
   ]
  },
  {
   "cell_type": "code",
   "execution_count": 2,
   "id": "c58a8c58-d7b0-4899-a269-b7180c809c1e",
   "metadata": {},
   "outputs": [],
   "source": [
    "import pandas as pd"
   ]
  },
  {
   "cell_type": "code",
   "execution_count": 3,
   "id": "08748c48-758d-46f2-bdf2-818c0bedd9d3",
   "metadata": {},
   "outputs": [
    {
     "name": "stdout",
     "output_type": "stream",
     "text": [
      "<class 'pandas.core.frame.DataFrame'>\n",
      "RangeIndex: 8239 entries, 0 to 8238\n",
      "Data columns (total 16 columns):\n",
      " #   Column           Non-Null Count  Dtype  \n",
      "---  ------           --------------  -----  \n",
      " 0   stud_id          8239 non-null   int64  \n",
      " 1   name             8239 non-null   object \n",
      " 2   gender           8239 non-null   object \n",
      " 3   age              8239 non-null   int64  \n",
      " 4   height           8239 non-null   int64  \n",
      " 5   weight           8239 non-null   float64\n",
      " 6   religion         8239 non-null   object \n",
      " 7   nc_score         8239 non-null   float64\n",
      " 8   semester         8239 non-null   object \n",
      " 9   major            8239 non-null   object \n",
      " 10  minor            8239 non-null   object \n",
      " 11  score1           4892 non-null   float64\n",
      " 12  score2           4892 non-null   float64\n",
      " 13  online_tutorial  8239 non-null   int64  \n",
      " 14  graduated        8239 non-null   int64  \n",
      " 15  salary           1753 non-null   float64\n",
      "dtypes: float64(5), int64(5), object(6)\n",
      "memory usage: 1.0+ MB\n"
     ]
    }
   ],
   "source": [
    "# Lese Datei students.csv als Dataframe ein\n",
    "df = pd.read_csv(\"../../data/students.csv\")\n",
    "df.info()"
   ]
  }
 ],
 "metadata": {
  "kernelspec": {
   "display_name": "Python 3 (ipykernel)",
   "language": "python",
   "name": "python3"
  },
  "language_info": {
   "codemirror_mode": {
    "name": "ipython",
    "version": 3
   },
   "file_extension": ".py",
   "mimetype": "text/x-python",
   "name": "python",
   "nbconvert_exporter": "python",
   "pygments_lexer": "ipython3",
   "version": "3.10.9"
  },
  "vscode": {
   "interpreter": {
    "hash": "a36818faf5a63422d892f0834edc6414f1b25ba9b5d6bbe87802a22f3b883f5c"
   }
  }
 },
 "nbformat": 4,
 "nbformat_minor": 5
}