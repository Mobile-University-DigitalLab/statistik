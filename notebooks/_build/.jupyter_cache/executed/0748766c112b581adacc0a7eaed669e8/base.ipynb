{
 "cells": [
  {
   "cell_type": "code",
   "execution_count": 1,
   "id": "a5b11107-979b-482a-8639-a49f0ea189c3",
   "metadata": {},
   "outputs": [],
   "source": [
    "def factorial1(n):\n",
    "    result = 1\n",
    "    for i in range(1, n+1):\n",
    "        result *= i\n",
    "    return result"
   ]
  },
  {
   "cell_type": "code",
   "execution_count": 2,
   "id": "1ff06e00-fec9-4fa1-8508-af49a8f06c94",
   "metadata": {},
   "outputs": [
    {
     "name": "stdout",
     "output_type": "stream",
     "text": [
      "1\n",
      "2\n",
      "6\n",
      "24\n",
      "120\n",
      "720\n",
      "5040\n"
     ]
    }
   ],
   "source": [
    "for i in range(1,8):\n",
    "    print(factorial1(i))"
   ]
  },
  {
   "cell_type": "code",
   "execution_count": 3,
   "id": "3556c4b1-b5d1-4994-9b3c-2c39e0d2712a",
   "metadata": {},
   "outputs": [],
   "source": [
    "def factorial2(n):\n",
    "    for i in range(1, n):\n",
    "        n *= i\n",
    "    return n"
   ]
  },
  {
   "cell_type": "code",
   "execution_count": 4,
   "id": "04ec6a8b-4367-4df2-882d-1614c8619b3f",
   "metadata": {},
   "outputs": [
    {
     "name": "stdout",
     "output_type": "stream",
     "text": [
      "1\n",
      "2\n",
      "6\n",
      "24\n",
      "120\n",
      "720\n",
      "5040\n"
     ]
    }
   ],
   "source": [
    "for i in range(1,8):\n",
    "    print(factorial2(i))"
   ]
  },
  {
   "cell_type": "code",
   "execution_count": 5,
   "id": "9d81e870-6858-4517-8759-e339cbae7650",
   "metadata": {},
   "outputs": [],
   "source": [
    "def factorial3(n):\n",
    "    z=1\n",
    "    if n>1:\n",
    "        z=n*factorial3(n-1)\n",
    "    return z"
   ]
  },
  {
   "cell_type": "code",
   "execution_count": 6,
   "id": "97b4ddf7-fad9-4e56-bd34-b436aecb0c66",
   "metadata": {},
   "outputs": [
    {
     "name": "stdout",
     "output_type": "stream",
     "text": [
      "1\n",
      "2\n",
      "6\n",
      "24\n",
      "120\n",
      "720\n",
      "5040\n"
     ]
    }
   ],
   "source": [
    "for i in range(1,8):    \n",
    "    print(factorial3(i))"
   ]
  },
  {
   "cell_type": "code",
   "execution_count": 7,
   "id": "26a49194-9e85-4aa2-888e-cfe94f2f610c",
   "metadata": {},
   "outputs": [],
   "source": [
    "def factorial4(n):\n",
    "    return n * factorial4(n - 1) if n else 1"
   ]
  },
  {
   "cell_type": "code",
   "execution_count": 8,
   "id": "0e44d388-4ca0-4bba-9918-8f3c9d09e8fa",
   "metadata": {},
   "outputs": [
    {
     "name": "stdout",
     "output_type": "stream",
     "text": [
      "1\n",
      "2\n",
      "6\n",
      "24\n",
      "120\n",
      "720\n",
      "5040\n"
     ]
    }
   ],
   "source": [
    "for i in range(1,8):\n",
    "    print(factorial4(i))"
   ]
  },
  {
   "cell_type": "code",
   "execution_count": null,
   "id": "b1e703f2-4259-47b6-aacb-ca1888fcc635",
   "metadata": {},
   "outputs": [],
   "source": []
  }
 ],
 "metadata": {
  "kernelspec": {
   "display_name": "Python 3 (ipykernel)",
   "language": "python",
   "name": "python3"
  },
  "language_info": {
   "codemirror_mode": {
    "name": "ipython",
    "version": 3
   },
   "file_extension": ".py",
   "mimetype": "text/x-python",
   "name": "python",
   "nbconvert_exporter": "python",
   "pygments_lexer": "ipython3",
   "version": "3.10.9"
  }
 },
 "nbformat": 4,
 "nbformat_minor": 5
}