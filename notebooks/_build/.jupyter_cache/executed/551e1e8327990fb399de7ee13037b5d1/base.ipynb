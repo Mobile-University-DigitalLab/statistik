{
 "cells": [
  {
   "cell_type": "code",
   "execution_count": 1,
   "id": "712987b4-80d8-4c6c-8320-387e5c7c94d6",
   "metadata": {},
   "outputs": [],
   "source": [
    "import matplotlib.pyplot as plt\n",
    "import numpy as np\n",
    "from numpy.random import seed\n",
    "from numpy.random import normal\n",
    "\n",
    "import pylab\n",
    "from scipy.stats import t\n",
    "from scipy.stats import norm\n",
    "from scipy.stats import uniform\n",
    "from scipy import stats\n",
    "from scipy.stats import f_oneway\n",
    "\n",
    "sample_dat4 = t.rvs(df = 33 , loc = 0.8 , scale = 0.8, size = 34,random_state = 1)\n",
    "sample_dat5 = t.rvs(df = 26 , loc = 0.5 , scale = 1.22, size = 27,random_state = 1)\n",
    "sample_dat6 = norm.rvs(loc=0,scale=1,size = 25,random_state = 1)"
   ]
  },
  {
   "cell_type": "code",
   "execution_count": 2,
   "id": "0662c594-c627-47ed-8a4e-a67e9ad43ac8",
   "metadata": {},
   "outputs": [
    {
     "name": "stdout",
     "output_type": "stream",
     "text": [
      "Ttest_indResult(statistic=0.788554534390895, pvalue=0.43352954136077515)\n",
      "**Reject:** False\n",
      "Ttest_indResult(statistic=3.8609096740424635, pvalue=0.00029080993613885025)\n",
      "**Reject:** True\n",
      "Ttest_indResult(statistic=2.091914696306178, pvalue=0.041544968988810896)\n",
      "**Reject:** True\n"
     ]
    }
   ],
   "source": [
    "alpha = 0.05\n",
    "\n",
    "print(stats.ttest_ind(sample_dat4,sample_dat5))\n",
    "statistics,p_value=stats.ttest_ind(sample_dat4,sample_dat5)\n",
    "print('**Reject:**', p_value <= alpha)\n",
    "                         \n",
    "print(stats.ttest_ind(sample_dat4,sample_dat6))\n",
    "statistics,p_value=stats.ttest_ind(sample_dat4,sample_dat6)\n",
    "print('**Reject:**', p_value <= alpha)\n",
    "                         \n",
    "print(stats.ttest_ind(sample_dat5,sample_dat6))\n",
    "statistics,p_value=stats.ttest_ind(sample_dat5,sample_dat6)\n",
    "print('**Reject:**', p_value <= alpha)\n",
    "                         "
   ]
  },
  {
   "cell_type": "code",
   "execution_count": 3,
   "id": "fc6fd7f8-7bc2-4c67-911d-8da98721a728",
   "metadata": {},
   "outputs": [
    {
     "name": "stdout",
     "output_type": "stream",
     "text": [
      "Ttest_indResult(statistic=0.788554534390895, pvalue=0.43352954136077515)\n",
      "**Reject:** False\n",
      "Ttest_indResult(statistic=3.8609096740424635, pvalue=0.00029080993613885025)\n",
      "**Reject:** True\n",
      "Ttest_indResult(statistic=2.091914696306178, pvalue=0.041544968988810896)\n",
      "**Reject:** False\n"
     ]
    }
   ],
   "source": [
    "alpha = 0.05/3\n",
    "\n",
    "print(stats.ttest_ind(sample_dat4,sample_dat5))\n",
    "statistics,p_value=stats.ttest_ind(sample_dat4,sample_dat5)\n",
    "print('**Reject:**', p_value <= alpha)\n",
    "                         \n",
    "print(stats.ttest_ind(sample_dat4,sample_dat6))\n",
    "statistics,p_value=stats.ttest_ind(sample_dat4,sample_dat6)\n",
    "print('**Reject:**', p_value <= alpha)\n",
    "                         \n",
    "print(stats.ttest_ind(sample_dat5,sample_dat6))\n",
    "statistics,p_value=stats.ttest_ind(sample_dat5,sample_dat6)\n",
    "print('**Reject:**', p_value <= alpha)\n",
    "                         "
   ]
  },
  {
   "cell_type": "code",
   "execution_count": null,
   "id": "0b6ce142-1742-452c-912d-b8b8c7353f71",
   "metadata": {},
   "outputs": [],
   "source": []
  }
 ],
 "metadata": {
  "kernelspec": {
   "display_name": "Python 3 (ipykernel)",
   "language": "python",
   "name": "python3"
  },
  "language_info": {
   "codemirror_mode": {
    "name": "ipython",
    "version": 3
   },
   "file_extension": ".py",
   "mimetype": "text/x-python",
   "name": "python",
   "nbconvert_exporter": "python",
   "pygments_lexer": "ipython3",
   "version": "3.10.9"
  }
 },
 "nbformat": 4,
 "nbformat_minor": 5
}