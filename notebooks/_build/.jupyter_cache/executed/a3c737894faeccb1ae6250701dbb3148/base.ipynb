{
 "cells": [
  {
   "cell_type": "code",
   "execution_count": 1,
   "id": "d4c03983-3aa6-4083-90e0-3d1d0ddc32e9",
   "metadata": {},
   "outputs": [
    {
     "name": "stdout",
     "output_type": "stream",
     "text": [
      "54.81 data_mean\n",
      "29.910096957382134 data_std\n"
     ]
    }
   ],
   "source": [
    "import numpy as np\n",
    "import random\n",
    "from random import seed\n",
    "\n",
    "# Erzeuge Random seed\n",
    "seed(1)\n",
    "data = []\n",
    "# Generiere Zufallszahlen\n",
    "for i in range(0,100):\n",
    "    n = random.randint(1,100)\n",
    "    data.append(n)\n",
    "\n",
    "# Berechne Mittelwert und Standardabweichung\n",
    "data_mean = np.mean(data)\n",
    "data_std = np.std(data)\n",
    "print(data_mean, 'data_mean')\n",
    "print(data_std, 'data_std')"
   ]
  },
  {
   "cell_type": "code",
   "execution_count": 2,
   "id": "bd3bebb5-f764-490f-b656-621bdb43362c",
   "metadata": {},
   "outputs": [
    {
     "name": "stdout",
     "output_type": "stream",
     "text": [
      "60.0 sample_mean\n",
      "36.40054944640259 sample_std\n"
     ]
    }
   ],
   "source": [
    "# Nehme Stichprobe\n",
    "n = 10\n",
    "sample_dat = random.sample(data,n)\n",
    "\n",
    "# Berechne Mittelwert und Standardabweichung\n",
    "sample_mean = np.mean(sample_dat)\n",
    "sample_std = np.std(sample_dat)\n",
    "print(sample_mean, 'sample_mean')\n",
    "print(sample_std, 'sample_std')"
   ]
  },
  {
   "cell_type": "code",
   "execution_count": 3,
   "id": "4d312ce2-3625-4925-b247-96de89d1d3e9",
   "metadata": {},
   "outputs": [
    {
     "data": {
      "text/plain": [
       "28.77061557304783"
      ]
     },
     "execution_count": 3,
     "metadata": {},
     "output_type": "execute_result"
    }
   ],
   "source": [
    "from scipy.stats import t\n",
    "lower = data_mean - t.ppf(1-0.05/2,df = n-1)*(sample_std/np.sqrt(n))\n",
    "lower"
   ]
  },
  {
   "cell_type": "code",
   "execution_count": 4,
   "id": "c4bb653a-18ae-40ba-b046-8c1081cdb84e",
   "metadata": {},
   "outputs": [
    {
     "data": {
      "text/plain": [
       "80.84938442695217"
      ]
     },
     "execution_count": 4,
     "metadata": {},
     "output_type": "execute_result"
    }
   ],
   "source": [
    "upper = data_mean + t.ppf(1-0.05/2,df = n-1)*(sample_std/np.sqrt(n))\n",
    "upper"
   ]
  },
  {
   "cell_type": "code",
   "execution_count": 5,
   "id": "46c8a6ac-ff48-471b-b357-79e22aae29c6",
   "metadata": {},
   "outputs": [
    {
     "name": "stdout",
     "output_type": "stream",
     "text": [
      "28.77061557304783 54.81 80.84938442695217\n"
     ]
    },
    {
     "data": {
      "text/plain": [
       "True"
      ]
     },
     "execution_count": 5,
     "metadata": {},
     "output_type": "execute_result"
    }
   ],
   "source": [
    "print(lower,data_mean,upper)\n",
    "lower <= data_mean and data_mean <= upper\n"
   ]
  },
  {
   "cell_type": "code",
   "execution_count": null,
   "id": "cab7bed2-8372-4605-ac4d-4ab665293471",
   "metadata": {},
   "outputs": [],
   "source": []
  }
 ],
 "metadata": {
  "kernelspec": {
   "display_name": "Python 3 (ipykernel)",
   "language": "python",
   "name": "python3"
  },
  "language_info": {
   "codemirror_mode": {
    "name": "ipython",
    "version": 3
   },
   "file_extension": ".py",
   "mimetype": "text/x-python",
   "name": "python",
   "nbconvert_exporter": "python",
   "pygments_lexer": "ipython3",
   "version": "3.10.9"
  }
 },
 "nbformat": 4,
 "nbformat_minor": 5
}