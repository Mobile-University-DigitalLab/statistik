{
 "cells": [
  {
   "cell_type": "code",
   "execution_count": 1,
   "id": "ea84ce27-abdf-42d6-831c-b57be95a8dcf",
   "metadata": {},
   "outputs": [
    {
     "name": "stdout",
     "output_type": "stream",
     "text": [
      "Der Erwartungswert zufälliger richtiger Antworten entspricht 2.5\n"
     ]
    }
   ],
   "source": [
    "import math\n",
    "\n",
    "n = 10\n",
    "p = 0.25\n",
    "\n",
    "prob_total =  0\n",
    "for i in range(11):\n",
    "    prob = math.comb(n,i)*p**(i)*(1-p)**(n-i)*i\n",
    "    prob_total += prob\n",
    "    \n",
    "print('Der Erwartungswert zufälliger richtiger Antworten entspricht',prob_total)"
   ]
  },
  {
   "cell_type": "code",
   "execution_count": 2,
   "id": "febf8da7-a667-4012-96e4-1cf775a9b7b2",
   "metadata": {},
   "outputs": [
    {
     "name": "stdout",
     "output_type": "stream",
     "text": [
      "Die Wahrscheinlichkeit 2 oder weniger Fehler zu machen beträgt  0.000415802001953125\n"
     ]
    }
   ],
   "source": [
    "n = 10\n",
    "p = 0.25\n",
    "\n",
    "prob_total =  0\n",
    "for i in range(8,11):\n",
    "    prob = math.comb(n,i)*p**(i)*(1-p)**(n-i)\n",
    "    prob_total += prob\n",
    "    \n",
    "print('Die Wahrscheinlichkeit 2 oder weniger Fehler zu machen beträgt ',prob_total)"
   ]
  },
  {
   "cell_type": "code",
   "execution_count": 3,
   "id": "37545462-7ad0-49f6-9c64-8fb4f41e2140",
   "metadata": {},
   "outputs": [
    {
     "name": "stdout",
     "output_type": "stream",
     "text": [
      "Die Wahrscheinlichkeit 5 oder weniger Fehler zu machen beträgt  0.07812690734863281\n"
     ]
    }
   ],
   "source": [
    "n = 10\n",
    "p = 0.25\n",
    "\n",
    "prob_total =  0\n",
    "for i in range(5,11):\n",
    "    prob = math.comb(n,i)*p**(i)*(1-p)**(n-i)\n",
    "    prob_total += prob\n",
    "    \n",
    "print('Die Wahrscheinlichkeit 5 oder weniger Fehler zu machen beträgt ',prob_total)"
   ]
  }
 ],
 "metadata": {
  "kernelspec": {
   "display_name": "Python 3 (ipykernel)",
   "language": "python",
   "name": "python3"
  },
  "language_info": {
   "codemirror_mode": {
    "name": "ipython",
    "version": 3
   },
   "file_extension": ".py",
   "mimetype": "text/x-python",
   "name": "python",
   "nbconvert_exporter": "python",
   "pygments_lexer": "ipython3",
   "version": "3.10.9"
  }
 },
 "nbformat": 4,
 "nbformat_minor": 5
}