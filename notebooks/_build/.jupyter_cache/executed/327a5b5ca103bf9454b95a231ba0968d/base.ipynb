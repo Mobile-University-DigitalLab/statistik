{
 "cells": [
  {
   "cell_type": "code",
   "execution_count": 1,
   "id": "6058eadc-3da0-4eda-be80-3cad9d58af8a",
   "metadata": {},
   "outputs": [],
   "source": [
    "a = (4.1, 5.6, 7.2, 1.7, 9.3, 4.4, 3.2)\n",
    "b = (4.1, 7.2, 1.7, 9.3, 4.4, 3.2)"
   ]
  },
  {
   "cell_type": "code",
   "execution_count": 2,
   "id": "d40989b3-f4ee-43ed-903b-60b1efddbd84",
   "metadata": {},
   "outputs": [
    {
     "name": "stdout",
     "output_type": "stream",
     "text": [
      "Datensatz : (4.1, 5.6, 7.2, 1.7, 9.3, 4.4, 3.2) Median : 4.4\n",
      "Datensatz : (4.1, 7.2, 1.7, 9.3, 4.4, 3.2) Median : 4.25\n"
     ]
    }
   ],
   "source": [
    "def median(array):\n",
    "    sortd = sorted(array)\n",
    "    alen = len(sortd)\n",
    "    return 0.5*( sortd[(alen-1)//2] + sortd[alen//2])\n",
    " \n",
    "print('Datensatz :',a, 'Median :', median(a))\n",
    "print('Datensatz :',b, 'Median :', median(b))"
   ]
  },
  {
   "cell_type": "code",
   "execution_count": null,
   "id": "b23514d3-5f5a-4928-9000-4d4771f41d03",
   "metadata": {},
   "outputs": [],
   "source": []
  }
 ],
 "metadata": {
  "kernelspec": {
   "display_name": "Python 3 (ipykernel)",
   "language": "python",
   "name": "python3"
  },
  "language_info": {
   "codemirror_mode": {
    "name": "ipython",
    "version": 3
   },
   "file_extension": ".py",
   "mimetype": "text/x-python",
   "name": "python",
   "nbconvert_exporter": "python",
   "pygments_lexer": "ipython3",
   "version": "3.10.9"
  }
 },
 "nbformat": 4,
 "nbformat_minor": 5
}