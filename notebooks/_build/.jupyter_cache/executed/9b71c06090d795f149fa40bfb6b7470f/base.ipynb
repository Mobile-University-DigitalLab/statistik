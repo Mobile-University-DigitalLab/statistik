{
 "cells": [
  {
   "cell_type": "code",
   "execution_count": 1,
   "id": "b02e304f-2dc5-43d0-9d2c-3b1a7fb7a79e",
   "metadata": {},
   "outputs": [],
   "source": [
    "from scipy.stats import norm\n",
    "from scipy.stats import t\n",
    "a = norm.rvs(loc=0, scale=2, size = 100,random_state = 1)\n",
    "b = norm.rvs(loc=1, scale=2, size = 100,random_state = 1)"
   ]
  },
  {
   "cell_type": "code",
   "execution_count": 2,
   "id": "5796fc91-fb7d-4792-bbaa-ea046bace219",
   "metadata": {},
   "outputs": [],
   "source": [
    "alpha = 0.01"
   ]
  },
  {
   "cell_type": "code",
   "execution_count": 3,
   "id": "f7872602-7669-45d7-b7b2-800f740f262c",
   "metadata": {},
   "outputs": [],
   "source": [
    "from scipy import stats\n",
    "statistics, pvalue = stats.ttest_ind(a, b, equal_var=True)"
   ]
  },
  {
   "cell_type": "code",
   "execution_count": 4,
   "id": "0970039b-67e8-402a-9513-b0e163ea6c6f",
   "metadata": {},
   "outputs": [
    {
     "data": {
      "text/plain": [
       "True"
      ]
     },
     "execution_count": 4,
     "metadata": {},
     "output_type": "execute_result"
    }
   ],
   "source": [
    "pvalue <= alpha"
   ]
  },
  {
   "cell_type": "code",
   "execution_count": 5,
   "id": "e2aa88cb-e769-47f0-9871-674b0697cd7d",
   "metadata": {},
   "outputs": [
    {
     "data": {
      "text/plain": [
       "9.887561821398659e-05"
      ]
     },
     "execution_count": 5,
     "metadata": {},
     "output_type": "execute_result"
    }
   ],
   "source": [
    "pvalue"
   ]
  },
  {
   "cell_type": "code",
   "execution_count": 6,
   "id": "6edf1af4-21b0-483d-a784-1b306d2be8cb",
   "metadata": {},
   "outputs": [],
   "source": [
    "statistics, pvalue = stats.ttest_ind(a, b, equal_var=True)"
   ]
  },
  {
   "cell_type": "code",
   "execution_count": 7,
   "id": "f1dbe28e-34d5-407d-a9c7-99d648372fc0",
   "metadata": {},
   "outputs": [],
   "source": [
    "# unterer kritischer Punkt\n",
    "lower = t.ppf(alpha/2,df = 99)"
   ]
  },
  {
   "cell_type": "code",
   "execution_count": 8,
   "id": "9386ca75-ef4b-43d0-a31f-6ab27eaac635",
   "metadata": {},
   "outputs": [],
   "source": [
    "# oberer kritischer Punkt\n",
    "upper = t.ppf(1-alpha/2,df = 99)"
   ]
  },
  {
   "cell_type": "code",
   "execution_count": 9,
   "id": "84a8ff75-985a-4c87-b124-fb943adcf3b9",
   "metadata": {},
   "outputs": [
    {
     "data": {
      "text/plain": [
       "True"
      ]
     },
     "execution_count": 9,
     "metadata": {},
     "output_type": "execute_result"
    }
   ],
   "source": [
    "statistics <= lower "
   ]
  },
  {
   "cell_type": "code",
   "execution_count": 10,
   "id": "43a3c045-0217-49a3-83fd-870e9bfc2bce",
   "metadata": {},
   "outputs": [
    {
     "data": {
      "text/plain": [
       "False"
      ]
     },
     "execution_count": 10,
     "metadata": {},
     "output_type": "execute_result"
    }
   ],
   "source": [
    "statistics >= upper "
   ]
  },
  {
   "cell_type": "code",
   "execution_count": null,
   "id": "fda33a63-d9a4-4733-ad3a-ed5fd665d52d",
   "metadata": {},
   "outputs": [],
   "source": []
  }
 ],
 "metadata": {
  "kernelspec": {
   "display_name": "Python 3 (ipykernel)",
   "language": "python",
   "name": "python3"
  },
  "language_info": {
   "codemirror_mode": {
    "name": "ipython",
    "version": 3
   },
   "file_extension": ".py",
   "mimetype": "text/x-python",
   "name": "python",
   "nbconvert_exporter": "python",
   "pygments_lexer": "ipython3",
   "version": "3.10.9"
  }
 },
 "nbformat": 4,
 "nbformat_minor": 5
}