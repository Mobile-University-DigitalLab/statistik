{
 "cells": [
  {
   "cell_type": "code",
   "execution_count": 1,
   "id": "ae281efc-17a7-4ba0-90c3-6a4a3b9a953a",
   "metadata": {
    "tags": [
     "remove-cell"
    ]
   },
   "outputs": [
    {
     "name": "stdout",
     "output_type": "stream",
     "text": [
      "\n",
      "---------------------------------\n",
      "Working on the host: imarevic-pc\n",
      "\n",
      "---------------------------------\n",
      "Python version: 3.10.9 | packaged by conda-forge | (main, Feb  2 2023, 20:20:04) [GCC 11.3.0]\n",
      "\n",
      "---------------------------------\n",
      "Python interpreter: /home/imarevic/anaconda3/envs/srh/bin/python\n"
     ]
    }
   ],
   "source": [
    "%matplotlib inline\n",
    "# Load the \"autoreload\" extension\n",
    "%load_ext autoreload\n",
    "# always reload modules\n",
    "%autoreload 2\n",
    "# black formatter for jupyter notebooks\n",
    "# %load_ext nb_black\n",
    "# black formatter for jupyter lab\n",
    "%load_ext lab_black\n",
    "\n",
    "%run ../../../src/notebook_env.py"
   ]
  },
  {
   "cell_type": "code",
   "execution_count": 2,
   "id": "f994a80e-009e-4d84-80c4-b79530239e90",
   "metadata": {},
   "outputs": [],
   "source": [
    "# Frage 3 ..."
   ]
  },
  {
   "cell_type": "code",
   "execution_count": 3,
   "id": "57083d27-b351-4cde-bea9-0fda63775a76",
   "metadata": {},
   "outputs": [],
   "source": [
    "# Frage 4 ..."
   ]
  },
  {
   "cell_type": "code",
   "execution_count": 4,
   "id": "655db0da-f836-4e10-ae1f-6250ba558d15",
   "metadata": {
    "tags": [
     "hide-cell"
    ]
   },
   "outputs": [
    {
     "data": {
      "text/plain": [
       "1.9487919163239615"
      ]
     },
     "execution_count": 4,
     "metadata": {},
     "output_type": "execute_result"
    }
   ],
   "source": [
    "import numpy as np\n",
    "\n",
    "n_1 = 15\n",
    "n_2 = 12\n",
    "mu_1 = 61\n",
    "mu_2 = 48.4\n",
    "s_1 = 15.5\n",
    "s_2 = 18.1\n",
    "\n",
    "s_g = np.sqrt(((n_1 - 1) * s_1**2 + (n_2 - 1) * s_2**2) / (n_1 + n_2 - 2))\n",
    "t_stat = (mu_1 - mu_2) / (s_g * np.sqrt(1 / n_1 + 1 / n_2))\n",
    "t_stat"
   ]
  },
  {
   "cell_type": "code",
   "execution_count": 5,
   "id": "47252ff2-1023-46a8-9580-26e35db759e7",
   "metadata": {
    "tags": [
     "hide-cell"
    ]
   },
   "outputs": [
    {
     "name": "stdout",
     "output_type": "stream",
     "text": [
      "Kritischer Wert: 2.4851071754106413\n"
     ]
    },
    {
     "data": {
      "text/plain": [
       "False"
      ]
     },
     "execution_count": 5,
     "metadata": {},
     "output_type": "execute_result"
    }
   ],
   "source": [
    "from scipy.stats import t\n",
    "\n",
    "alpha = 0.01\n",
    "df = 25\n",
    "critical = t.ppf(1 - alpha, df=df)\n",
    "print(f\"Kritischer Wert: {critical}\")\n",
    "t_stat >= critical"
   ]
  },
  {
   "cell_type": "code",
   "execution_count": null,
   "id": "6740df82-29aa-4636-a3df-9d0fead3c38f",
   "metadata": {},
   "outputs": [],
   "source": []
  }
 ],
 "metadata": {
  "kernelspec": {
   "display_name": "Python 3 (ipykernel)",
   "language": "python",
   "name": "python3"
  },
  "language_info": {
   "codemirror_mode": {
    "name": "ipython",
    "version": 3
   },
   "file_extension": ".py",
   "mimetype": "text/x-python",
   "name": "python",
   "nbconvert_exporter": "python",
   "pygments_lexer": "ipython3",
   "version": "3.10.9"
  }
 },
 "nbformat": 4,
 "nbformat_minor": 5
}