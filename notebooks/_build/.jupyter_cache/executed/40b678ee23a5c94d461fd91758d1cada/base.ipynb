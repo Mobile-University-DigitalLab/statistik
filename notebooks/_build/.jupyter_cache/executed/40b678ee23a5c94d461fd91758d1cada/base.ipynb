{
 "cells": [
  {
   "cell_type": "code",
   "execution_count": 1,
   "id": "655db0da-f836-4e10-ae1f-6250ba558d15",
   "metadata": {},
   "outputs": [
    {
     "data": {
      "text/plain": [
       "16.693962980670587"
      ]
     },
     "execution_count": 1,
     "metadata": {},
     "output_type": "execute_result"
    }
   ],
   "source": [
    "import numpy as np\n",
    "n_1 = 15\n",
    "n_2 = 12\n",
    "mu_1 = 61\n",
    "mu_2 = 48.4\n",
    "s_1 = 15.5\n",
    "s_2 = 18.1\n",
    "\n",
    "s_g = np.sqrt(((n_1-1)*s_1**2+(n_2-1)*s_2**2)/(n_1+n_2-2))\n",
    "s_g"
   ]
  },
  {
   "cell_type": "code",
   "execution_count": 2,
   "id": "a270a7f0-57df-4dbd-b5f3-e729537c02c6",
   "metadata": {},
   "outputs": [
    {
     "data": {
      "text/plain": [
       "1.9487919163239615"
      ]
     },
     "execution_count": 2,
     "metadata": {},
     "output_type": "execute_result"
    }
   ],
   "source": [
    "t_stat = (mu_1-mu_2)/(s_g*np.sqrt(1/n_1+1/n_2))\n",
    "t_stat"
   ]
  },
  {
   "cell_type": "code",
   "execution_count": 3,
   "id": "47252ff2-1023-46a8-9580-26e35db759e7",
   "metadata": {},
   "outputs": [
    {
     "data": {
      "text/plain": [
       "2.4851071754106413"
      ]
     },
     "execution_count": 3,
     "metadata": {},
     "output_type": "execute_result"
    }
   ],
   "source": [
    "from scipy.stats import t\n",
    "alpha = 0.01\n",
    "df = 25\n",
    "critical = t.ppf(1-alpha,df=25)\n",
    "critical"
   ]
  },
  {
   "cell_type": "code",
   "execution_count": 4,
   "id": "92b11686-83fd-48ed-a47f-755e77762bd7",
   "metadata": {},
   "outputs": [
    {
     "data": {
      "text/plain": [
       "False"
      ]
     },
     "execution_count": 4,
     "metadata": {},
     "output_type": "execute_result"
    }
   ],
   "source": [
    "t_stat >= critical "
   ]
  },
  {
   "cell_type": "code",
   "execution_count": null,
   "id": "a9f1cca2-cd2d-4856-b9ea-9e68f0e5775a",
   "metadata": {},
   "outputs": [],
   "source": []
  }
 ],
 "metadata": {
  "kernelspec": {
   "display_name": "Python 3 (ipykernel)",
   "language": "python",
   "name": "python3"
  },
  "language_info": {
   "codemirror_mode": {
    "name": "ipython",
    "version": 3
   },
   "file_extension": ".py",
   "mimetype": "text/x-python",
   "name": "python",
   "nbconvert_exporter": "python",
   "pygments_lexer": "ipython3",
   "version": "3.10.9"
  }
 },
 "nbformat": 4,
 "nbformat_minor": 5
}