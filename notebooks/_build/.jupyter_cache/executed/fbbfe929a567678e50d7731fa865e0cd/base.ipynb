{
 "cells": [
  {
   "cell_type": "code",
   "execution_count": 1,
   "id": "7d75c8ab-1bcd-4259-adb7-f1d328f10c96",
   "metadata": {
    "tags": [
     "remove-cell"
    ]
   },
   "outputs": [
    {
     "name": "stdout",
     "output_type": "stream",
     "text": [
      "\n",
      "---------------------------------\n",
      "Working on the host: imarevic-pc\n",
      "\n",
      "---------------------------------\n",
      "Python version: 3.10.9 | packaged by conda-forge | (main, Feb  2 2023, 20:20:04) [GCC 11.3.0]\n",
      "\n",
      "---------------------------------\n",
      "Python interpreter: /home/imarevic/anaconda3/envs/srh/bin/python\n"
     ]
    }
   ],
   "source": [
    "%matplotlib inline\n",
    "# Load the \"autoreload\" extension\n",
    "%load_ext autoreload\n",
    "# always reload modules\n",
    "%autoreload 2\n",
    "# black formatter for jupyter notebooks\n",
    "# %load_ext nb_black\n",
    "# black formatter for jupyter lab\n",
    "%load_ext lab_black\n",
    "\n",
    "%run ../../../src/notebook_env.py"
   ]
  },
  {
   "cell_type": "code",
   "execution_count": 2,
   "id": "094a1a80",
   "metadata": {},
   "outputs": [],
   "source": [
    "# Frage 1 ..."
   ]
  },
  {
   "cell_type": "code",
   "execution_count": 3,
   "id": "91d44098",
   "metadata": {},
   "outputs": [],
   "source": [
    "# Frage 2 ..."
   ]
  },
  {
   "cell_type": "code",
   "execution_count": 4,
   "id": "6cc6641c",
   "metadata": {},
   "outputs": [],
   "source": [
    "# Frage 3 ..."
   ]
  }
 ],
 "metadata": {
  "kernelspec": {
   "display_name": "Python 3 (ipykernel)",
   "language": "python",
   "name": "python3"
  },
  "language_info": {
   "codemirror_mode": {
    "name": "ipython",
    "version": 3
   },
   "file_extension": ".py",
   "mimetype": "text/x-python",
   "name": "python",
   "nbconvert_exporter": "python",
   "pygments_lexer": "ipython3",
   "version": "3.10.9"
  },
  "vscode": {
   "interpreter": {
    "hash": "a36818faf5a63422d892f0834edc6414f1b25ba9b5d6bbe87802a22f3b883f5c"
   }
  }
 },
 "nbformat": 4,
 "nbformat_minor": 5
}