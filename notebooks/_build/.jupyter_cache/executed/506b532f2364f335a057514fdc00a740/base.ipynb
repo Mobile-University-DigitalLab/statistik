{
 "cells": [
  {
   "cell_type": "code",
   "execution_count": 1,
   "id": "757e0b7b-17cb-4a3a-866a-ad80bf4f140d",
   "metadata": {
    "tags": [
     "remove-cell"
    ]
   },
   "outputs": [
    {
     "name": "stdout",
     "output_type": "stream",
     "text": [
      "\n",
      "---------------------------------\n",
      "Working on the host: imarevic-pc\n",
      "\n",
      "---------------------------------\n",
      "Python version: 3.10.9 | packaged by conda-forge | (main, Feb  2 2023, 20:20:04) [GCC 11.3.0]\n",
      "\n",
      "---------------------------------\n",
      "Python interpreter: /home/imarevic/anaconda3/envs/srh/bin/python\n"
     ]
    }
   ],
   "source": [
    "%matplotlib inline\n",
    "# Load the \"autoreload\" extension\n",
    "%load_ext autoreload\n",
    "# always reload modules\n",
    "%autoreload 2\n",
    "# black formatter for jupyter notebooks\n",
    "# %load_ext nb_black\n",
    "# black formatter for jupyter lab\n",
    "%load_ext lab_black\n",
    "\n",
    "%run ../../../src/notebook_env.py"
   ]
  },
  {
   "cell_type": "code",
   "execution_count": 2,
   "id": "6d9679de-cb82-4120-b629-a513abed9654",
   "metadata": {},
   "outputs": [],
   "source": [
    "from scipy.stats import norm, t\n",
    "\n",
    "rs = 1\n",
    "sample_dat1 = t.rvs(df=33, loc=0.8, scale=0.8, size=34, random_state=rs)\n",
    "sample_dat2 = t.rvs(df=26, loc=0.5, scale=1.22, size=27, random_state=rs)\n",
    "sample_dat3 = norm.rvs(loc=0, scale=1, size=25, random_state=rs)"
   ]
  },
  {
   "cell_type": "code",
   "execution_count": 3,
   "id": "c5184c34-9136-49eb-b739-fb76da2aad82",
   "metadata": {},
   "outputs": [],
   "source": [
    "# Frage 1 ..."
   ]
  },
  {
   "cell_type": "code",
   "execution_count": 4,
   "id": "3aa702bd-9ee3-47fe-ada3-89fcdc9ffdf1",
   "metadata": {
    "tags": [
     "hide-cell"
    ]
   },
   "outputs": [
    {
     "name": "stdout",
     "output_type": "stream",
     "text": [
      "Bonferroni Korrektur: 0.016666666666666666\n",
      "Reject H0: False\n",
      "Reject H0: True\n",
      "Reject H0: False\n"
     ]
    }
   ],
   "source": [
    "from scipy.stats import ttest_ind\n",
    "\n",
    "alpha = 0.05\n",
    "k = 3\n",
    "m = k * (k - 1) / 2\n",
    "bonf = alpha / m\n",
    "print(f\"Bonferroni Korrektur: {bonf}\")\n",
    "\n",
    "combinations = [\n",
    "    (sample_dat1, sample_dat2),\n",
    "    (sample_dat1, sample_dat3),\n",
    "    (sample_dat2, sample_dat3),\n",
    "]\n",
    "\n",
    "for combination in combinations:\n",
    "    statistics, p_value = ttest_ind(combination[0], combination[1])\n",
    "    print(f\"Reject H0: {p_value <= bonf}\")"
   ]
  }
 ],
 "metadata": {
  "kernelspec": {
   "display_name": "Python 3 (ipykernel)",
   "language": "python",
   "name": "python3"
  },
  "language_info": {
   "codemirror_mode": {
    "name": "ipython",
    "version": 3
   },
   "file_extension": ".py",
   "mimetype": "text/x-python",
   "name": "python",
   "nbconvert_exporter": "python",
   "pygments_lexer": "ipython3",
   "version": "3.10.9"
  }
 },
 "nbformat": 4,
 "nbformat_minor": 5
}