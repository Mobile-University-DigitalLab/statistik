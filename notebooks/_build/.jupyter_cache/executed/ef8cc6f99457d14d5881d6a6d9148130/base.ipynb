{
 "cells": [
  {
   "cell_type": "code",
   "execution_count": 1,
   "id": "e5e01299-b4e3-4722-9d51-11e62338f66c",
   "metadata": {
    "tags": [
     "remove-cell"
    ]
   },
   "outputs": [
    {
     "name": "stdout",
     "output_type": "stream",
     "text": [
      "\n",
      "---------------------------------\n",
      "Working on the host: imarevic-pc\n",
      "\n",
      "---------------------------------\n",
      "Python version: 3.10.9 | packaged by conda-forge | (main, Feb  2 2023, 20:20:04) [GCC 11.3.0]\n",
      "\n",
      "---------------------------------\n",
      "Python interpreter: /home/imarevic/anaconda3/envs/srh/bin/python\n"
     ]
    }
   ],
   "source": [
    "%matplotlib inline\n",
    "# Load the \"autoreload\" extension\n",
    "%load_ext autoreload\n",
    "# always reload modules\n",
    "%autoreload 2\n",
    "# black formatter for jupyter notebooks\n",
    "# %load_ext nb_black\n",
    "# black formatter for jupyter lab\n",
    "%load_ext lab_black\n",
    "\n",
    "%run ../../../src/notebook_env.py"
   ]
  },
  {
   "cell_type": "code",
   "execution_count": 2,
   "id": "9489f6da-0d84-450a-a72d-3c4df8a41b33",
   "metadata": {},
   "outputs": [],
   "source": [
    "# Frage 2 ..."
   ]
  },
  {
   "cell_type": "code",
   "execution_count": 3,
   "id": "301da70f-6b08-42a2-8513-a805d8503152",
   "metadata": {},
   "outputs": [],
   "source": [
    "# Frage 3 ..."
   ]
  },
  {
   "cell_type": "code",
   "execution_count": 4,
   "id": "d4c03983-3aa6-4083-90e0-3d1d0ddc32e9",
   "metadata": {
    "tags": [
     "hide-cell"
    ]
   },
   "outputs": [
    {
     "name": "stdout",
     "output_type": "stream",
     "text": [
      "Mittelwert: -0.83\n",
      "Standardabweichung: 59.96016260818511\n"
     ]
    }
   ],
   "source": [
    "import numpy as np\n",
    "\n",
    "# Erzeuge Random seed\n",
    "np.random.seed(1)\n",
    "data = []\n",
    "# Generiere Zufallszahlen\n",
    "np.random.seed(42)\n",
    "data = [np.random.randint(-100, 100) for x in range(100)]\n",
    "\n",
    "# Berechne Mittelwert und Standardabweichung\n",
    "data_mean = np.mean(data)\n",
    "print(f\"Mittelwert: {data_mean}\")\n",
    "data_std = np.std(data)\n",
    "print(f\"Standardabweichung: {data_std}\")"
   ]
  },
  {
   "cell_type": "code",
   "execution_count": 5,
   "id": "bd3bebb5-f764-490f-b656-621bdb43362c",
   "metadata": {
    "tags": [
     "hide-cell"
    ]
   },
   "outputs": [
    {
     "name": "stdout",
     "output_type": "stream",
     "text": [
      "Mittelwert der Stichprobe: 9.4\n",
      "Standardabweichung der Stichprobe: 9.4\n",
      "Lower: -38.457 <= Sample mean: 9.4 <= Upper: 36.797\n"
     ]
    }
   ],
   "source": [
    "import random\n",
    "from scipy.stats import t\n",
    "\n",
    "# Nehme Stichprobe\n",
    "n = 10\n",
    "np.random.seed(42)\n",
    "sample = random.sample(data, n)\n",
    "\n",
    "# Berechne Mittelwert und Standardabweichung der Stichprobe\n",
    "sample_mean = np.mean(sample)\n",
    "print(f\"Mittelwert der Stichprobe: {sample_mean}\")\n",
    "sample_std = np.std(sample)\n",
    "print(f\"Standardabweichung der Stichprobe: {sample_mean}\")\n",
    "\n",
    "alpha = 0.05\n",
    "lower = data_mean - t.ppf(1 - alpha / 2, df=n - 1) * (sample_std / np.sqrt(n))\n",
    "upper = data_mean + t.ppf(1 - alpha / 2, df=n - 1) * (sample_std / np.sqrt(n))\n",
    "print(\n",
    "    f\"Lower: {round(lower,3)} <= Sample mean: {sample_mean} <= Upper: {round(upper,3)}\"\n",
    ")\n",
    "\n",
    "assert lower <= data_mean and data_mean <= upper"
   ]
  }
 ],
 "metadata": {
  "kernelspec": {
   "display_name": "Python 3 (ipykernel)",
   "language": "python",
   "name": "python3"
  },
  "language_info": {
   "codemirror_mode": {
    "name": "ipython",
    "version": 3
   },
   "file_extension": ".py",
   "mimetype": "text/x-python",
   "name": "python",
   "nbconvert_exporter": "python",
   "pygments_lexer": "ipython3",
   "version": "3.10.9"
  }
 },
 "nbformat": 4,
 "nbformat_minor": 5
}