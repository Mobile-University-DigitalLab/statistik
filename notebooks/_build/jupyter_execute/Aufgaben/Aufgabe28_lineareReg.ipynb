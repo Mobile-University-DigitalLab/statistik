{
 "cells": [
  {
   "cell_type": "markdown",
   "id": "f7582b0a-7a90-4f4d-9bab-69560a1c4c37",
   "metadata": {},
   "source": [
    "-------------------------------------------------------\n",
    "-------------------------------------------------------\n",
    "### Kapitel 8\n",
    "### Aufgabenstellung 28 : Lineare Regression\n",
    "\n",
    "-------------------------------------------------------\n",
    "-------------------------------------------------------"
   ]
  },
  {
   "cell_type": "markdown",
   "id": "1802e1d0-f05d-4d11-ba6b-7c77a0f1cdc7",
   "metadata": {},
   "source": [
    "Führen Sie eine lineare Regression für die folgenden Daten (`x,y`) durch:"
   ]
  },
  {
   "cell_type": "code",
   "execution_count": 1,
   "id": "b6123cac-fd0d-4b1c-8d80-7adfa8f8ccf9",
   "metadata": {},
   "outputs": [],
   "source": [
    "import numpy as np\n",
    "noise = np.random.normal(0,1.4,10)\n",
    "x = np.arange(0,10,1) \n",
    "y = 2*x + noise"
   ]
  },
  {
   "cell_type": "markdown",
   "id": "5ca576d5-5ad3-48cd-860b-4412763ad08e",
   "metadata": {},
   "source": [
    "und stellen Sie die Regressionsgerade und die Daten graphisch dar."
   ]
  },
  {
   "cell_type": "markdown",
   "id": "cf76f553-dbee-49ef-a67c-4cd6ff12473d",
   "metadata": {},
   "source": [
    "-------------------------------------------------------"
   ]
  },
  {
   "cell_type": "markdown",
   "id": "43c0ead5-6ab2-4136-b840-b4a8470ce58b",
   "metadata": {},
   "source": [
    "### Lösung"
   ]
  },
  {
   "cell_type": "code",
   "execution_count": 2,
   "id": "8cae3092-9f17-4f7b-b417-d69460a8fe5e",
   "metadata": {},
   "outputs": [],
   "source": [
    "import matplotlib.pyplot as plt\n",
    "import statsmodels.api as sm"
   ]
  },
  {
   "cell_type": "code",
   "execution_count": 3,
   "id": "70be9361-5e97-4bd8-996b-0787d28c2dd8",
   "metadata": {},
   "outputs": [],
   "source": [
    "noise = np.random.normal(0,1.4,10)\n",
    "x = np.arange(0,10,1) \n",
    "y = 2*x + noise"
   ]
  },
  {
   "cell_type": "code",
   "execution_count": 4,
   "id": "872bf993-4314-4af2-b178-47c3b632c2d8",
   "metadata": {},
   "outputs": [
    {
     "data": {
      "text/plain": [
       "<matplotlib.collections.PathCollection at 0x7f0a04ca0ee0>"
      ]
     },
     "execution_count": 4,
     "metadata": {},
     "output_type": "execute_result"
    },
    {
     "data": {
      "image/png": "[encoded data removed]",
      "text/plain": [
       "<Figure size 432x288 with 1 Axes>"
      ]
     },
     "metadata": {
      "filenames": {
       "image/png": "/home/imarevic/Documents/teaching/SRH/content/srh-data-science/notebooks/_build/jupyter_execute/Aufgaben/Aufgabe28_lineareReg_8_1.png"
      },
      "needs_background": "light"
     },
     "output_type": "display_data"
    }
   ],
   "source": [
    "plt.scatter(x,y)"
   ]
  },
  {
   "cell_type": "code",
   "execution_count": 5,
   "id": "a373f27a-89d6-4049-b694-cd4200dbea1f",
   "metadata": {},
   "outputs": [
    {
     "data": {
      "text/plain": [
       "[<matplotlib.lines.Line2D at 0x7f0a02bbe9b0>]"
      ]
     },
     "execution_count": 5,
     "metadata": {},
     "output_type": "execute_result"
    },
    {
     "data": {
      "image/png": "[encoded data removed]",
      "text/plain": [
       "<Figure size 432x288 with 1 Axes>"
      ]
     },
     "metadata": {
      "filenames": {
       "image/png": "/home/imarevic/Documents/teaching/SRH/content/srh-data-science/notebooks/_build/jupyter_execute/Aufgaben/Aufgabe28_lineareReg_9_1.png"
      },
      "needs_background": "light"
     },
     "output_type": "display_data"
    }
   ],
   "source": [
    "# Fitte das Modell\n",
    "x2 = sm.add_constant(x)\n",
    "model = sm.OLS(y, x2).fit()\n",
    "# Definiere x-Achse\n",
    "x_axis = sm.add_constant(np.linspace(0,10,50))\n",
    "# Berechne Regressionsgerade\n",
    "y_reg = model.predict(x_axis)\n",
    "plt.scatter(x,y)\n",
    "plt.plot(np.linspace(0,10,50),y_reg,color = 'red')"
   ]
  },
  {
   "cell_type": "code",
   "execution_count": null,
   "id": "39475bc8-837b-4679-bf27-86928e9fb4d1",
   "metadata": {},
   "outputs": [],
   "source": []
  }
 ],
 "metadata": {
  "kernelspec": {
   "display_name": "Python 3 (ipykernel)",
   "language": "python",
   "name": "python3"
  },
  "language_info": {
   "codemirror_mode": {
    "name": "ipython",
    "version": 3
   },
   "file_extension": ".py",
   "mimetype": "text/x-python",
   "name": "python",
   "nbconvert_exporter": "python",
   "pygments_lexer": "ipython3",
   "version": "3.10.9"
  }
 },
 "nbformat": 4,
 "nbformat_minor": 5
}