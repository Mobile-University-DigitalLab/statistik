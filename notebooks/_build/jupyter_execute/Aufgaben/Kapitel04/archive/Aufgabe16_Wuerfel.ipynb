{
 "cells": [
  {
   "cell_type": "code",
   "execution_count": 1,
   "id": "d40c0770-6c29-4f1f-9fe4-a6731c9980d1",
   "metadata": {
    "tags": [
     "remove-cell"
    ]
   },
   "outputs": [
    {
     "ename": "Exception",
     "evalue": "File `'../src/notebook_env.py'` not found.",
     "output_type": "error",
     "traceback": [
      "\u001b[0;31m---------------------------------------------------------------------------\u001b[0m",
      "\u001b[0;31mOSError\u001b[0m                                   Traceback (most recent call last)",
      "File \u001b[0;32m~/Documents/teaching/SRH/content/statistik/statistik-env/lib/python3.10/site-packages/IPython/core/magics/execution.py:716\u001b[0m, in \u001b[0;36mExecutionMagics.run\u001b[0;34m(self, parameter_s, runner, file_finder)\u001b[0m\n\u001b[1;32m    715\u001b[0m     fpath \u001b[38;5;241m=\u001b[39m arg_lst[\u001b[38;5;241m0\u001b[39m]\n\u001b[0;32m--> 716\u001b[0m     filename \u001b[38;5;241m=\u001b[39m \u001b[43mfile_finder\u001b[49m\u001b[43m(\u001b[49m\u001b[43mfpath\u001b[49m\u001b[43m)\u001b[49m\n\u001b[1;32m    717\u001b[0m \u001b[38;5;28;01mexcept\u001b[39;00m \u001b[38;5;167;01mIndexError\u001b[39;00m \u001b[38;5;28;01mas\u001b[39;00m e:\n",
      "File \u001b[0;32m~/Documents/teaching/SRH/content/statistik/statistik-env/lib/python3.10/site-packages/IPython/utils/path.py:91\u001b[0m, in \u001b[0;36mget_py_filename\u001b[0;34m(name)\u001b[0m\n\u001b[1;32m     90\u001b[0m         \u001b[38;5;28;01mreturn\u001b[39;00m py_name\n\u001b[0;32m---> 91\u001b[0m \u001b[38;5;28;01mraise\u001b[39;00m \u001b[38;5;167;01mIOError\u001b[39;00m(\u001b[38;5;124m\"\u001b[39m\u001b[38;5;124mFile `\u001b[39m\u001b[38;5;132;01m%r\u001b[39;00m\u001b[38;5;124m` not found.\u001b[39m\u001b[38;5;124m\"\u001b[39m \u001b[38;5;241m%\u001b[39m name)\n",
      "\u001b[0;31mOSError\u001b[0m: File `'../src/notebook_env.py'` not found.",
      "\nThe above exception was the direct cause of the following exception:\n",
      "\u001b[0;31mException\u001b[0m                                 Traceback (most recent call last)",
      "Cell \u001b[0;32mIn[1], line 11\u001b[0m\n\u001b[1;32m      6\u001b[0m \u001b[38;5;66;03m# black formatter for jupyter notebooks\u001b[39;00m\n\u001b[1;32m      7\u001b[0m \u001b[38;5;66;03m#%load_ext nb_black\u001b[39;00m\n\u001b[1;32m      8\u001b[0m \u001b[38;5;66;03m# black formatter for jupyter lab\u001b[39;00m\n\u001b[1;32m      9\u001b[0m get_ipython()\u001b[38;5;241m.\u001b[39mrun_line_magic(\u001b[38;5;124m'\u001b[39m\u001b[38;5;124mload_ext\u001b[39m\u001b[38;5;124m'\u001b[39m, \u001b[38;5;124m'\u001b[39m\u001b[38;5;124mlab_black\u001b[39m\u001b[38;5;124m'\u001b[39m)\n\u001b[0;32m---> 11\u001b[0m \u001b[43mget_ipython\u001b[49m\u001b[43m(\u001b[49m\u001b[43m)\u001b[49m\u001b[38;5;241;43m.\u001b[39;49m\u001b[43mrun_line_magic\u001b[49m\u001b[43m(\u001b[49m\u001b[38;5;124;43m'\u001b[39;49m\u001b[38;5;124;43mrun\u001b[39;49m\u001b[38;5;124;43m'\u001b[39;49m\u001b[43m,\u001b[49m\u001b[43m \u001b[49m\u001b[38;5;124;43m'\u001b[39;49m\u001b[38;5;124;43m../src/notebook_env.py\u001b[39;49m\u001b[38;5;124;43m'\u001b[39;49m\u001b[43m)\u001b[49m\n",
      "File \u001b[0;32m~/Documents/teaching/SRH/content/statistik/statistik-env/lib/python3.10/site-packages/IPython/core/interactiveshell.py:2480\u001b[0m, in \u001b[0;36mInteractiveShell.run_line_magic\u001b[0;34m(self, magic_name, line, _stack_depth)\u001b[0m\n\u001b[1;32m   2478\u001b[0m     kwargs[\u001b[38;5;124m'\u001b[39m\u001b[38;5;124mlocal_ns\u001b[39m\u001b[38;5;124m'\u001b[39m] \u001b[38;5;241m=\u001b[39m \u001b[38;5;28mself\u001b[39m\u001b[38;5;241m.\u001b[39mget_local_scope(stack_depth)\n\u001b[1;32m   2479\u001b[0m \u001b[38;5;28;01mwith\u001b[39;00m \u001b[38;5;28mself\u001b[39m\u001b[38;5;241m.\u001b[39mbuiltin_trap:\n\u001b[0;32m-> 2480\u001b[0m     result \u001b[38;5;241m=\u001b[39m \u001b[43mfn\u001b[49m\u001b[43m(\u001b[49m\u001b[38;5;241;43m*\u001b[39;49m\u001b[43margs\u001b[49m\u001b[43m,\u001b[49m\u001b[43m \u001b[49m\u001b[38;5;241;43m*\u001b[39;49m\u001b[38;5;241;43m*\u001b[39;49m\u001b[43mkwargs\u001b[49m\u001b[43m)\u001b[49m\n\u001b[1;32m   2482\u001b[0m \u001b[38;5;66;03m# The code below prevents the output from being displayed\u001b[39;00m\n\u001b[1;32m   2483\u001b[0m \u001b[38;5;66;03m# when using magics with decorator @output_can_be_silenced\u001b[39;00m\n\u001b[1;32m   2484\u001b[0m \u001b[38;5;66;03m# when the last Python token in the expression is a ';'.\u001b[39;00m\n\u001b[1;32m   2485\u001b[0m \u001b[38;5;28;01mif\u001b[39;00m \u001b[38;5;28mgetattr\u001b[39m(fn, magic\u001b[38;5;241m.\u001b[39mMAGIC_OUTPUT_CAN_BE_SILENCED, \u001b[38;5;28;01mFalse\u001b[39;00m):\n",
      "File \u001b[0;32m~/Documents/teaching/SRH/content/statistik/statistik-env/lib/python3.10/site-packages/IPython/core/magics/execution.py:727\u001b[0m, in \u001b[0;36mExecutionMagics.run\u001b[0;34m(self, parameter_s, runner, file_finder)\u001b[0m\n\u001b[1;32m    725\u001b[0m     \u001b[38;5;28;01mif\u001b[39;00m os\u001b[38;5;241m.\u001b[39mname \u001b[38;5;241m==\u001b[39m \u001b[38;5;124m'\u001b[39m\u001b[38;5;124mnt\u001b[39m\u001b[38;5;124m'\u001b[39m \u001b[38;5;129;01mand\u001b[39;00m re\u001b[38;5;241m.\u001b[39mmatch(\u001b[38;5;124mr\u001b[39m\u001b[38;5;124m\"\u001b[39m\u001b[38;5;124m^\u001b[39m\u001b[38;5;124m'\u001b[39m\u001b[38;5;124m.*\u001b[39m\u001b[38;5;124m'\u001b[39m\u001b[38;5;124m$\u001b[39m\u001b[38;5;124m\"\u001b[39m,fpath):\n\u001b[1;32m    726\u001b[0m         warn(\u001b[38;5;124m'\u001b[39m\u001b[38;5;124mFor Windows, use double quotes to wrap a filename: \u001b[39m\u001b[38;5;132;01m%r\u001b[39;00m\u001b[38;5;124mun \u001b[39m\u001b[38;5;124m\"\u001b[39m\u001b[38;5;124mmypath\u001b[39m\u001b[38;5;130;01m\\\\\u001b[39;00m\u001b[38;5;124mmyfile.py\u001b[39m\u001b[38;5;124m\"\u001b[39m\u001b[38;5;124m'\u001b[39m)\n\u001b[0;32m--> 727\u001b[0m     \u001b[38;5;28;01mraise\u001b[39;00m \u001b[38;5;167;01mException\u001b[39;00m(msg) \u001b[38;5;28;01mfrom\u001b[39;00m \u001b[38;5;21;01me\u001b[39;00m\n\u001b[1;32m    728\u001b[0m \u001b[38;5;28;01mexcept\u001b[39;00m \u001b[38;5;167;01mTypeError\u001b[39;00m:\n\u001b[1;32m    729\u001b[0m     \u001b[38;5;28;01mif\u001b[39;00m fpath \u001b[38;5;129;01min\u001b[39;00m sys\u001b[38;5;241m.\u001b[39mmeta_path:\n",
      "\u001b[0;31mException\u001b[0m: File `'../src/notebook_env.py'` not found."
     ]
    }
   ],
   "source": [
    "%matplotlib inline\n",
    "# Load the \"autoreload\" extension\n",
    "%load_ext autoreload\n",
    "# always reload modules\n",
    "%autoreload 2\n",
    "# black formatter for jupyter notebooks\n",
    "#%load_ext nb_black\n",
    "# black formatter for jupyter lab\n",
    "%load_ext lab_black\n",
    "\n",
    "%run ../src/notebook_env.py"
   ]
  },
  {
   "cell_type": "markdown",
   "id": "7cf2b6ab-5b3a-402e-a0b3-9caee6be6cfc",
   "metadata": {},
   "source": [
    "# Aufgabe 3\n",
    "\n",
    "1. Generieren Sie 100.000 (gleichwahrscheinliche) Würfe eines Würfels und berechnen Sie Mittelwert und Standardabweichung der Würfelsumme. Wählen Sie aus den Würfelsummen 200 Stichproben mit einer Stichprobengrösse von 50 aus. Berechnen Sie den Standardfehler mit \n",
    "\n",
    "$$\\sigma_{\\bar{x}} = \\frac{\\sigma}{\\sqrt{n}}$$\n",
    "\n",
    "\n",
    "&nbsp;&nbsp;&nbsp;&nbsp;&nbsp;&nbsp;&nbsp;&nbsp;wobei $\\sigma_{\\bar{x}}$ als Standardfehler, $\\sigma$ als Standardabweichung der Stichprobe und $\\sqrt{n}$ als Wurzel aus der Stichprobengrösse \n",
    "\n",
    "2. Wiederholen Sie das Experiment für 10 Würfel"
   ]
  },
  {
   "cell_type": "markdown",
   "id": "fc8500a8-f687-42a0-949f-f74e943cc512",
   "metadata": {},
   "source": [
    "**Importiere Module**"
   ]
  },
  {
   "cell_type": "code",
   "execution_count": 2,
   "id": "eb14df35-edab-4eb7-a260-503ccb11b692",
   "metadata": {
    "tags": [
     "thebe-init"
    ]
   },
   "outputs": [],
   "source": [
    "import numpy as np\n",
    "import matplotlib.pyplot as plt"
   ]
  },
  {
   "cell_type": "markdown",
   "id": "c2921007-43f9-477d-bd27-25a2848f178e",
   "metadata": {},
   "source": [
    "__Hilfsfunktionen__"
   ]
  },
  {
   "cell_type": "code",
   "execution_count": 3,
   "id": "26504b3b-db8b-43ed-ae5e-9c97566c915b",
   "metadata": {
    "tags": [
     "thebe-init"
    ]
   },
   "outputs": [],
   "source": [
    "def dice_roll(nrolls: int, nsides: int = 6, seed=None) -> list:\n",
    "    \"\"\"Function to simulate a dice roll\n",
    "    params:\n",
    "       nrolls: number of rolls/dices\n",
    "       nsides: number of sides\n",
    "    \"\"\"\n",
    "    if seed is not None:\n",
    "        np.random.seed(seed)\n",
    "\n",
    "    return [np.random.randint(1, nsides) for x in range(nrolls)]"
   ]
  },
  {
   "cell_type": "markdown",
   "id": "381c7acf-f30d-44ea-a176-f2d0ab7571d6",
   "metadata": {},
   "source": [
    "## Aufgabe 3.1\n",
    "\n",
    "Generieren Sie in 100.000 (gleichwahrscheinliche) Würfe eines Würfels und berechnen Sie Mittelwert und Standardabweichung der Würfelsumme. Wählen Sie aus den Würfelwürfen 200 Stichproben vom Umfang 50 aus und berechnen den Standardfehler mit\n",
    "\n",
    "$$\\sigma_{\\bar{x}} = \\frac{\\sigma}{\\sqrt{n}}$$\n",
    "\n",
    "\n",
    "wobei $\\sigma_{\\bar{x}}$ als Standardfehler, $\\sigma$ als Standardabweichung der Stichprobe und $\\sqrt{n}$ als Wurzel aus der Stichprobengrösse "
   ]
  },
  {
   "cell_type": "code",
   "execution_count": 4,
   "id": "4513e5c8-ea2e-4463-9a07-740b029bc5ec",
   "metadata": {},
   "outputs": [],
   "source": [
    "## your code here ..."
   ]
  },
  {
   "cell_type": "code",
   "execution_count": 5,
   "id": "6a4c025f-3c6a-495a-a1f1-c90fefaf77fd",
   "metadata": {
    "tags": [
     "hide-cell"
    ]
   },
   "outputs": [
    {
     "name": "stdout",
     "output_type": "stream",
     "text": [
      "Mittelwert Würfelsumme: 3.00237\n",
      "Standardabweichung Würfelsumme: 1.417330019120459\n",
      "Der Standardfehler beträgt 0.027.\n"
     ]
    }
   ],
   "source": [
    "# experiment\n",
    "N = 100000\n",
    "experiment = dice_roll(N, seed=42)\n",
    "\n",
    "# Statistik des Experiments\n",
    "print(\"Mittelwert Würfelsumme:\", np.mean(experiment))\n",
    "print(\"Standardabweichung Würfelsumme:\", np.std(experiment))\n",
    "\n",
    "# Stichprobenverteilung und Standardfehler\n",
    "n = 50\n",
    "sample_means = []\n",
    "for i in range(200):\n",
    "    sample = np.random.choice(experiment, n, replace=True)\n",
    "    sample_means.append(np.mean(sample))\n",
    "std_error = np.std(sample_means) / np.sqrt(n)\n",
    "print(f\"Der Standardfehler beträgt {np.round(std_error,4)}.\")"
   ]
  },
  {
   "cell_type": "markdown",
   "id": "309e9991-b3ec-4137-9daf-215f1b809638",
   "metadata": {},
   "source": [
    "## Aufgabe 3.2\n",
    "Wiederholen Sie das Experiment für 10 Würfel"
   ]
  },
  {
   "cell_type": "code",
   "execution_count": 6,
   "id": "23c0c24d-00ed-480f-b0b2-486fe240bc1d",
   "metadata": {},
   "outputs": [],
   "source": [
    "## your code here ..."
   ]
  },
  {
   "cell_type": "code",
   "execution_count": 7,
   "id": "850288d6-cf12-4a41-ab67-86fd86af71be",
   "metadata": {
    "tags": [
     "hide-cell"
    ]
   },
   "outputs": [
    {
     "name": "stdout",
     "output_type": "stream",
     "text": [
      "Mittelwert Würfelsumme: 30.00275\n",
      "Standardabweichung Würfelsumme: 4.450305881341191\n",
      "Der Standardfehler beträgt 0.0885.\n"
     ]
    }
   ],
   "source": [
    "# experiment\n",
    "N = 100000\n",
    "experiment = []\n",
    "for i in range(N):\n",
    "    roll = dice_roll(nrolls=10)\n",
    "    roll_sum = np.sum(roll)\n",
    "    experiment.append(roll_sum)\n",
    "\n",
    "# Statistik des Experiments\n",
    "print(\"Mittelwert Würfelsumme:\", np.mean(experiment))\n",
    "print(\"Standardabweichung Würfelsumme:\", np.std(experiment))\n",
    "\n",
    "# Stichprobenverteilung und Standardfehler\n",
    "n = 50\n",
    "sample_means = []\n",
    "for i in range(200):\n",
    "    sample = np.random.choice(experiment, n, replace=True)\n",
    "    sample_means.append(np.mean(sample))\n",
    "std_error = np.std(sample_means) / np.sqrt(n)\n",
    "print(f\"Der Standardfehler beträgt {np.round(std_error,4)}.\")"
   ]
  }
 ],
 "metadata": {
  "kernelspec": {
   "display_name": "Python 3 (ipykernel)",
   "language": "python",
   "name": "python3"
  },
  "language_info": {
   "codemirror_mode": {
    "name": "ipython",
    "version": 3
   },
   "file_extension": ".py",
   "mimetype": "text/x-python",
   "name": "python",
   "nbconvert_exporter": "python",
   "pygments_lexer": "ipython3",
   "version": "3.10.12"
  }
 },
 "nbformat": 4,
 "nbformat_minor": 5
}