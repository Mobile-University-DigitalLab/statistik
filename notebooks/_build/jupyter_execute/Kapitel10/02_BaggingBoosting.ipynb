{
 "cells": [
  {
   "cell_type": "code",
   "execution_count": 1,
   "metadata": {},
   "outputs": [
    {
     "name": "stdout",
     "output_type": "stream",
     "text": [
      "\n",
      "---------------------------------\n",
      "Working on the host: imarevic-pc\n",
      "\n",
      "---------------------------------\n",
      "Python version: 3.10.12 (main, Sep 11 2024, 15:47:36) [GCC 11.4.0]\n",
      "\n",
      "---------------------------------\n",
      "Python interpreter: /home/imarevic/Documents/teaching/SRH/content/statistik/statistik-env/bin/python3\n"
     ]
    }
   ],
   "source": [
    "%matplotlib inline\n",
    "# Load the \"autoreload\" extension\n",
    "%load_ext autoreload\n",
    "# always reload modules\n",
    "%autoreload 2\n",
    "# black formatter for jupyter notebooks\n",
    "# %load_ext nb_black\n",
    "# black formatter for jupyter lab\n",
    "%load_ext lab_black\n",
    "\n",
    "%run ../../src/notebook_env.py"
   ]
  },
  {
   "cell_type": "markdown",
   "metadata": {},
   "source": [
    "# Bagging und Boosting bei Entscheidungsbäumen"
   ]
  },
  {
   "cell_type": "code",
   "execution_count": 2,
   "metadata": {},
   "outputs": [],
   "source": [
    "import matplotlib.pyplot as plt\n",
    "import numpy as np\n",
    "import pandas as pd\n",
    "import matplotlib.pyplot as plt\n",
    "import numpy as np\n",
    "import pandas as pd\n",
    "import statistics\n",
    "import statsmodels.api as sm\n",
    "from sklearn.tree import DecisionTreeClassifier, DecisionTreeRegressor\n",
    "from sklearn.ensemble import GradientBoostingRegressor\n",
    "import seaborn as sns\n",
    "from sklearn.model_selection import train_test_split\n",
    "from sklearn.metrics import (\n",
    "    mean_squared_error,\n",
    "    confusion_matrix,\n",
    "    accuracy_score,\n",
    "    ConfusionMatrixDisplay,\n",
    ")\n",
    "from sklearn.preprocessing import StandardScaler"
   ]
  },
  {
   "cell_type": "markdown",
   "metadata": {},
   "source": [
    "Im vorherigen Kapitel haben wir zur Reduktion der Varianz das Trimmen oder Pruning von Entscheidungsbäumen kennengelernt. Eine weitere Methode, die unabhängig vom verwendeten Model (Entscheidungsbaum, Regressionmodell, etc.) ist, ist das Bagging."
   ]
  },
  {
   "cell_type": "markdown",
   "metadata": {},
   "source": [
    "## Bagging"
   ]
  },
  {
   "cell_type": "markdown",
   "metadata": {},
   "source": [
    "Das <a href=\"https://en.wikipedia.org/wiki/Bootstrap_aggregating\">Bagging</a> ist eine Methode, die durch wiederholtes Sampling der Daten Vorhersagen verbessert. Die Fundamentale Idee stützt sich auf das simple Konzept der Berechnung eines Maßes der zentralen Tendenz (z. B. Mittelwert, Median, Modus), nur dass beim Bagging diese Maße auf Vorhersagen von Modellen angewendet werden:\n",
    "\n",
    "Nehmen wir ein Set der Größe $n$ an **unabhängigen Beobachtungen** an (z.B. mehrere Datensätze der gleichen Art) und bezeichnen diese als $Z_{1}, ..., Z_{n}$, wobei jeder Datensatz die Varianz $\\sigma$ besitzt und den Mittelwert $\\hat Z$. Dann ist die Varianz der Mittelwerte $\\hat Z$ gegeben durch $\\sigma²/n$. Anschaulich bedeutet dies, dass die Bildung des Mittelwerts über mehrere Beobachtungen/Datensätze die Varianz **reduziert**.\n",
    "\n",
    "Angewendet auf die Nutzung von Machine Learning Modellen, können somit mehrere Modell auf jeweils einer Stichprobe des Datensatzes trainiert werden und die resultierenden Vorhersagen gemittelt werden. \n",
    "\n",
    "Formal:\n",
    "\n",
    "Wir berechnen $\\hat f¹(x), \\hat f²(x), ..., \\hat f^B(x),$ unter Nutzung $B$ verschiedener Trainingsdatensätze. Dann lässt sich ein statistische Model mit geringer Varianz erzeugen durch\n",
    "\n",
    "$$\n",
    "\\hat f_{gemittelt} = \\frac{1}{B} \\sum_{b=1}^B \\hat f^b(x)\n",
    "$$\n",
    "\n",
    "In der Praxis stehen uns nicht mehrere unabhängige Trainingsdatensätze zur Verfügung und daher generieren wir aus dem Ursprungsdatensatz durch zufälliges wiederholtes Ziehen von Stichproben mehrere **bootsrapped Trainingsdaten** (das Ziehen mehrerer Stichproben mit Zurücklegen wird auch <a href=\"https://de.wikipedia.org/wiki/Bootstrapping-Verfahren\">Bootstrap Sampling</a> genannt) um $\\hat f^{*b}(x)$ zu berechnen und final durch Mitteln folgendes Model zu erhalten:\n",
    "\n",
    "$$\n",
    "\\hat f_{bagged} = \\frac{1}{B} \\sum_{b=1}^B \\hat f^{*b}(x)\n",
    "$$"
   ]
  },
  {
   "cell_type": "markdown",
   "metadata": {},
   "source": [
    "Dieses Verfahren, lässt sich auf jedes statistische Modell anwenden, jedoch findet es im Kontext der Entscheidungsbäume sehr häufig Anwendung, da es hier zu besonders guten Modellen führt und die Flexibilität von Entscheidungsbäumen sehr gut ausnutzt. Zum Beispiel können nicht getrimmte Bäume verwendet werden, die sehr tief sind um dennoch mithilfe von Bagging sehr genaue Vorhersagen zu erhalten.\n",
    "\n",
    "Im Falle einer nicht metrischen Vorhersagenvariablen (z.B. im Klassifikationskontext), kann Bagging ebenfalls wie folgt angewendet werden: Man fitted $B$ Klassifikationsbäume an die bootsrapped Trainingsdaten und merkt sich für jedes Model die am besten vorhergesagte Klasse. Aggregiert wird dann indem ein **Majority-Vote** vollzogen wird. Dies bedeutet, dass die finale Vorhersage, die am meisten vorkommende Vorhersage der $B$ Modelle ist.\n",
    "\n",
    "Lassen Sie uns nun zur Veranschaulichung Bagging in Python demonstrieren."
   ]
  },
  {
   "cell_type": "markdown",
   "metadata": {},
   "source": [
    "### Bagging für Regressionsbäume in Python"
   ]
  },
  {
   "cell_type": "markdown",
   "metadata": {},
   "source": [
    "Wir werden nun wieder die **Baseball Hitter-Daten** verwenden um Bagging im Regressionfall zu demonstrieren. Zunächst lesen wir den Datensatz ein."
   ]
  },
  {
   "cell_type": "code",
   "execution_count": 3,
   "metadata": {},
   "outputs": [
    {
     "data": {
      "text/html": [
       "<div>\n",
       "<style scoped>\n",
       "    .dataframe tbody tr th:only-of-type {\n",
       "        vertical-align: middle;\n",
       "    }\n",
       "\n",
       "    .dataframe tbody tr th {\n",
       "        vertical-align: top;\n",
       "    }\n",
       "\n",
       "    .dataframe thead th {\n",
       "        text-align: right;\n",
       "    }\n",
       "</style>\n",
       "<table border=\"1\" class=\"dataframe\">\n",
       "  <thead>\n",
       "    <tr style=\"text-align: right;\">\n",
       "      <th></th>\n",
       "      <th>AtBat</th>\n",
       "      <th>Hits</th>\n",
       "      <th>HmRun</th>\n",
       "      <th>Runs</th>\n",
       "      <th>RBI</th>\n",
       "      <th>Walks</th>\n",
       "      <th>Years</th>\n",
       "      <th>CAtBat</th>\n",
       "      <th>CHits</th>\n",
       "      <th>CHmRun</th>\n",
       "      <th>CRuns</th>\n",
       "      <th>CRBI</th>\n",
       "      <th>CWalks</th>\n",
       "      <th>League</th>\n",
       "      <th>Division</th>\n",
       "      <th>PutOuts</th>\n",
       "      <th>Assists</th>\n",
       "      <th>Errors</th>\n",
       "      <th>Salary</th>\n",
       "      <th>NewLeague</th>\n",
       "    </tr>\n",
       "  </thead>\n",
       "  <tbody>\n",
       "    <tr>\n",
       "      <th>1</th>\n",
       "      <td>315</td>\n",
       "      <td>81</td>\n",
       "      <td>7</td>\n",
       "      <td>24</td>\n",
       "      <td>38</td>\n",
       "      <td>39</td>\n",
       "      <td>14</td>\n",
       "      <td>3449</td>\n",
       "      <td>835</td>\n",
       "      <td>69</td>\n",
       "      <td>321</td>\n",
       "      <td>414</td>\n",
       "      <td>375</td>\n",
       "      <td>N</td>\n",
       "      <td>W</td>\n",
       "      <td>632</td>\n",
       "      <td>43</td>\n",
       "      <td>10</td>\n",
       "      <td>475.0</td>\n",
       "      <td>N</td>\n",
       "    </tr>\n",
       "    <tr>\n",
       "      <th>2</th>\n",
       "      <td>479</td>\n",
       "      <td>130</td>\n",
       "      <td>18</td>\n",
       "      <td>66</td>\n",
       "      <td>72</td>\n",
       "      <td>76</td>\n",
       "      <td>3</td>\n",
       "      <td>1624</td>\n",
       "      <td>457</td>\n",
       "      <td>63</td>\n",
       "      <td>224</td>\n",
       "      <td>266</td>\n",
       "      <td>263</td>\n",
       "      <td>A</td>\n",
       "      <td>W</td>\n",
       "      <td>880</td>\n",
       "      <td>82</td>\n",
       "      <td>14</td>\n",
       "      <td>480.0</td>\n",
       "      <td>A</td>\n",
       "    </tr>\n",
       "    <tr>\n",
       "      <th>3</th>\n",
       "      <td>496</td>\n",
       "      <td>141</td>\n",
       "      <td>20</td>\n",
       "      <td>65</td>\n",
       "      <td>78</td>\n",
       "      <td>37</td>\n",
       "      <td>11</td>\n",
       "      <td>5628</td>\n",
       "      <td>1575</td>\n",
       "      <td>225</td>\n",
       "      <td>828</td>\n",
       "      <td>838</td>\n",
       "      <td>354</td>\n",
       "      <td>N</td>\n",
       "      <td>E</td>\n",
       "      <td>200</td>\n",
       "      <td>11</td>\n",
       "      <td>3</td>\n",
       "      <td>500.0</td>\n",
       "      <td>N</td>\n",
       "    </tr>\n",
       "    <tr>\n",
       "      <th>4</th>\n",
       "      <td>321</td>\n",
       "      <td>87</td>\n",
       "      <td>10</td>\n",
       "      <td>39</td>\n",
       "      <td>42</td>\n",
       "      <td>30</td>\n",
       "      <td>2</td>\n",
       "      <td>396</td>\n",
       "      <td>101</td>\n",
       "      <td>12</td>\n",
       "      <td>48</td>\n",
       "      <td>46</td>\n",
       "      <td>33</td>\n",
       "      <td>N</td>\n",
       "      <td>E</td>\n",
       "      <td>805</td>\n",
       "      <td>40</td>\n",
       "      <td>4</td>\n",
       "      <td>91.5</td>\n",
       "      <td>N</td>\n",
       "    </tr>\n",
       "    <tr>\n",
       "      <th>5</th>\n",
       "      <td>594</td>\n",
       "      <td>169</td>\n",
       "      <td>4</td>\n",
       "      <td>74</td>\n",
       "      <td>51</td>\n",
       "      <td>35</td>\n",
       "      <td>11</td>\n",
       "      <td>4408</td>\n",
       "      <td>1133</td>\n",
       "      <td>19</td>\n",
       "      <td>501</td>\n",
       "      <td>336</td>\n",
       "      <td>194</td>\n",
       "      <td>A</td>\n",
       "      <td>W</td>\n",
       "      <td>282</td>\n",
       "      <td>421</td>\n",
       "      <td>25</td>\n",
       "      <td>750.0</td>\n",
       "      <td>A</td>\n",
       "    </tr>\n",
       "  </tbody>\n",
       "</table>\n",
       "</div>"
      ],
      "text/plain": [
       "   AtBat  Hits  HmRun  Runs  RBI  Walks  Years  CAtBat  CHits  CHmRun  CRuns  \\\n",
       "1    315    81      7    24   38     39     14    3449    835      69    321   \n",
       "2    479   130     18    66   72     76      3    1624    457      63    224   \n",
       "3    496   141     20    65   78     37     11    5628   1575     225    828   \n",
       "4    321    87     10    39   42     30      2     396    101      12     48   \n",
       "5    594   169      4    74   51     35     11    4408   1133      19    501   \n",
       "\n",
       "   CRBI  CWalks League Division  PutOuts  Assists  Errors  Salary NewLeague  \n",
       "1   414     375      N        W      632       43      10   475.0         N  \n",
       "2   266     263      A        W      880       82      14   480.0         A  \n",
       "3   838     354      N        E      200       11       3   500.0         N  \n",
       "4    46      33      N        E      805       40       4    91.5         N  \n",
       "5   336     194      A        W      282      421      25   750.0         A  "
      ]
     },
     "execution_count": 3,
     "metadata": {},
     "output_type": "execute_result"
    }
   ],
   "source": [
    "data = pd.read_csv(\"../../data/hitters.csv\")\n",
    "data = data.dropna()\n",
    "data.head(5)"
   ]
  },
  {
   "cell_type": "markdown",
   "metadata": {},
   "source": [
    "Als nächstes wollen wir zum Vergleich einen Regressionsbaum fitten, der auf den gesamten Daten trainert wurde. Dieser soll als Baseline dienen, gegen die wir dann unser Baggin-Verfahren evaluieren können."
   ]
  },
  {
   "cell_type": "code",
   "execution_count": 4,
   "metadata": {},
   "outputs": [],
   "source": [
    "# Enkodierung der Daten\n",
    "data = pd.get_dummies(data, drop_first=True)\n",
    "\n",
    "#  Features und Target definieren\n",
    "X_df = data.drop(\"Salary\", axis=1)\n",
    "y_df = data[\"Salary\"]\n",
    "X = X_df.values\n",
    "y = y_df.values\n",
    "\n",
    "# Standartisierung der Daten\n",
    "scaler_X = StandardScaler()\n",
    "X_standardized = scaler_X.fit_transform(X)\n",
    "scaler_y = StandardScaler()\n",
    "y_standardized = scaler_y.fit_transform(y.reshape(-1, 1)).flatten()"
   ]
  },
  {
   "cell_type": "code",
   "execution_count": 5,
   "metadata": {},
   "outputs": [
    {
     "name": "stdout",
     "output_type": "stream",
     "text": [
      "Der MSE auf den Testdaten für einen globalen Regressionsbaum: 1.359673782288005\n"
     ]
    }
   ],
   "source": [
    "# Splitten der Daten in train, validatio und test set\n",
    "X_train, X_temp, y_train, y_temp = train_test_split(\n",
    "    X_standardized, y_standardized, test_size=0.4, random_state=42\n",
    ")\n",
    "X_valid, X_test, y_valid, y_test = train_test_split(\n",
    "    X_temp, y_temp, test_size=0.5, random_state=42\n",
    ")\n",
    "\n",
    "# Fitten des Entscheidungsbaumes\n",
    "tree = DecisionTreeRegressor(random_state=42)\n",
    "tree.fit(X_train, y_train)\n",
    "y_test_pred = tree.predict(X_test)\n",
    "\n",
    "mse = mean_squared_error(y_test, y_test_pred)\n",
    "print(f\"Der MSE auf den Testdaten für einen globalen Regressionsbaum: {mse}\")"
   ]
  },
  {
   "cell_type": "markdown",
   "metadata": {},
   "source": [
    "Lassen Sie uns nun Bagging mit $B=10000$ anwenden und den finalen Testfehler vergleichen. Wir werden immer 80% der Daten bootsrap samplen, also `samples_fraction = 0.8`."
   ]
  },
  {
   "cell_type": "code",
   "execution_count": 6,
   "metadata": {},
   "outputs": [
    {
     "name": "stdout",
     "output_type": "stream",
     "text": [
      "Der MSE auf den Testdaten für einen bagged Regressionsbaum: 0.7818952432442009\n"
     ]
    }
   ],
   "source": [
    "B = 10000\n",
    "samples_fraction = 0.8\n",
    "models = []\n",
    "test_preds = []\n",
    "# Training loop\n",
    "n_samples = int(len(X) * samples_fraction)\n",
    "for b in range(1, B + 1):\n",
    "    # ziehe Stichprobe mit Zurücklegen\n",
    "    indices = np.random.choice(len(X_train), size=n_samples, replace=True)\n",
    "    X_sample = X_train[indices]\n",
    "    y_sample = y_train[indices]\n",
    "    # fitte Entscheidungsbäume und speichere jedes Model\n",
    "    tree = DecisionTreeRegressor(random_state=42)\n",
    "    tree.fit(X_sample, y_sample)\n",
    "    models.append(tree)\n",
    "\n",
    "\n",
    "# prediction loop\n",
    "predictions = np.zeros((X_test.shape[0], B))\n",
    "# Erzeuge Vorhersage auf Testdaten und speichere in Liste\n",
    "for i, model in enumerate(models):\n",
    "    predictions[:, i] = model.predict(X_test)\n",
    "\n",
    "# Berechne Mittelwert über alle Vorhersagen\n",
    "bagged_preds = np.mean(predictions, axis=1)\n",
    "\n",
    "# Berechne MSE\n",
    "mse = mean_squared_error(y_test, bagged_preds)\n",
    "print(f\"Der MSE auf den Testdaten für einen bagged Regressionsbaum: {mse}\")"
   ]
  },
  {
   "cell_type": "markdown",
   "metadata": {},
   "source": [
    "Wir sehen also, dass der Testfehler geringer ausfällt und wir somit ein besseres Model zur Vorhersage durch Bagging erhalten haben."
   ]
  },
  {
   "cell_type": "markdown",
   "metadata": {},
   "source": [
    "### Bagging für Klassifikationsbäume in Python"
   ]
  },
  {
   "cell_type": "markdown",
   "metadata": {},
   "source": [
    "Im Folgenden werden wir, der Vollständigkeit halber, Bagging auch auf Klassifikationsbäume anwenden. Die Implementierung ist im Prinzip identisch zum Regressionsfall. Wir werden analog zum vorherigen Kapitel nun ebenfalls den **Hurricane-Datensatz** verwenden:"
   ]
  },
  {
   "cell_type": "code",
   "execution_count": 7,
   "metadata": {},
   "outputs": [
    {
     "data": {
      "text/html": [
       "<div>\n",
       "<style scoped>\n",
       "    .dataframe tbody tr th:only-of-type {\n",
       "        vertical-align: middle;\n",
       "    }\n",
       "\n",
       "    .dataframe tbody tr th {\n",
       "        vertical-align: top;\n",
       "    }\n",
       "\n",
       "    .dataframe thead th {\n",
       "        text-align: right;\n",
       "    }\n",
       "</style>\n",
       "<table border=\"1\" class=\"dataframe\">\n",
       "  <thead>\n",
       "    <tr style=\"text-align: right;\">\n",
       "      <th></th>\n",
       "      <th>Number</th>\n",
       "      <th>Name</th>\n",
       "      <th>Year</th>\n",
       "      <th>Type</th>\n",
       "      <th>FirstLat</th>\n",
       "      <th>FirstLon</th>\n",
       "      <th>MaxLat</th>\n",
       "      <th>MaxLon</th>\n",
       "      <th>LastLat</th>\n",
       "      <th>LastLon</th>\n",
       "      <th>MaxInt</th>\n",
       "    </tr>\n",
       "    <tr>\n",
       "      <th>RowNames</th>\n",
       "      <th></th>\n",
       "      <th></th>\n",
       "      <th></th>\n",
       "      <th></th>\n",
       "      <th></th>\n",
       "      <th></th>\n",
       "      <th></th>\n",
       "      <th></th>\n",
       "      <th></th>\n",
       "      <th></th>\n",
       "      <th></th>\n",
       "    </tr>\n",
       "  </thead>\n",
       "  <tbody>\n",
       "    <tr>\n",
       "      <th>1</th>\n",
       "      <td>430</td>\n",
       "      <td>NOTNAMED</td>\n",
       "      <td>1944</td>\n",
       "      <td>1</td>\n",
       "      <td>30.2</td>\n",
       "      <td>-76.1</td>\n",
       "      <td>32.1</td>\n",
       "      <td>-74.8</td>\n",
       "      <td>35.1</td>\n",
       "      <td>-69.2</td>\n",
       "      <td>80</td>\n",
       "    </tr>\n",
       "    <tr>\n",
       "      <th>2</th>\n",
       "      <td>432</td>\n",
       "      <td>NOTNAMED</td>\n",
       "      <td>1944</td>\n",
       "      <td>0</td>\n",
       "      <td>25.6</td>\n",
       "      <td>-74.9</td>\n",
       "      <td>31.0</td>\n",
       "      <td>-78.1</td>\n",
       "      <td>32.6</td>\n",
       "      <td>-78.2</td>\n",
       "      <td>80</td>\n",
       "    </tr>\n",
       "    <tr>\n",
       "      <th>3</th>\n",
       "      <td>433</td>\n",
       "      <td>NOTNAMED</td>\n",
       "      <td>1944</td>\n",
       "      <td>0</td>\n",
       "      <td>14.2</td>\n",
       "      <td>-65.2</td>\n",
       "      <td>16.6</td>\n",
       "      <td>-72.2</td>\n",
       "      <td>20.6</td>\n",
       "      <td>-88.5</td>\n",
       "      <td>105</td>\n",
       "    </tr>\n",
       "    <tr>\n",
       "      <th>4</th>\n",
       "      <td>436</td>\n",
       "      <td>NOTNAMED</td>\n",
       "      <td>1944</td>\n",
       "      <td>0</td>\n",
       "      <td>20.8</td>\n",
       "      <td>-58.0</td>\n",
       "      <td>26.3</td>\n",
       "      <td>-72.3</td>\n",
       "      <td>42.1</td>\n",
       "      <td>-71.5</td>\n",
       "      <td>120</td>\n",
       "    </tr>\n",
       "    <tr>\n",
       "      <th>5</th>\n",
       "      <td>437</td>\n",
       "      <td>NOTNAMED</td>\n",
       "      <td>1944</td>\n",
       "      <td>0</td>\n",
       "      <td>20.0</td>\n",
       "      <td>-84.2</td>\n",
       "      <td>20.6</td>\n",
       "      <td>-84.9</td>\n",
       "      <td>19.1</td>\n",
       "      <td>-93.9</td>\n",
       "      <td>70</td>\n",
       "    </tr>\n",
       "  </tbody>\n",
       "</table>\n",
       "</div>"
      ],
      "text/plain": [
       "          Number      Name  Year  Type  FirstLat  FirstLon  MaxLat  MaxLon  \\\n",
       "RowNames                                                                     \n",
       "1            430  NOTNAMED  1944     1      30.2     -76.1    32.1   -74.8   \n",
       "2            432  NOTNAMED  1944     0      25.6     -74.9    31.0   -78.1   \n",
       "3            433  NOTNAMED  1944     0      14.2     -65.2    16.6   -72.2   \n",
       "4            436  NOTNAMED  1944     0      20.8     -58.0    26.3   -72.3   \n",
       "5            437  NOTNAMED  1944     0      20.0     -84.2    20.6   -84.9   \n",
       "\n",
       "          LastLat  LastLon  MaxInt  \n",
       "RowNames                            \n",
       "1            35.1    -69.2      80  \n",
       "2            32.6    -78.2      80  \n",
       "3            20.6    -88.5     105  \n",
       "4            42.1    -71.5     120  \n",
       "5            19.1    -93.9      70  "
      ]
     },
     "execution_count": 7,
     "metadata": {},
     "output_type": "execute_result"
    }
   ],
   "source": [
    "hurricanes = pd.read_excel(\"../../data/hurricanes.xlsx\", index_col=0)\n",
    "hurricanes.head(5)"
   ]
  },
  {
   "cell_type": "code",
   "execution_count": 8,
   "metadata": {},
   "outputs": [
    {
     "name": "stderr",
     "output_type": "stream",
     "text": [
      "/tmp/ipykernel_21189/1862976890.py:8: FutureWarning: Downcasting behavior in `replace` is deprecated and will be removed in a future version. To retain the old behavior, explicitly call `result.infer_objects(copy=False)`. To opt-in to the future behavior, set `pd.set_option('future.no_silent_downcasting', True)`\n",
      "  y = hurricanes[\"Origins\"].replace({\"tropisch\": 0, \"aussertropisch\": 1}).values\n"
     ]
    }
   ],
   "source": [
    "# Benamung der Origin\n",
    "hurricanes[\"Origins\"] = hurricanes[\"Type\"].replace(\n",
    "    {0: \"tropisch\", 1: \"aussertropisch\", 3: \"aussertropisch\"}\n",
    ")\n",
    "# Erstellung von X und y Datensätzen\n",
    "X = hurricanes[\"FirstLat\"].values\n",
    "X = sm.add_constant(X)\n",
    "y = hurricanes[\"Origins\"].replace({\"tropisch\": 0, \"aussertropisch\": 1}).values\n",
    "\n",
    "# test train split\n",
    "X_train, X_test, y_train, y_test = train_test_split(X, y, random_state=0)"
   ]
  },
  {
   "cell_type": "markdown",
   "metadata": {},
   "source": [
    "Nun haben wir Test- und Trainingsdaten und können mit der Implementierung der Bagging Variante des Klassifikaitonsbaumes fortfahren. Die Implementierung sieht wie folgt aus:"
   ]
  },
  {
   "cell_type": "code",
   "execution_count": 9,
   "metadata": {},
   "outputs": [],
   "source": [
    "B = 10000\n",
    "samples_fraction = 0.8\n",
    "models = []\n",
    "test_preds = []\n",
    "# Training loop\n",
    "n_samples = int(len(X) * samples_fraction)\n",
    "for b in range(1, B + 1):\n",
    "    # ziehe Stichprobe mit Zurücklegen\n",
    "    indices = np.random.choice(len(X_train), size=n_samples, replace=True)\n",
    "    X_sample = X_train[indices]\n",
    "    y_sample = y_train[indices]\n",
    "    # fitte Entscheidungsbäume und speichere jedes Model\n",
    "    tree = DecisionTreeClassifier(max_leaf_nodes=3, random_state=0)\n",
    "    tree.fit(X_sample, y_sample)\n",
    "    models.append(tree)\n",
    "\n",
    "\n",
    "# prediction loop\n",
    "predictions = np.zeros((X_test.shape[0], B), dtype=int)\n",
    "# Erzeuge Vorhersage auf Testdaten und speichere in Liste\n",
    "for i, model in enumerate(models):\n",
    "    predictions[:, i] = model.predict(X_test)\n",
    "\n",
    "# Berechne Majority Vote über alle Vorhersagen\n",
    "bagged_preds = np.array(\n",
    "    [np.bincount(predictions[i]).argmax() for i in range(predictions.shape[0])]\n",
    ")"
   ]
  },
  {
   "cell_type": "markdown",
   "metadata": {},
   "source": [
    "Wir berechnen auch hier die Accuracy:"
   ]
  },
  {
   "cell_type": "code",
   "execution_count": 10,
   "metadata": {},
   "outputs": [
    {
     "name": "stdout",
     "output_type": "stream",
     "text": [
      "Der Accuracy Score auf den Testdaten für einen bagged Klassifikationsbaum: 0.8235294117647058\n"
     ]
    }
   ],
   "source": [
    "# Berechne Accuracy\n",
    "acc = accuracy_score(y_test, bagged_preds)\n",
    "print(\n",
    "    f\"Der Accuracy Score auf den Testdaten für einen bagged Klassifikationsbaum: {acc}\"\n",
    ")"
   ]
  },
  {
   "cell_type": "markdown",
   "metadata": {},
   "source": [
    "## Boosting"
   ]
  },
  {
   "cell_type": "markdown",
   "metadata": {},
   "source": [
    "Genauso wie das Bagging, kann <a href=\"https://de.wikipedia.org/wiki/Boosting\">Boosting</a> generell bei allen machine leanring Verfahren eingesetzt werden. Es ist vom Prizip her nicht auf Entscheidungsbäume beschränkt, da es aber bei einer Variante der Random Forests zum Einsatz kommt und somit im Kontext der Entscheidungsbäume sehr verbreitet ist, werden wir Boosting ebenfalls unter Verwendung von Entscheidungsbäumen vorstellen. \n",
    "\n",
    "Wir erinnern uns, dass beim Bagging das *Bootstrap Sampling* zum Einsatz kam um für jedes Model eine neue Stichprobe zu ziehen und die Vorhersagen am Ende global zu aggregieren. Im Gegensatz hierzu involviert das Boosting nicht wiederholtes Ziehen eines Bootsrap Samples, sondern es ist ein **sequentielles Verfahren**, dass Informationen von zuvor aufgespannten Entscheidungsbäumen in das Lernverfahren einbezieht und somit jeder Entscheidungsbaum auf einer modifizierten Version der Originaldaten trainiert wird.\n",
    "\n",
    "Im Gegensatz zum Bagging ist das Boosting ein **langsames Verfahren**. Es wird so bezeichnet, da hier ein Entscheidungsbaum zunächst auf die Daten gefittet wird und danach immer wieder auf die Residuen der Vorhersagen des vorherigen Models. Es werden also zu jeder Iteration die **Residuen** als $Y$ betrachtet und ein Model darauf trainiert. Der resultierende Baum wird dann nach jeder Iteration zurück in die gefittete Funktion integriert um die Residuen zu updaten. Die verwendeten Bäume können hierbei sehr klein sein. Beim Boosting wird diese Tiefe durch den Parameter $d$ kontrolliert. Durch Nutzung sehr kleiner Bäume, verbessern wir die Vorhersage sehr *langsam* und verbessern somit die finale Funktion $\\hat f$, die das Gesamtmodel über die Iterationen beschreibt besonders in den Bereichen, in denen das Model schlechte Vorhersagen macht. Das sehr langsame Lernen wird noch weiter verlangsamt, wenn wir einen Parameter $\\lambda$ einbauen, der die Lernrate verringert und somit erlaubt verschiedene Bäume aufzubauen, da dann insgesamt mehr Bäume möglich sind.\n",
    "\n",
    "Formal lässt sich der Boosting-Algorithmus wie folgt beschreiben:\n",
    "\n",
    "1. Setze $\\hat f(x)=0$ und $r_{i} = y_{i}$ für alle Beobachtungen $i$ im Trainingsdatensatz.\n",
    "2. Für $b =1,2, ..., B$, wiederhole folgendes:\n",
    "    \n",
    "    A. Fitte einen Baum $\\hat f^b$ mit $d$ Splits (d+1 finale Knoten) an die Trainingsdaten.\n",
    "    \n",
    "    B. Update $\\hat f$ durch hinzufügen einer kleineren Version des vorherigen Baumes:\n",
    "    \n",
    "$$\n",
    "\\hat f(x) \\leftarrow \\hat f(x) + \\lambda \\hat f^b(x)\n",
    "$$\n",
    "    \n",
    "C. Update die Residuen r:\n",
    "    \n",
    "$$\n",
    "r_{i} \\leftarrow r_{i} - \\lambda \\hat f^b(x_{i})\n",
    "$$\n",
    "\n",
    "\n",
    "3. Gebe das geboostete Model zurück:\n",
    "\n",
    "$$\n",
    "\\hat f(x) = \\sum_{b=1}^B \\lambda \\hat f^b(x)\n",
    "$$"
   ]
  },
  {
   "cell_type": "markdown",
   "metadata": {},
   "source": [
    "Im generellen Boosting-Algorithmus sind folgende Parameter involviert:\n",
    "    \n",
    "\n",
    "|  Parameter | Beschreibung  |\n",
    "|---|---|\n",
    "|  B | Die Anzahl an Bäumen. Wenn B zu groß gewählt wird, kann eine Boosting-Agorithmus overfitten. Daher wird B häufig durch Krossvalidierung auf einem Validierungsdatensatz gewählt  |\n",
    "|  $\\lambda$  | Dieser Parameter wird **Shrinkage Patameter** genannt, da dieser die Lernrate kontrolliert, mit der der Boosting-Algorithmus lernt. Er sorgt dafür dass die Bäume sich über mehrere Iterationen nicht zu sehr ähneln.|\n",
    "| $d$ | Dieser Parameter kontrolliert die Komplexität der Bäume. Beim Boosting werden häufig nur sehr geringe Tiefen gewählt. Meistens reicht eine Tiefe von $d=1$ vollkommen aus (nur 1 Split).|"
   ]
  },
  {
   "cell_type": "markdown",
   "metadata": {},
   "source": [
    "### Boosting in Python"
   ]
  },
  {
   "cell_type": "markdown",
   "metadata": {},
   "source": [
    "In Python lässt sich Boosting bei Entscheidungsbäumen gut mit der Bibliothek `scikit-learn`implementieren. Hierbei ist zu beachten, dass verschieden Varianten des oben beschriebenen Boosting-Algorithmus existieren:\n",
    "\n",
    "- AdaBoost (Adaptive Boosting)\n",
    "- Gradient Boost\n",
    "- XGBoost\n",
    "\n",
    "Jede dieser Varianten. Zum Beispiel werden bei AdaBoost die Gewichte des Models bei jeder Iteration geupdatet und bei Gradient Boosting wird oben bschriebens Udate Verfahren über die Residuen gewählt. XGBoost ermöglicht noch weitere Regularizierung des Models. Die Details jedes dieser Verfahren sind jedoch nicht Gegenstand dieses Moduls.\n",
    "\n",
    "Im Folgenden werden wir anschaulich Gradient Boosting aus `scikit-learn` in Python verwenden. Wir nutzen hierfür wieder den Baseball Hitter Datensatz:"
   ]
  },
  {
   "cell_type": "code",
   "execution_count": 11,
   "metadata": {},
   "outputs": [
    {
     "data": {
      "text/html": [
       "<div>\n",
       "<style scoped>\n",
       "    .dataframe tbody tr th:only-of-type {\n",
       "        vertical-align: middle;\n",
       "    }\n",
       "\n",
       "    .dataframe tbody tr th {\n",
       "        vertical-align: top;\n",
       "    }\n",
       "\n",
       "    .dataframe thead th {\n",
       "        text-align: right;\n",
       "    }\n",
       "</style>\n",
       "<table border=\"1\" class=\"dataframe\">\n",
       "  <thead>\n",
       "    <tr style=\"text-align: right;\">\n",
       "      <th></th>\n",
       "      <th>AtBat</th>\n",
       "      <th>Hits</th>\n",
       "      <th>HmRun</th>\n",
       "      <th>Runs</th>\n",
       "      <th>RBI</th>\n",
       "      <th>Walks</th>\n",
       "      <th>Years</th>\n",
       "      <th>CAtBat</th>\n",
       "      <th>CHits</th>\n",
       "      <th>CHmRun</th>\n",
       "      <th>CRuns</th>\n",
       "      <th>CRBI</th>\n",
       "      <th>CWalks</th>\n",
       "      <th>League</th>\n",
       "      <th>Division</th>\n",
       "      <th>PutOuts</th>\n",
       "      <th>Assists</th>\n",
       "      <th>Errors</th>\n",
       "      <th>Salary</th>\n",
       "      <th>NewLeague</th>\n",
       "    </tr>\n",
       "  </thead>\n",
       "  <tbody>\n",
       "    <tr>\n",
       "      <th>1</th>\n",
       "      <td>315</td>\n",
       "      <td>81</td>\n",
       "      <td>7</td>\n",
       "      <td>24</td>\n",
       "      <td>38</td>\n",
       "      <td>39</td>\n",
       "      <td>14</td>\n",
       "      <td>3449</td>\n",
       "      <td>835</td>\n",
       "      <td>69</td>\n",
       "      <td>321</td>\n",
       "      <td>414</td>\n",
       "      <td>375</td>\n",
       "      <td>N</td>\n",
       "      <td>W</td>\n",
       "      <td>632</td>\n",
       "      <td>43</td>\n",
       "      <td>10</td>\n",
       "      <td>475.0</td>\n",
       "      <td>N</td>\n",
       "    </tr>\n",
       "    <tr>\n",
       "      <th>2</th>\n",
       "      <td>479</td>\n",
       "      <td>130</td>\n",
       "      <td>18</td>\n",
       "      <td>66</td>\n",
       "      <td>72</td>\n",
       "      <td>76</td>\n",
       "      <td>3</td>\n",
       "      <td>1624</td>\n",
       "      <td>457</td>\n",
       "      <td>63</td>\n",
       "      <td>224</td>\n",
       "      <td>266</td>\n",
       "      <td>263</td>\n",
       "      <td>A</td>\n",
       "      <td>W</td>\n",
       "      <td>880</td>\n",
       "      <td>82</td>\n",
       "      <td>14</td>\n",
       "      <td>480.0</td>\n",
       "      <td>A</td>\n",
       "    </tr>\n",
       "    <tr>\n",
       "      <th>3</th>\n",
       "      <td>496</td>\n",
       "      <td>141</td>\n",
       "      <td>20</td>\n",
       "      <td>65</td>\n",
       "      <td>78</td>\n",
       "      <td>37</td>\n",
       "      <td>11</td>\n",
       "      <td>5628</td>\n",
       "      <td>1575</td>\n",
       "      <td>225</td>\n",
       "      <td>828</td>\n",
       "      <td>838</td>\n",
       "      <td>354</td>\n",
       "      <td>N</td>\n",
       "      <td>E</td>\n",
       "      <td>200</td>\n",
       "      <td>11</td>\n",
       "      <td>3</td>\n",
       "      <td>500.0</td>\n",
       "      <td>N</td>\n",
       "    </tr>\n",
       "    <tr>\n",
       "      <th>4</th>\n",
       "      <td>321</td>\n",
       "      <td>87</td>\n",
       "      <td>10</td>\n",
       "      <td>39</td>\n",
       "      <td>42</td>\n",
       "      <td>30</td>\n",
       "      <td>2</td>\n",
       "      <td>396</td>\n",
       "      <td>101</td>\n",
       "      <td>12</td>\n",
       "      <td>48</td>\n",
       "      <td>46</td>\n",
       "      <td>33</td>\n",
       "      <td>N</td>\n",
       "      <td>E</td>\n",
       "      <td>805</td>\n",
       "      <td>40</td>\n",
       "      <td>4</td>\n",
       "      <td>91.5</td>\n",
       "      <td>N</td>\n",
       "    </tr>\n",
       "    <tr>\n",
       "      <th>5</th>\n",
       "      <td>594</td>\n",
       "      <td>169</td>\n",
       "      <td>4</td>\n",
       "      <td>74</td>\n",
       "      <td>51</td>\n",
       "      <td>35</td>\n",
       "      <td>11</td>\n",
       "      <td>4408</td>\n",
       "      <td>1133</td>\n",
       "      <td>19</td>\n",
       "      <td>501</td>\n",
       "      <td>336</td>\n",
       "      <td>194</td>\n",
       "      <td>A</td>\n",
       "      <td>W</td>\n",
       "      <td>282</td>\n",
       "      <td>421</td>\n",
       "      <td>25</td>\n",
       "      <td>750.0</td>\n",
       "      <td>A</td>\n",
       "    </tr>\n",
       "  </tbody>\n",
       "</table>\n",
       "</div>"
      ],
      "text/plain": [
       "   AtBat  Hits  HmRun  Runs  RBI  Walks  Years  CAtBat  CHits  CHmRun  CRuns  \\\n",
       "1    315    81      7    24   38     39     14    3449    835      69    321   \n",
       "2    479   130     18    66   72     76      3    1624    457      63    224   \n",
       "3    496   141     20    65   78     37     11    5628   1575     225    828   \n",
       "4    321    87     10    39   42     30      2     396    101      12     48   \n",
       "5    594   169      4    74   51     35     11    4408   1133      19    501   \n",
       "\n",
       "   CRBI  CWalks League Division  PutOuts  Assists  Errors  Salary NewLeague  \n",
       "1   414     375      N        W      632       43      10   475.0         N  \n",
       "2   266     263      A        W      880       82      14   480.0         A  \n",
       "3   838     354      N        E      200       11       3   500.0         N  \n",
       "4    46      33      N        E      805       40       4    91.5         N  \n",
       "5   336     194      A        W      282      421      25   750.0         A  "
      ]
     },
     "execution_count": 11,
     "metadata": {},
     "output_type": "execute_result"
    }
   ],
   "source": [
    "data = pd.read_csv(\"../../data/hitters.csv\")\n",
    "data = data.dropna()\n",
    "data.head(5)"
   ]
  },
  {
   "cell_type": "code",
   "execution_count": 12,
   "metadata": {},
   "outputs": [],
   "source": [
    "# Enkodierung der Daten\n",
    "data = pd.get_dummies(data, drop_first=True)\n",
    "\n",
    "#  Features und Target definieren\n",
    "X_df = data.drop(\"Salary\", axis=1)\n",
    "y_df = data[\"Salary\"]\n",
    "X = X_df.values\n",
    "y = y_df.values\n",
    "\n",
    "# Standartisierung der Daten\n",
    "scaler_X = StandardScaler()\n",
    "X_standardized = scaler_X.fit_transform(X)\n",
    "scaler_y = StandardScaler()\n",
    "y_standardized = scaler_y.fit_transform(y.reshape(-1, 1)).flatten()\n",
    "\n",
    "# Splitten der Daten in train, validatio und test set\n",
    "X_train, X_temp, y_train, y_temp = train_test_split(\n",
    "    X_standardized, y_standardized, test_size=0.4, random_state=42\n",
    ")\n",
    "X_valid, X_test, y_valid, y_test = train_test_split(\n",
    "    X_temp, y_temp, test_size=0.5, random_state=42\n",
    ")"
   ]
  },
  {
   "cell_type": "markdown",
   "metadata": {},
   "source": [
    "Nun werden wir den `GradientBoostingRegressor()` auf die Trainisdaten anwenden und den MSE auf dem Testdatensatz ausgeben. Es ist zu bacten, dass wir im Dictionary `params` ein paar **Hyperparameter** setzen, die das Training kontrollieren. In unserem Beispiel wählen wir die verbreiteten Settings (z.B. `n_estimators : 500` oder `learning_rate : 0.01`) und erlauben nur sehr keine Bäume (`mas_depth : 4`):"
   ]
  },
  {
   "cell_type": "code",
   "execution_count": 13,
   "metadata": {},
   "outputs": [
    {
     "name": "stdout",
     "output_type": "stream",
     "text": [
      "The mean squared error (MSE) auf den Testdaten: 0.8215\n"
     ]
    }
   ],
   "source": [
    "# Setzen der Lernparameter\n",
    "params = {\n",
    "    \"n_estimators\": 500,\n",
    "    \"max_depth\": 4,\n",
    "    \"min_samples_split\": 5,\n",
    "    \"learning_rate\": 0.01,\n",
    "    \"loss\": \"squared_error\",\n",
    "}\n",
    "\n",
    "# Modelfitting\n",
    "reg = GradientBoostingRegressor(**params)\n",
    "reg.fit(X_train, y_train)\n",
    "\n",
    "# MSE\n",
    "mse = mean_squared_error(y_test, reg.predict(X_test))\n",
    "print(\"The mean squared error (MSE) auf den Testdaten: {:.4f}\".format(mse))"
   ]
  },
  {
   "cell_type": "markdown",
   "metadata": {},
   "source": [
    "Um zu veranschaulichen wie der Boosting-Algorithmus **langsam** auf den Traininsdaten lernt und bei jeder Iteration die **vorherige Vorhersage etwas verbessert**, werden wir nun den Trainings- und Testfehler für jede Iteration $B = 1, 2, ..., N$ plotten."
   ]
  },
  {
   "cell_type": "code",
   "execution_count": 14,
   "metadata": {},
   "outputs": [
    {
     "data": {
      "image/png": "[encoded data removed]",
      "text/plain": [
       "<Figure size 600x600 with 1 Axes>"
      ]
     },
     "metadata": {},
     "output_type": "display_data"
    }
   ],
   "source": [
    "test_score = np.zeros((params[\"n_estimators\"],), dtype=np.float64)\n",
    "for i, y_pred in enumerate(reg.staged_predict(X_test)):\n",
    "    test_score[i] = mean_squared_error(y_test, y_pred)\n",
    "\n",
    "fig = plt.figure(figsize=(6, 6))\n",
    "plt.subplot(1, 1, 1)\n",
    "plt.title(\"Trainings- vs. Testdaten Fehler\")\n",
    "plt.plot(\n",
    "    np.arange(params[\"n_estimators\"]) + 1,\n",
    "    reg.train_score_,\n",
    "    \"b-\",\n",
    "    label=\"Trainingsset Fehler\",\n",
    ")\n",
    "plt.plot(\n",
    "    np.arange(params[\"n_estimators\"]) + 1, test_score, \"r-\", label=\"Testset Fehler\"\n",
    ")\n",
    "plt.legend(loc=\"upper right\")\n",
    "plt.xlabel(\"Boosting Iterationen\")\n",
    "plt.ylabel(\"Fehler\")\n",
    "fig.tight_layout()\n",
    "plt.show()"
   ]
  },
  {
   "cell_type": "markdown",
   "metadata": {},
   "source": [
    "Zum Abschluss lässt sich Bagging und Boosting wie folgt zusammenfassen:"
   ]
  },
  {
   "cell_type": "markdown",
   "metadata": {},
   "source": [
    "![bagging_vs_boosting](../_img/bagging_vs_boosting.png \"Bagging vs. Boosting\")\n",
    "\n",
    "> **Bagging**:<br>\n",
    "> - Ziehe N Trainingsdatensätze mit Zurücklegen\n",
    "> - Trainiere auf jedem der Datensätze ein Modell\n",
    "> - Aggregiere die Vorhersagen der Modelle um eine genauere finale Vorhersage zu erhalten\n",
    "\n",
    "> **Boosting**:<br>\n",
    "> - Trainiere ein Modell auf den Trainingsdaten\n",
    "> - Fitte das Model auf die Residuen des vorherigen Trainingslaufs und update die Residuen\n",
    "> - Füge bei jeder Iteration sequentiell das erhaltene Model dem Ursprungsmodel hinzu"
   ]
  }
 ],
 "metadata": {
  "kernelspec": {
   "display_name": "Python 3 (ipykernel)",
   "language": "python",
   "name": "python3"
  },
  "language_info": {
   "codemirror_mode": {
    "name": "ipython",
    "version": 3
   },
   "file_extension": ".py",
   "mimetype": "text/x-python",
   "name": "python",
   "nbconvert_exporter": "python",
   "pygments_lexer": "ipython3",
   "version": "3.10.12"
  }
 },
 "nbformat": 4,
 "nbformat_minor": 4
}