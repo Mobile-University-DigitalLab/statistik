{
 "cells": [
  {
   "cell_type": "markdown",
   "id": "2ad03ed2-ae37-4fe7-a55f-e07cbe2507ad",
   "metadata": {},
   "source": [
    "## Hypothesentests für zwei Grundgesamtheitsmittelwerte\n",
    "----------------------------------------"
   ]
  },
  {
   "cell_type": "markdown",
   "id": "a9b07c22-f292-41dc-8bca-6d5dc64a3065",
   "metadata": {},
   "source": [
    "Bisher haben wir uns auf Hypothesentests für den Mittelwert einer Grundgesamtheit konzentriert. In vielen Anwendungen wollen wir jedoch die Mittelwerte von zwei oder mehr Grundgesamtheiten vergleichen. In den folgenden Abschnitten werden Schlussfolgerungsverfahren für den Vergleich der Mittelwerte von zwei Grundgesamtheiten erörtert. Daher müssen wir zunächst zwischen Stichproben aus zwei <a href=\"https://de.wikipedia.org/wiki/Stochastisch_unabh%C3%A4ngige_Ereignisse\">unabhängigen</a> Populationen und Stichproben aus nicht unabhängigen Populationen unterscheiden, die als <a href=\"https://de.wikipedia.org/wiki/Zufallsstichprobe#Abh%C3%A4ngige_und_unabh%C3%A4ngige_Stichproben\">abhängige</a> Stichproben bezeichnet werden.\n",
    "\n",
    "In den folgenden Abschnitten werden die Parameter und die Statistiken von Population $1$ und Population $2$ mit dem Index $1$ bzw. $2$ bezeichnet. Somit sind $\\mu_1$ und $\\sigma_1$ die Populationsparameter der Population $1$ und $\\mu_2$ und $\\sigma_2$ die der Population $2$. Analog dazu sind $\\bar{x}_1, s_1$ und $n_1$ der Stichprobenmittelwert, die Stichprobenstandardabweichung und der Stichprobenumfang der Grundgesamtheit $1$, während $\\bar{x}_2, s_2$ und $n_2$ der aus der Grundgesamtheit $2$ gezogenen Stichprobe entsprechen.\n",
    "\n",
    "Für unabhängige Stichproben mit dem Umfang $n_1$ und $n_2$ der Grundgesamtheit $1$ und der Grundgesamtheit $2$ ist der Mittelwert aller möglichen Unterschiede zwischen den beiden Stichprobenmittelwerten gleich dem Unterschied zwischen den beiden Grundgesamtheitsmittelwerten."
   ]
  },
  {
   "cell_type": "markdown",
   "id": "6f0f84b8-2c42-4967-86e1-9687643f4d95",
   "metadata": {},
   "source": [
    "$$\\mu_{\\bar x_1 -\\bar x_2} = \\mu_1-\\mu_2$$"
   ]
  },
  {
   "cell_type": "markdown",
   "id": "1f47298d-30d8-443b-be63-93db3979191a",
   "metadata": {},
   "source": [
    "Außerdem ist die Standardabweichung aller möglichen Unterschiede zwischen den beiden Stichprobenmittelwerten gleich der Quadratwurzel aus der Summe der Varianzen der Grundgesamtheit, jeweils dividiert durch den entsprechenden Stichprobenumfang."
   ]
  },
  {
   "cell_type": "markdown",
   "id": "ada8f013-32a6-4fc1-a0a7-0be8511b94cd",
   "metadata": {},
   "source": [
    "$$\\sigma_{\\bar x_1 -\\bar x_2} = \\sqrt{\\frac{\\sigma^2_1}{n_1} + \\frac{\\sigma^2_1}{n_2}}$$"
   ]
  },
  {
   "cell_type": "markdown",
   "id": "62af7eb7-d97b-4fba-a626-d14ab209bcad",
   "metadata": {},
   "source": [
    "Eine normalverteilte Variable oder ein ausreichend großer Stichprobenumfang (man denke an den <a href=\"https://de.wikipedia.org/wiki/Zentraler_Grenzwertsatz\">zentralen Grenzwertsatz</a>) führt dazu, dass die Differenz der Stichprobenmittelwerte ($\\bar{x}_1-\\bar{x}_2$) ebenfalls normalverteilt ist.\n",
    "\n",
    "Die Hypothesentestverfahren für zwei Grundgesamtheitsmittelwerte sind im Grunde dieselben wie für einen Grundgesamtheitsmittelwert. Bitte beachten Sie, dass wir uns in den folgenden Abschnitten auf den $p$-Wert-Ansatz konzentrieren und nicht mehr auf den kritischen Wert-Ansatz eingehen. Daher wird das Hypothesentestverfahren leicht überarbeitet. Das schrittweise Vorgehen bei Hypothesentests ist wie folgt zusammengefasst"
   ]
  },
  {
   "cell_type": "markdown",
   "id": "6dc9b29c-2c99-4d92-b575-cc16342b648e",
   "metadata": {},
   "source": [
    "$$\n",
    "\\begin{array}{l}\n",
    "\\hline\n",
    "\\ \\text{Schritt 1}  & \\text{Geben Sie die Nullhypothese } H_0 \\text{ und alternative Hypothese } H_A \\text{ an.}\\\\\n",
    "\\ \\text{Schritt 2}  & \\text{Legen Sie das Signifikanzniveau, } \\alpha\\text{ fest.} \\\\\n",
    "\\ \\text{Schritt 3}  & \\text{Berechnen Sie den Wert der Teststatistik.} \\\\\n",
    "\\ \\text{Schritt 4} &\\text{P-Wert-Ansatz: Bestimmen Sie den p-Wert.} \\\\\n",
    "\\ \\text{Schritt 5b} & \\text{P-Wert-Ansatz: Wenn } p\\le \\alpha \\text{, } H_0 \\text{ ablehnen } \\text{; ansonsten } H_0 \\text{ nicht ablehnen} \\text{.} \\\\\n",
    "\\ \\text{Schritt 6} &\\text{Interpretieren Sie das Ergebnis des Hypothesentests.} \\\\\n",
    "\\hline\n",
    "\\end{array}\n",
    "$$"
   ]
  },
  {
   "cell_type": "code",
   "execution_count": 1,
   "id": "0fd5f17c-4b7f-48c7-83be-f99ad3f88e80",
   "metadata": {},
   "outputs": [
    {
     "name": "stdout",
     "output_type": "stream",
     "text": [
      "\n",
      "---------------------------------\n",
      "Working on the host: imarevic-pc\n",
      "\n",
      "---------------------------------\n",
      "Python version: 3.10.12 (main, Sep 11 2024, 15:47:36) [GCC 11.4.0]\n",
      "\n",
      "---------------------------------\n",
      "Python interpreter: /home/imarevic/Documents/teaching/SRH/content/statistik/statistik-env/bin/python3\n"
     ]
    }
   ],
   "source": [
    "%matplotlib inline\n",
    "# Load the \"autoreload\" extension\n",
    "%load_ext autoreload\n",
    "# always reload modules\n",
    "%autoreload 2\n",
    "# black formatter for jupyter notebooks\n",
    "# %load_ext nb_black\n",
    "# black formatter for jupyter lab\n",
    "%load_ext lab_black\n",
    "\n",
    "%run ../../src/notebook_env.py"
   ]
  },
  {
   "cell_type": "markdown",
   "id": "9fab54d2-04d7-46ef-86c9-e1f35e50990a",
   "metadata": {
    "tags": []
   },
   "source": [
    "## Inferenz für zwei Grundgesamtheitsmittelwerte bei unabhängigen Stichproben; $s_1 \\approx s_2$\n",
    "----------------------------------------"
   ]
  },
  {
   "cell_type": "code",
   "execution_count": 2,
   "id": "51706b0b-4457-4cbf-a633-ceede0a84856",
   "metadata": {},
   "outputs": [],
   "source": [
    "import matplotlib.pyplot as plt\n",
    "import numpy as np\n",
    "import pandas as pd\n",
    "from random import sample\n",
    "from scipy.stats import t, ttest_ind\n",
    "import statsmodels.api as smi"
   ]
  },
  {
   "cell_type": "markdown",
   "id": "423c7cff-9daf-4f0c-852d-40fdad5a1ebc",
   "metadata": {},
   "source": [
    "In diesem Abschnitt führen wir einen Hypothesentest für die Mittelwerte von zwei Grundgesamtheiten durch. Wir gehen davon aus, dass die Standardabweichungen ($s_1,s_2$) der beiden Grundgesamtheiten gleich, aber unbekannt sind. Wenn wir jedoch $\\sigma$ und die Differenz der Stichprobenmittelwerte ($\\bar{x}_1-\\bar{x}_2$) kennen würden, könnte die Teststatistik wie folgt geschrieben werden."
   ]
  },
  {
   "cell_type": "markdown",
   "id": "28df44ed-8d54-40c6-9588-1d2079f79e82",
   "metadata": {},
   "source": [
    "$$z = \\frac{(\\bar x_1 - \\bar x_2)-(\\mu_1-\\mu_2)}{\\sigma \\sqrt{\\frac{1}{n_1} + \\frac{1}{n_2}}}$$"
   ]
  },
  {
   "cell_type": "markdown",
   "id": "5b018178-5aea-46e7-9386-5379041df77b",
   "metadata": {},
   "source": [
    "In fast allen realen Anwendungen kennen wir $\\sigma$ jedoch nicht. Daher müssen wir es im Voraus schätzen. Das geht am besten, wenn man die Stichprobenvarianzen $s^2_1$ und $s^2_2$ als zwei Schätzungen für $\\sigma^2$ betrachtet. Durch Zusammenfassen der beiden Stichprobenabweichungen und Gewichtung nach dem Stichprobenumfang ergibt sich der Schätzwert für $\\sigma^2$ wie folgt"
   ]
  },
  {
   "cell_type": "markdown",
   "id": "3b58d07c-161f-4e7a-8e93-6b144b380b0e",
   "metadata": {},
   "source": [
    "$$s_g^2 = \\frac{(n_1-1)s_1^2 + (n_2-1)s_2^2 }{n_1+n_2-2}\\text{,}$$"
   ]
  },
  {
   "cell_type": "markdown",
   "id": "d8f7dca6-e3a7-4f09-944d-0ad5f1f037ec",
   "metadata": {},
   "source": [
    "und durch Ziehen der Quadratwurzel erhalten wir"
   ]
  },
  {
   "cell_type": "markdown",
   "id": "1935fae0-7b04-4793-b5ae-181358d18a7e",
   "metadata": {},
   "source": [
    "$$s_g = \\sqrt{\\frac{(n_1-1)s_1^2 + (n_2-1)s_2^2 }{n_1+n_2-2}}\\text{,}$$"
   ]
  },
  {
   "cell_type": "markdown",
   "id": "98dd2819-b9ee-4291-9fae-5208eb894c15",
   "metadata": {},
   "source": [
    "Die Größe $s_g$ wird als <a href=\"https://de.wikipedia.org/wiki/Zweistichproben-t-Test#Zweistichproben-t-Test_f%C3%BCr_unabh%C3%A4ngige_Stichproben\">gewichtete Stichprobenstandardabweichung</a> bezeichnet (engl. pooled), wobei der tiefgestellte Index $g$ für **gewichtet** steht.\n",
    "\n",
    "Die Ersetzung von $\\sigma$ in der obigen Gleichung durch seine Schätzung $s_g$ ergibt"
   ]
  },
  {
   "cell_type": "markdown",
   "id": "38572032-ed96-42b4-a97b-249950a8e00c",
   "metadata": {},
   "source": [
    "$$t =  \\frac{(\\bar x_1 - \\bar x_2)-(\\mu_1-\\mu_2)}{s_g \\sqrt{\\frac{1}{n_1} + \\frac{1}{n_2}}}$$"
   ]
  },
  {
   "cell_type": "markdown",
   "id": "8accec3f-e804-4dd6-b604-7e54c4dd6154",
   "metadata": {},
   "source": [
    "Der Nenner der Gleichung $s_g \\sqrt{\\frac{1}{n_1} + \\frac{1}{n_2}}$ ist der Schätzer der Standardabweichung von $\\bar{x}_1-\\bar{x}_2$, der wie folgt geschrieben werden kann"
   ]
  },
  {
   "cell_type": "markdown",
   "id": "9160d249-7aa9-4d74-9138-0832b12c4bd2",
   "metadata": {},
   "source": [
    "$$s_{\\bar x_1 - \\bar x_2} = s_g \\sqrt{\\frac{1}{n_1} + \\frac{1}{n_2}}$$"
   ]
  },
  {
   "cell_type": "markdown",
   "id": "941d4694-b979-43c3-b17c-d4f7b9f70f5a",
   "metadata": {},
   "source": [
    "Bitte beachten Sie, dass die Gleichung für die Teststatistik $t$ einer $t$-Verteilung folgt. Die Freiheitsgrade ($df$) sind gegeben durch"
   ]
  },
  {
   "cell_type": "markdown",
   "id": "890adc16-6bf5-4249-982f-444185dccdd1",
   "metadata": {},
   "source": [
    "$$df = n_1+n_2-2$$"
   ]
  },
  {
   "cell_type": "markdown",
   "id": "e704babd-401b-452b-85b6-1a66389a47b0",
   "metadata": {},
   "source": [
    "### Intervall-Schätzung von $\\mu_1-\\mu_2$"
   ]
  },
  {
   "cell_type": "markdown",
   "id": "69128094-f95c-4788-a5e7-ecb174442fb6",
   "metadata": {},
   "source": [
    "Das $100(1-\\alpha)\\%$-Konfidenzintervall für $\\mu_1-\\mu_2$ ist gegeben durch"
   ]
  },
  {
   "cell_type": "markdown",
   "id": "43933ec2-cde9-479d-958c-a2567105929f",
   "metadata": {},
   "source": [
    "$$(\\bar x_1 - \\bar x_2) \\pm t \\times s_g \\sqrt{\\frac{1}{n_1}+\\frac{1}{n_2}}\\text{,}$$"
   ]
  },
  {
   "cell_type": "markdown",
   "id": "9d341b04-0649-47d2-9492-ced539098fdf",
   "metadata": {},
   "source": [
    "wobei sich der Wert von $t$ aus der $t$-Verteilung für das gegebene Konfidenzniveau und $n_1+n_2-2$ Freiheitsgrade ergibt."
   ]
  },
  {
   "cell_type": "markdown",
   "id": "fbffc9bd-b636-437e-a398-110ca572283c",
   "metadata": {},
   "source": [
    "### Der Zweistichproben-$t$-Test für unabhängige Stichproben (engl. pooled $t$-Test): Ein Beispiel"
   ]
  },
  {
   "cell_type": "markdown",
   "id": "eeb00271-e72e-4ba6-b5c3-fd8de8d12c19",
   "metadata": {},
   "source": [
    "Python ermöglicht es uns, einen **Zweistichproben-$t$-Test für unabhängige Stichproben** durchzuführen, indem wir die Funktion `ttest_ind()` um das Argument `equal_var = True` erweitern.\n",
    "\n",
    "Um den Zweistichproben-$t$-Test zu üben, laden wir den `students` Datensatz. Sie können die Datei `students.csv` <a href=\"https://userpage.fu-berlin.de/soga/200/2010_data_sets/students.csv\">hier</a> herunterladen. Importieren Sie den Datensatz und weisen Sie ihm einen geeigneten Namen zu."
   ]
  },
  {
   "cell_type": "code",
   "execution_count": 3,
   "id": "9d910e8d-3383-4aa8-8478-8b807f3e8fa4",
   "metadata": {},
   "outputs": [],
   "source": [
    "# Lese Datei students.csv als Dataframe ein; Indexspalte wird übersprungen\n",
    "students = pd.read_csv(\"../../data/students.csv\", index_col=0)"
   ]
  },
  {
   "cell_type": "markdown",
   "id": "2e181e0d-27d9-486d-a0b2-9d59533af8ca",
   "metadata": {},
   "source": [
    "Der `students` Datensatz besteht aus $8239$ Zeilen, von denen jede einen bestimmten Studenten repräsentiert, und $16$ Spalten, von denen jede einer Variable/einem Merkmal entspricht, das sich auf diesen bestimmten Studenten bezieht. Diese selbsterklärenden Variablen sind: *stud_id, Name, Geschlecht, Alter, Größe, Gewicht, Religion, nc_score, Semester, Hauptfach, Nebenfach, score1, score2, online_tutorial, graduated, salary*."
   ]
  },
  {
   "cell_type": "markdown",
   "id": "46462303-feb3-4319-87de-768c8158aa13",
   "metadata": {},
   "source": [
    "Um den Zweistichproben-$t$-Test für unabhängige Stichproben zu veranschaulichen, untersuchen wir das mittlere Jahresgehalt (in Euro) der Absolventen. Die erste Grundgesamtheit besteht aus männlichen Studenten und die zweite aus weiblichen Studenten. **Die Frage ist, ob es einen Unterschied im mittleren Jahresgehalt der Absolventen in Bezug auf das Geschlecht gibt?**"
   ]
  },
  {
   "cell_type": "markdown",
   "id": "7dff910d-5c92-4e01-b08b-6385d4d20b4d",
   "metadata": {},
   "source": [
    "### Vorbereitung der Daten"
   ]
  },
  {
   "cell_type": "markdown",
   "id": "c27de9b4-30fa-4629-880c-7257f39b902f",
   "metadata": {},
   "source": [
    "Wir beginnen mit der Datenaufbereitung.\n",
    "\n",
    " -   Wir unterteilen den Datensatz anhand der binären Variable `graduated`, die angibt, ob der Student seinen Abschluss bereits gemacht hat. Die ganze Zahl $1$ steht für \"abgeschlossen\", $0$\n",
    "bedeutet, dass der Schüler seinen Abschluss noch nicht gemacht hat.\n",
    "- Dann teilen wir den Datensatz nach Geschlecht auf (männlich und weiblich).\n",
    "- Dann ziehen wir aus jeder Teilmenge $50$ weibliche und $50$ männliche Studenten und extrahieren die Variable von Interesse, das mittlere Jahresgehalt (in Euro), das in der Spalte Gehalt gespeichert ist. Diese beiden Vektoren ordnen wir den Variablen `male_sample` und `female_sample` zu."
   ]
  },
  {
   "cell_type": "code",
   "execution_count": 4,
   "id": "50d99eb4-1b35-4777-b195-b60147b17520",
   "metadata": {},
   "outputs": [],
   "source": [
    "n = 50\n",
    "\n",
    "male = students.loc[(students[\"gender\"] == \"Male\") & (students[\"graduated\"] == 1)]\n",
    "female = students.loc[(students[\"gender\"] == \"Female\") & (students[\"graduated\"] == 1)]\n",
    "\n",
    "male_sample = male[\"salary\"].sample(n=50, random_state=1)\n",
    "female_sample = female[\"salary\"].sample(n=50, random_state=1)"
   ]
  },
  {
   "cell_type": "markdown",
   "id": "de686c20-5bc6-477f-b4c3-33116126838a",
   "metadata": {},
   "source": [
    "Außerdem prüfen wir ob die Daten normalverteilt sind, indem wir ein Normalwahrscheinlichkeitsdiagramm erstellen, das oft als <a href=\"https://de.wikipedia.org/wiki/Quantil-Quantil-Diagramm\">Q-Q-Diagramm</a> bezeichnet wird. Wenn die Variable normalverteilt ist, sollte das Q-Q-Diagramm ungefähr linear sein.\n",
    "\n",
    "In Python können wir die Funktion `qqplot()` verwenden, um Q-Q-Plots zu erstellen."
   ]
  },
  {
   "cell_type": "code",
   "execution_count": 5,
   "id": "6495a265-6266-4a21-979f-350191c0cd2c",
   "metadata": {},
   "outputs": [
    {
     "data": {
      "text/plain": [
       "Text(0, 0.5, 'Stichproben Quantillen')"
      ]
     },
     "execution_count": 5,
     "metadata": {},
     "output_type": "execute_result"
    },
    {
     "data": {
      "image/png": "[encoded data removed]",
      "text/plain": [
       "<Figure size 640x480 with 1 Axes>"
      ]
     },
     "metadata": {},
     "output_type": "display_data"
    }
   ],
   "source": [
    "# Erzeuge Q-Q Plot\n",
    "qqp = smi.qqplot(male_sample, line=\"r\")\n",
    "ax = qqp.gca()\n",
    "ax.set_title(\"Q-Q-Diagramm : Studenten(männlich)\")\n",
    "ax.set_xlabel(\"Theoretische Quantillen\")\n",
    "ax.set_ylabel(\"Stichproben Quantillen\")"
   ]
  },
  {
   "cell_type": "code",
   "execution_count": 6,
   "id": "9e781d21-c74f-4bb2-98b2-b58bc72fccbc",
   "metadata": {},
   "outputs": [
    {
     "data": {
      "text/plain": [
       "Text(0, 0.5, 'Theoretische Quantillen')"
      ]
     },
     "execution_count": 6,
     "metadata": {},
     "output_type": "execute_result"
    },
    {
     "data": {
      "image/png": "[encoded data removed]",
      "text/plain": [
       "<Figure size 640x480 with 1 Axes>"
      ]
     },
     "metadata": {},
     "output_type": "display_data"
    }
   ],
   "source": [
    "# Erzeuge Q-Q Plot\n",
    "qqp = smi.qqplot(female_sample, line=\"r\")\n",
    "ax = qqp.gca()\n",
    "ax.set_title(\"Q-Q-Diagramm : Studenten(weiblich)\")\n",
    "ax.set_xlabel(\"Stichproben Quantillen\")\n",
    "ax.set_ylabel(\"Theoretische Quantillen\")"
   ]
  },
  {
   "cell_type": "markdown",
   "id": "07acce09-8d5a-4044-8738-6f94e25eb16f",
   "metadata": {},
   "source": [
    "Wir sehen, dass die Stichprobendaten etwas Rauschen beinhalten sind, aber sie sind immer noch ungefähr normalverteilt. Die Abweichung von der Geraden im oberen und unteren Teil deutet darauf hin, dass die Wahrscheinlichkeitsverteilung leicht schief ist.\n",
    "\n",
    "Außerdem prüfen wir, ob die Standardabweichungen der beiden Grundgesamtheiten ungefähr gleich sind. Als Faustregel gilt, dass die Bedingung gleicher Standardabweichungen der Grundgesamtheit erfüllt ist, wenn das Verhältnis der größeren zur kleineren Standardabweichung der Stichprobe kleiner als $2$ ist. Gehen wir davon aus, dass die Daten des `students` Datensatzes eine gute Annäherung an die Grundgesamtheit darstellen."
   ]
  },
  {
   "cell_type": "code",
   "execution_count": 7,
   "id": "4d798bd4-b3fb-476b-9ca0-191b8cfd04f8",
   "metadata": {},
   "outputs": [
    {
     "data": {
      "text/plain": [
       "np.float64(9653.18969182546)"
      ]
     },
     "execution_count": 7,
     "metadata": {},
     "output_type": "execute_result"
    }
   ],
   "source": [
    "# Berechne Standardabweichung\n",
    "np.std(male[\"salary\"])"
   ]
  },
  {
   "cell_type": "code",
   "execution_count": 8,
   "id": "89dbdf45-7d46-414a-a384-d8ddf1959043",
   "metadata": {},
   "outputs": [
    {
     "data": {
      "text/plain": [
       "np.float64(7723.490231798204)"
      ]
     },
     "execution_count": 8,
     "metadata": {},
     "output_type": "execute_result"
    }
   ],
   "source": [
    "# Berechne Standardabweichung\n",
    "np.std(female[\"salary\"])"
   ]
  },
  {
   "cell_type": "code",
   "execution_count": 9,
   "id": "40edc2be-bdb1-4cc3-a090-ac45ee150bc6",
   "metadata": {},
   "outputs": [
    {
     "data": {
      "text/plain": [
       "np.float64(1.2498481129790953)"
      ]
     },
     "execution_count": 9,
     "metadata": {},
     "output_type": "execute_result"
    }
   ],
   "source": [
    "# Berechne Verhältnis\n",
    "np.std(male[\"salary\"]) / np.std(female[\"salary\"])"
   ]
  },
  {
   "cell_type": "markdown",
   "id": "7f843246-6100-40e9-8285-6f00aacc82fe",
   "metadata": {},
   "source": [
    "Das Verhältnis liegt bei etwa $1,249$, so dass wir zu dem Schluss kommen, dass das Kriterium der gleichen Standardabweichungen der Bevölkerung erfüllt ist. Eine einfache Visualisierungstechnik zur Bewertung der Streuung einer Variablen ist die Darstellung eines Boxplots."
   ]
  },
  {
   "cell_type": "code",
   "execution_count": 10,
   "id": "30aef062-f832-47d8-8ad2-9dbf48295404",
   "metadata": {},
   "outputs": [
    {
     "data": {
      "text/plain": [
       "Text(0.5, 0, 'Jährliches Einkommen in EUR')"
      ]
     },
     "execution_count": 10,
     "metadata": {},
     "output_type": "execute_result"
    },
    {
     "data": {
      "image/png": "[encoded data removed]",
      "text/plain": [
       "<Figure size 640x480 with 2 Axes>"
      ]
     },
     "metadata": {},
     "output_type": "display_data"
    }
   ],
   "source": [
    "fig1, (ax1, ax2) = plt.subplots(2, sharex=\"all\")\n",
    "\n",
    "ax1.set_title(\"Stichprobendaten\")\n",
    "ax2.boxplot(male[\"salary\"], vert=False)\n",
    "ax1.boxplot(female[\"salary\"], vert=False)\n",
    "ax2.set_xlabel(\"Jährliches Einkommen in EUR\")"
   ]
  },
  {
   "cell_type": "markdown",
   "id": "02f073aa-6047-4acf-9efb-a84c175e0386",
   "metadata": {},
   "source": [
    "### Überprüfung der Hypothesen"
   ]
  },
  {
   "cell_type": "markdown",
   "id": "f9001f5a-4b9f-4bab-a947-e3c2d7a93df0",
   "metadata": {},
   "source": [
    "Wir führen den Zweistichproben-$t$-Test für unabhängige Stichproben durch, indem wir das schrittweise Durchführungsverfahren für Hypothesentests befolgen."
   ]
  },
  {
   "cell_type": "markdown",
   "id": "42efc428-3f44-4fa6-8b88-6e71defc6ddc",
   "metadata": {},
   "source": [
    "**Schritt 1 : Geben Sie die Nullhypothese $H_0$ und alternative Hypothese $H_A$ an**"
   ]
  },
  {
   "cell_type": "markdown",
   "id": "834e79a4-d17b-4a60-8ae8-089c74a59374",
   "metadata": {},
   "source": [
    "Die Nullhypothese besagt, dass das durchschnittliche Jahresgehalt der männlichen Absolventen ($μ_1$) gleich dem durchschnittlichen Jahresgehalt der weiblichen Absolventen ($μ_2$) ist."
   ]
  },
  {
   "cell_type": "markdown",
   "id": "777a4db8-5f57-4be0-bad3-93eb41d29150",
   "metadata": {},
   "source": [
    "$$H_0: \\quad \\mu_1 = \\mu_2$$"
   ]
  },
  {
   "cell_type": "markdown",
   "id": "b0d099ca-815a-4ccb-bc70-30b9e92455d5",
   "metadata": {},
   "source": [
    "Es sei daran erinnert, dass die Formulierung der Alternativhypothese vorgibt, ob wir einen zweiseitigen, einen links- oder einen rechtsseitigen Hypothesentest durchführen. Wir wollen prüfen, ob das Gehalt der männlichen Absolventen ($μ_1$) höher ist als das durchschnittliche Jahresgehalt der weiblichen Absolventen ($μ_2$), daher wird die Alternativhypothese wie folgt formuliert"
   ]
  },
  {
   "cell_type": "markdown",
   "id": "844aa6b5-cd0d-456f-aeca-0b43378ed97c",
   "metadata": {},
   "source": [
    "**Alternative Hypothese**"
   ]
  },
  {
   "cell_type": "markdown",
   "id": "f7ec6fa3-12e3-4093-ba46-47912de35f49",
   "metadata": {},
   "source": [
    "$$H_A: \\quad \\mu_1 > \\mu_2$$"
   ]
  },
  {
   "cell_type": "markdown",
   "id": "cb932d91-da2c-4084-87f6-0a852e1456d4",
   "metadata": {},
   "source": [
    "Aus dieser Formulierung ergibt sich ein rechtsseitiger Hypothesentest."
   ]
  },
  {
   "cell_type": "markdown",
   "id": "b988a013-8042-427b-8a58-ed8a7c98ec61",
   "metadata": {},
   "source": [
    "**Schritt 2: Legen Sie das Signifikanzniveau,$\\alpha$ fest**"
   ]
  },
  {
   "cell_type": "markdown",
   "id": "6f878938-8572-4e78-be8a-1b7fe44288ec",
   "metadata": {},
   "source": [
    "$$\\alpha = 0,01$$"
   ]
  },
  {
   "cell_type": "code",
   "execution_count": 11,
   "id": "2a0506dd-7297-4c6a-bf67-fe59fe5fc376",
   "metadata": {},
   "outputs": [],
   "source": [
    "alpha = 0.01"
   ]
  },
  {
   "cell_type": "markdown",
   "id": "8c9be98d-a410-412b-8eed-1a639ea2be9e",
   "metadata": {},
   "source": [
    "**Schritt 3 und 4: Berechnen Sie den Wert der Teststatistik und den $p$-Wert**"
   ]
  },
  {
   "cell_type": "markdown",
   "id": "5af8ff81-f0bd-4092-a778-a31d7ebe0226",
   "metadata": {},
   "source": [
    "Zur Veranschaulichung berechnen wir die Teststatistik manuell in Python. Erinnern Sie sich an die Gleichung für die Teststatistik von oben."
   ]
  },
  {
   "cell_type": "markdown",
   "id": "68a785e4-9743-48e5-9da6-e089039a166e",
   "metadata": {},
   "source": [
    "$$t =  \\frac{(\\bar x_1 - \\bar x_2)-(\\mu_1-\\mu_2)}{s_g \\sqrt{\\frac{1}{n_1} + \\frac{1}{n_2}}}$$"
   ]
  },
  {
   "cell_type": "markdown",
   "id": "32961057-8453-4535-9a23-cdee9dc91c8f",
   "metadata": {},
   "source": [
    "Wenn $H_0$ wahr ist, dann ist $\\mu_1-\\mu_2=0$ und somit vereinfacht sich die Gleichung zu"
   ]
  },
  {
   "cell_type": "markdown",
   "id": "328ecac5-d6de-4edd-82d6-e533d3f062a5",
   "metadata": {},
   "source": [
    "$$t =  \\frac{(\\bar x_1 - \\bar x_2)}{s_g \\sqrt{\\frac{1}{n_1} + \\frac{1}{n_2}}}\\text{,}$$"
   ]
  },
  {
   "cell_type": "markdown",
   "id": "0c673815-8de7-4b9e-a970-c4b9425b9166",
   "metadata": {},
   "source": [
    "wobei $s_z$ gleich"
   ]
  },
  {
   "cell_type": "markdown",
   "id": "270138f6-91e8-47d4-ab1a-3ed4173702b5",
   "metadata": {},
   "source": [
    "$$s_g = \\sqrt{\\frac{(n_1-1)s_1^2 + (n_2-1)s_2^2 }{n_1+n_2-2}}$$"
   ]
  },
  {
   "cell_type": "markdown",
   "id": "135c1424-2420-4f4a-a83c-e9ddcd2d91d7",
   "metadata": {},
   "source": [
    "ist."
   ]
  },
  {
   "cell_type": "code",
   "execution_count": 12,
   "id": "387d01ff-7ae0-40c3-b9ae-88d9224f272d",
   "metadata": {},
   "outputs": [
    {
     "data": {
      "text/plain": [
       "np.float64(5.591470501655584)"
      ]
     },
     "execution_count": 12,
     "metadata": {},
     "output_type": "execute_result"
    }
   ],
   "source": [
    "# Berechne Teststatistik\n",
    "n1 = len(male_sample)\n",
    "n2 = len(female_sample)\n",
    "s1 = np.std(male_sample, ddof=1)\n",
    "s2 = np.std(female_sample, ddof=1)\n",
    "x1_bar = np.mean(male_sample)\n",
    "x2_bar = np.mean(female_sample)\n",
    "\n",
    "sg = np.sqrt(((n1 - 1) * s1**2 + (n2 - 1) * s2**2) / (n1 + n2 - 2))\n",
    "tw = (x1_bar - x2_bar) / (sg * np.sqrt(1 / n1 + 1 / n2))\n",
    "tw"
   ]
  },
  {
   "cell_type": "markdown",
   "id": "e94fd963-2690-4c77-ad2e-b11e2209386e",
   "metadata": {},
   "source": [
    "Der numerische Wert der Teststatistik ist $5,59147$.\n",
    "\n",
    "Um den $p$-Wert zu berechnen, wenden wir die Funktion `t.cdf()` an. Erinnern Sie sich daran, wie man die Freiheitsgrade berechnet."
   ]
  },
  {
   "cell_type": "markdown",
   "id": "21907687-5b50-4f04-8f41-8e5432fa34e1",
   "metadata": {},
   "source": [
    "$$df = n_1+n_2-2 = 50 + 50 - 2 = 98$$"
   ]
  },
  {
   "cell_type": "code",
   "execution_count": 13,
   "id": "3f2f3d60-0ec7-4b26-b21c-a8ba98a4112a",
   "metadata": {},
   "outputs": [
    {
     "data": {
      "text/plain": [
       "np.float64(1.0169262409931434e-07)"
      ]
     },
     "execution_count": 13,
     "metadata": {},
     "output_type": "execute_result"
    }
   ],
   "source": [
    "# Berechne den p-Wert\n",
    "df = n1 + n2 - 2\n",
    "p = 1 - t.cdf(tw, df=df)\n",
    "p"
   ]
  },
  {
   "cell_type": "markdown",
   "id": "98198512-c5c5-4ef1-b0a3-3ff5c05b1ba9",
   "metadata": {},
   "source": [
    "**Schritt 5: Wenn $p \\le \\alpha , H_0$ ablehnen; ansonsten $H_0$ nicht ablehnen**"
   ]
  },
  {
   "cell_type": "code",
   "execution_count": 14,
   "id": "3dd99bda-9980-4469-bc38-2d6859800806",
   "metadata": {},
   "outputs": [
    {
     "data": {
      "text/plain": [
       "np.True_"
      ]
     },
     "execution_count": 14,
     "metadata": {},
     "output_type": "execute_result"
    }
   ],
   "source": [
    "p <= alpha"
   ]
  },
  {
   "cell_type": "markdown",
   "id": "abbfe0c9-3164-4c97-87e4-ada2b7e17680",
   "metadata": {},
   "source": [
    "Der $p$-Wert ist kleiner als das angegebene Signifikanzniveau von $0,01$; wir verwerfen $H_0$. Die Testergebnisse sind statistisch signifikant auf dem $1 \\%$-Niveau und liefern einen sehr starken Beweis gegen die Nullhypothese."
   ]
  },
  {
   "cell_type": "markdown",
   "id": "ead689e5-b198-4f63-91fc-f9259909ef28",
   "metadata": {},
   "source": [
    "**Schritt 6: Interpretieren Sie das Ergebnis des Hypothesentests**"
   ]
  },
  {
   "cell_type": "markdown",
   "id": "82f71e0d-a935-4e71-82cb-9d0b2a3024d8",
   "metadata": {},
   "source": [
    "$p=1,0169 \\cdot 10^{-7}$; Bei einem Signifikanzniveau von $1 \\%$ lassen die Daten den Schluss zu, dass das Durchschnittsgehalt männlicher Studenten höher ist als das Durchschnittsgehalt weiblicher Studenten."
   ]
  },
  {
   "cell_type": "markdown",
   "id": "298617cb-d1e5-4ce0-b670-e6d960492679",
   "metadata": {},
   "source": [
    "### Hypothesentests in Python"
   ]
  },
  {
   "cell_type": "markdown",
   "id": "d05ae7f6-1556-4aa9-9f57-8d2eedc0fb62",
   "metadata": {},
   "source": [
    "Wir haben soeben manuell einen Zweistichproben-$t$-Test für unabhängige Stichproben in Python durchgeführt. Bitte beachten Sie jedoch, dass wir die volle Leistungsfähigkeit von Python nutzen können, um das gleiche Ergebnis wie oben in nur einer Zeile Code zu erhalten!\n",
    "\n",
    "Um einen Zweistichproben-$t$-Test für unabhängige Stichproben in Python durchzuführen, verwenden wir die Funktion `ttest_ind()`. Wir geben zwei Vektoren als Dateneingabe an und setzen `equal_var=True`, um explizit anzugeben, dass wir die gepoolte Version des $t$-Tests anwenden, und wir setzen das Argument `alternative` auf `alternative=greater`, um $H_A$ widerzuspiegeln: $\\mu1 \\gt \\mu2$"
   ]
  },
  {
   "cell_type": "code",
   "execution_count": 15,
   "id": "62d1977f-5c38-40ac-868a-2b3c2445bd4c",
   "metadata": {},
   "outputs": [
    {
     "data": {
      "text/plain": [
       "TtestResult(statistic=np.float64(5.591470501655584), pvalue=np.float64(1.0169262412759704e-07), df=np.float64(98.0))"
      ]
     },
     "execution_count": 15,
     "metadata": {},
     "output_type": "execute_result"
    }
   ],
   "source": [
    "ttest_ind(male_sample, female_sample, equal_var=True, alternative=\"greater\")"
   ]
  },
  {
   "cell_type": "markdown",
   "id": "b1bcf5c4-fbc2-44da-b839-06227c423c15",
   "metadata": {},
   "source": [
    "Ein großer Erfolg! Vergleichen Sie die Ausgabe der Funktion `ttest_ind()` mit unserem Ergebnis von oben. Sie stimmen perfekt überein! Auch hier können wir schlussfolgern, dass bei einem Signifikanzniveau von $1 \\%$ die Daten einen sehr starken Hinweis darauf liefern, dass das Durchschnittsgehalt der männlichen Absolventen höher ist als das der weiblichen Absolventen."
   ]
  },
  {
   "cell_type": "code",
   "execution_count": 16,
   "id": "0cb6ad24-51c0-4482-add1-e58dbb1718d4",
   "metadata": {},
   "outputs": [
    {
     "name": "stdout",
     "output_type": "stream",
     "text": [
      "The autoreload extension is already loaded. To reload it, use:\n",
      "  %reload_ext autoreload\n",
      "The lab_black extension is already loaded. To reload it, use:\n",
      "  %reload_ext lab_black\n",
      "\n",
      "---------------------------------\n",
      "Working on the host: imarevic-pc\n",
      "\n",
      "---------------------------------\n",
      "Python version: 3.10.12 (main, Sep 11 2024, 15:47:36) [GCC 11.4.0]\n",
      "\n",
      "---------------------------------\n",
      "Python interpreter: /home/imarevic/Documents/teaching/SRH/content/statistik/statistik-env/bin/python3\n"
     ]
    },
    {
     "data": {
      "text/plain": [
       "<Figure size 640x480 with 0 Axes>"
      ]
     },
     "metadata": {},
     "output_type": "display_data"
    }
   ],
   "source": [
    "%matplotlib inline\n",
    "# Load the \"autoreload\" extension\n",
    "%load_ext autoreload\n",
    "# always reload modules\n",
    "%autoreload 2\n",
    "# black formatter for jupyter notebooks\n",
    "# %load_ext nb_black\n",
    "# black formatter for jupyter lab\n",
    "%load_ext lab_black\n",
    "\n",
    "%run ../../src/notebook_env.py"
   ]
  },
  {
   "cell_type": "markdown",
   "id": "6d6b26f4-f115-4d75-bb72-04303795824c",
   "metadata": {},
   "source": [
    "## Inferenz für zwei Grundgesamtheitsmittelwerte bei unabhängigen Stichproben; $s_1 \\ne s_2$\n",
    "----------------------------------------"
   ]
  },
  {
   "cell_type": "code",
   "execution_count": 17,
   "id": "082415b9-386a-487a-beb1-86ad8a80abe3",
   "metadata": {},
   "outputs": [],
   "source": [
    "import matplotlib.pyplot as plt\n",
    "import numpy as np\n",
    "import pandas as pd\n",
    "from random import sample\n",
    "from scipy.stats import t, ttest_ind\n",
    "import statsmodels.api as smi"
   ]
  },
  {
   "cell_type": "markdown",
   "id": "c6a552ef-bc08-4e56-a220-237e1b5cde7e",
   "metadata": {},
   "source": [
    "In den Fällen, in denen die Mittelwerte zweier Grundgesamtheiten getestet werden sollen und die Standardabweichungen zwischen den beiden Grundgesamtheiten unterschiedlich sind, wird der so genannte **nicht gepoolte $t$-Test** oder <a href=\"https://de.wikipedia.org/wiki/Zweistichproben-t-Test#Welch-Test\">**Welch's $t$-Test**</a> angewendet.\n",
    "\n",
    "Der **Welch's $t$-Test** ist dem **$2$-Stichproben $t$-Test für unabhängige Stichproben** sehr ähnlich, mit Ausnahme der Teststatistik $t$\n",
    "und bei der Berechnung der Freiheitsgrade ($df$). Die Teststatistik nutzt nicht $s_g$, die gewichtete Standardabweichung, und wird geschrieben als"
   ]
  },
  {
   "cell_type": "markdown",
   "id": "6132d8bc-1acd-4a8e-9d13-7172fa638ed1",
   "metadata": {},
   "source": [
    "$$t =  \\frac{(\\bar x_1 - \\bar x_2)}{ \\sqrt{\\frac{s_1^2}{n_1} + \\frac{s_2^2}{n_2}}}\\text{.}$$"
   ]
  },
  {
   "cell_type": "markdown",
   "id": "cc429c07-a70f-48f4-b06c-9ac00e3134d6",
   "metadata": {},
   "source": [
    "Der Nenner der obigen Gleichung ist der Schätzer der Standardabweichung von $\\bar x_1 - \\bar x_2$ und gegeben durch"
   ]
  },
  {
   "cell_type": "markdown",
   "id": "eb261ba6-5754-4d4c-bf0c-4aec00e656fc",
   "metadata": {},
   "source": [
    "$$s_{\\bar x_1 - \\bar x_2} = \\sqrt{\\frac{s^2_1}{n_1} + \\frac{s^2_2}{n_2}}\\text{.}$$"
   ]
  },
  {
   "cell_type": "markdown",
   "id": "d8148d0d-1445-4aa2-a2f7-109837d36c27",
   "metadata": {},
   "source": [
    "Die Teststatistik $t$ folgt einer $t$-Verteilung und die Freiheitsgrade ($df$) sind gegeben durch"
   ]
  },
  {
   "cell_type": "markdown",
   "id": "d03ff52f-92ca-46c6-8093-445cc7c4fb30",
   "metadata": {},
   "source": [
    "$$df=\\frac{\\left(\\frac{s_1^2}{n_1}+\\frac{s_1^2}{n_2}\\right)^2}{\\frac{\\left(\\frac{s_1^2}{n_1}\\right)^2}{n_1-1}+\\frac{\\left(\\frac{s_2^2}{n_2}\\right)^2}{n_2-1}}\\text{.}$$"
   ]
  },
  {
   "cell_type": "markdown",
   "id": "4f2e10a7-61cb-48e7-9991-af5cc8afae8d",
   "metadata": {},
   "source": [
    "Runden Sie die Freiheitsgrade auf die nächste ganze Zahl ab, wenn Sie Wahrscheinlichkeitstabellen verwenden.\n",
    "\n",
    "Der **nicht gepoolte $t$-Test** ist robust gegenüber mäßigen Verstößen gegen die Normalverteilungsannahme, aber er ist weniger robust gegenüber Ausreißern ({cite:t}`fahrmeirstatistik` s.403)."
   ]
  },
  {
   "cell_type": "markdown",
   "id": "0f7106f6-1cd7-481d-a6bb-8c3da6c63b46",
   "metadata": {},
   "source": [
    "### Intervall-Schätzung von $\\mu_1 - \\mu_2$"
   ]
  },
  {
   "cell_type": "markdown",
   "id": "f5a2b3a6-3107-4de7-92d3-006218471efe",
   "metadata": {},
   "source": [
    "Das $100(1-\\alpha)\\%$-Konfidenzintervall für $\\mu_1-\\mu_2$ ist"
   ]
  },
  {
   "cell_type": "markdown",
   "id": "f4aaaea1-f40d-41fd-9f7c-83ddeedbd434",
   "metadata": {},
   "source": [
    "$$(\\bar x_1 - \\bar x_2) \\pm t^* \\times  \\sqrt{\\frac{s^2_1}{n_1} + \\frac{s^2_2}{n_2}}$$"
   ]
  },
  {
   "cell_type": "markdown",
   "id": "c968ea9d-344e-469d-903d-6f7b65a2b0e1",
   "metadata": {},
   "source": [
    "wobei der Wert von $t$ aus der $t$-Verteilung für das gegebene Konfidenzniveau ermittelt wird. Die Freiheitsgrade ($df$) und die Standardabweichung ($s_{\\bar x_1 - \\bar x_2}$) ergeben sich aus der obigen Gleichung."
   ]
  },
  {
   "cell_type": "markdown",
   "id": "3c67151a-0a73-4166-974f-765560c204c8",
   "metadata": {},
   "source": [
    "### Der Welch's $t$-Test: Ein Beispiel"
   ]
  },
  {
   "cell_type": "markdown",
   "id": "a991af81-a7c4-4301-9c17-3e6e369ba6a4",
   "metadata": {},
   "source": [
    "Um praktische Erfahrungen zu sammeln, wenden wir den Welch's $t$-Test in einer Übung an. Dazu laden wir den `students` Datensatz. Sie können die Datei `students.csv` <a href=\"https://userpage.fu-berlin.de/soga/200/2010_data_sets/students.csv\">hier</a> herunterladen. Importieren Sie den Datensatz und geben Sie ihm einen passenden Namen."
   ]
  },
  {
   "cell_type": "code",
   "execution_count": 18,
   "id": "98a188e9-fedc-4601-9279-b6665d28db7d",
   "metadata": {},
   "outputs": [],
   "source": [
    "# Lese Datei students.csv als Dataframe ein; Indexspalte wird übersprungen\n",
    "students = pd.read_csv(\"../../data/students.csv\", index_col=0)"
   ]
  },
  {
   "cell_type": "markdown",
   "id": "7f0f4605-81c0-4d9f-a528-20f9cc807886",
   "metadata": {},
   "source": [
    "Der `students` Datensatz besteht aus $8239$ Zeilen, von denen jede einen bestimmten Studenten repräsentiert, und $16$ Spalten, von denen jede einer Variable/einem Merkmal entspricht, das sich auf diesen bestimmten Studenten bezieht. Diese selbsterklärenden Variablen sind: *stud_id, Name, Geschlecht, Alter, Größe, Gewicht, Religion, nc_score, Semester, Hauptfach, Nebenfach, score1, score2, online_tutorial, graduated, salary*."
   ]
  },
  {
   "cell_type": "markdown",
   "id": "ab1d962b-11b9-4f9a-a629-fbffbfa8750a",
   "metadata": {},
   "source": [
    "Zur Veranschaulichung des **nicht gepoolten $t$-Tests** untersuchen wir das mittlere Jahresgehalt (in Euro) von Absolventinnen in Abhängigkeit von ihrem Studienfach. Die erste Grundgesamtheit besteht aus Studentinnen mit dem Hauptfach Politikwissenschaft und die zweite Grundgesamtheit aus Studentinnen mit dem Hauptfach Sozialwissenschaften. Wir wollen testen, **ob es einen Unterschied im mittleren Gehalt dieser beiden Gruppen gibt.**"
   ]
  },
  {
   "cell_type": "markdown",
   "id": "77c44014-b79b-45f9-8f30-6635aabec4bb",
   "metadata": {},
   "source": [
    "### Vorbereitung der Daten"
   ]
  },
  {
   "cell_type": "markdown",
   "id": "a097d6a9-6e08-4246-8c90-fbb1033bce56",
   "metadata": {},
   "source": [
    "Wir beginnen mit der Datenaufbereitung.\n",
    "\n",
    "-  Wir unterteilen den Datensatz anhand der Variablen `gender` und `graduated`.\n",
    "-   Dann unterteilen wir die Teilmenge in Absolventen der Politikwissenschaften und der Sozialwissenschaften (Variable `major`).\n",
    "-   Dann ziehen wir aus jeder Gruppe $50$ Studenten und extrahieren die Variable von Interesse, das mittlere Jahresgehalt (in Euro), das in der Spalte `salary` gespeichert ist. Wir ordnen diese beiden Vektoren den Variablen `PS` und `SS` zu."
   ]
  },
  {
   "cell_type": "code",
   "execution_count": 19,
   "id": "9a9ce23a-be61-4146-951a-04750d1bf887",
   "metadata": {},
   "outputs": [],
   "source": [
    "female_graduates = students.loc[\n",
    "    (students[\"graduated\"] == 1) & (students[\"gender\"] == \"Female\")\n",
    "]\n",
    "subset_PS = female_graduates.loc[female_graduates[\"major\"] == \"Political Science\"]\n",
    "subset_SS = female_graduates.loc[female_graduates[\"major\"] == \"Social Sciences\"]\n",
    "\n",
    "PS = subset_PS[\"salary\"].sample(n=50, random_state=2)\n",
    "SS = subset_SS[\"salary\"].sample(n=50, random_state=2)"
   ]
  },
  {
   "cell_type": "markdown",
   "id": "2ba96ef9-20eb-42dc-875c-0cac49d93478",
   "metadata": {},
   "source": [
    "Außerdem überprüfen wir, ob die Daten normalverteilt sind, indem wir ein Q-Q-Diagramm erstellen. In Python können wir die Funktion `qqplot()` verwenden, um Q-Q-Plots zu erstellen."
   ]
  },
  {
   "cell_type": "code",
   "execution_count": 20,
   "id": "d66d79ce-db4f-4376-bd8d-fde881e4c393",
   "metadata": {},
   "outputs": [
    {
     "data": {
      "text/plain": [
       "Text(0, 0.5, 'Stichproben Quantillen')"
      ]
     },
     "execution_count": 20,
     "metadata": {},
     "output_type": "execute_result"
    },
    {
     "data": {
      "image/png": "[encoded data removed]",
      "text/plain": [
       "<Figure size 640x480 with 1 Axes>"
      ]
     },
     "metadata": {},
     "output_type": "display_data"
    }
   ],
   "source": [
    "# Erzeuge Q-Q Plot\n",
    "qqp = smi.qqplot(PS, line=\"r\")\n",
    "ax = qqp.gca()\n",
    "ax.set_title(\n",
    "    \"Q-Q-Diagramm für Absolventinnen \\n der Politikwissenschaft (Stichprobendaten)\"\n",
    ")\n",
    "ax.set_xlabel(\"Theoretische Quantillen\")\n",
    "ax.set_ylabel(\"Stichproben Quantillen\")"
   ]
  },
  {
   "cell_type": "code",
   "execution_count": 21,
   "id": "04428468-0309-415f-aa7c-5928717b07a2",
   "metadata": {},
   "outputs": [
    {
     "data": {
      "text/plain": [
       "Text(0, 0.5, 'Stichproben Quantillen')"
      ]
     },
     "execution_count": 21,
     "metadata": {},
     "output_type": "execute_result"
    },
    {
     "data": {
      "image/png": "[encoded data removed]",
      "text/plain": [
       "<Figure size 640x480 with 1 Axes>"
      ]
     },
     "metadata": {},
     "output_type": "display_data"
    }
   ],
   "source": [
    "# Erzeuge Q-Q Plot\n",
    "qqp2 = smi.qqplot(SS, line=\"r\")\n",
    "ax = qqp2.gca()\n",
    "ax.set_title(\n",
    "    \"Q-Q-Diagramm für Absolventinnen \\n der Sozialwissenschaft (Stichprobendaten)\"\n",
    ")\n",
    "ax.set_xlabel(\"Theoretische Quantillen\")\n",
    "ax.set_ylabel(\"Stichproben Quantillen\")"
   ]
  },
  {
   "cell_type": "markdown",
   "id": "7578b2ea-2aef-46eb-a8e2-b2d1478ee777",
   "metadata": {},
   "source": [
    "Wir sehen, dass die Daten beider Stichproben ungefähr auf einer Geraden liegen.\n",
    "\n",
    "Gehen wir davon aus, dass die Daten des `students` Datensatzes eine gute Annäherung an die Grundgesamtheit darstellen. Dann können wir visuell überprüfen, ob sich die Standardabweichungen der beiden Grundgesamtheiten tatsächlich voneinander unterscheiden, indem wir ein Boxplot aufzeichnen."
   ]
  },
  {
   "cell_type": "code",
   "execution_count": 22,
   "id": "25ba127b-6861-4251-bfb9-9d2a639fd5ed",
   "metadata": {},
   "outputs": [
    {
     "data": {
      "text/plain": [
       "{'whiskers': [<matplotlib.lines.Line2D at 0x79a96ddca8c0>,\n",
       "  <matplotlib.lines.Line2D at 0x79a96ddcab60>],\n",
       " 'caps': [<matplotlib.lines.Line2D at 0x79a96ddcae00>,\n",
       "  <matplotlib.lines.Line2D at 0x79a96ddcb0a0>],\n",
       " 'boxes': [<matplotlib.lines.Line2D at 0x79a96ddca620>],\n",
       " 'medians': [<matplotlib.lines.Line2D at 0x79a96ddcb340>],\n",
       " 'fliers': [<matplotlib.lines.Line2D at 0x79a96ddcb5e0>],\n",
       " 'means': []}"
      ]
     },
     "execution_count": 22,
     "metadata": {},
     "output_type": "execute_result"
    },
    {
     "data": {
      "image/png": "[encoded data removed]",
      "text/plain": [
       "<Figure size 640x480 with 2 Axes>"
      ]
     },
     "metadata": {},
     "output_type": "display_data"
    }
   ],
   "source": [
    "fig1, (ax1, ax2) = plt.subplots(nrows=2, sharex=True)\n",
    "\n",
    "ax1.set_title(\"Stichprobendaten\")\n",
    "ax1.set_ylabel(\"Sozialwissenschaften\", size=10)\n",
    "ax2.set_ylabel(\"Politikwissenschaften\", size=10)\n",
    "ax2.set_xlabel(\"Jährliches Gehalt in EUR\")\n",
    "ax2.boxplot(subset_PS[\"salary\"], vert=False)\n",
    "ax1.boxplot(subset_SS[\"salary\"], vert=False)"
   ]
  },
  {
   "cell_type": "markdown",
   "id": "7fb762f9-00c2-409b-8e93-4f6a3d98a8a4",
   "metadata": {},
   "source": [
    "Auf der Grundlage des grafischen Auswertungsansatzes kommen wir zu dem Schluss, dass die Daten annähernd normalverteilt sind und dass die Standardabweichungen voneinander abweichen."
   ]
  },
  {
   "cell_type": "markdown",
   "id": "0806d70c-37e6-4be6-91bf-f198cf86b738",
   "metadata": {},
   "source": [
    "### Überprüfung der Hypothesen"
   ]
  },
  {
   "cell_type": "markdown",
   "id": "25dffe51-0eb9-4c8e-a189-dfb3ac0f0d4e",
   "metadata": {},
   "source": [
    "Erinnern Sie sich an die Forschungsfrage. **Lassen die Daten den Schluss zu, dass sich das mittlere Jahresgehalt von Absolventinnen mit einem Hauptfach in Politikwissenschaft vom mittleren Jahresgehalt von Absolventinnen mit einem Hauptfach in Sozialwissenschaften unterscheidet?**\n",
    "\n",
    "Um den nicht zusammengefassten $t$-Test durchzuführen, folgen wir dem schrittweisen Durchführungsverfahren für Hypothesentests."
   ]
  },
  {
   "cell_type": "markdown",
   "id": "f47bfb2d-5e2d-4de3-a70e-1e15431f4a52",
   "metadata": {},
   "source": [
    "**Schritt 1 : Geben Sie die Nullhypothese $H_0$ und alternative Hypothese $H_A$ an**"
   ]
  },
  {
   "cell_type": "markdown",
   "id": "5804d7ec-7e7d-42d1-a89a-54a4c142708a",
   "metadata": {},
   "source": [
    "Die Nullhypothese besagt, dass das durchschnittliche Jahresgehalt von Absolventinnen mit dem Hauptfach Politikwissenschaft ($\\mu_1$) gleich dem durchschnittlichen Jahresgehalt von Absolventinnen mit dem Hauptfach Sozialwissenschaften ($\\mu_2$) ist."
   ]
  },
  {
   "cell_type": "markdown",
   "id": "c7b77804-a7cc-46ff-891a-7f1235102a8d",
   "metadata": {},
   "source": [
    "$$H_0: \\quad \\mu_1 = \\mu_2$$"
   ]
  },
  {
   "cell_type": "markdown",
   "id": "6a4f08c0-4cfb-47b0-b007-29df4681a60a",
   "metadata": {},
   "source": [
    "**Alternative Hypothese**"
   ]
  },
  {
   "cell_type": "markdown",
   "id": "aaa83ac8-fce7-4ae4-a48f-f0743dd7045e",
   "metadata": {},
   "source": [
    "$$H_A: \\quad \\mu_1 \\ne \\mu_2$$"
   ]
  },
  {
   "cell_type": "markdown",
   "id": "5896c5bf-0106-44e6-9c65-388b3affb9d0",
   "metadata": {},
   "source": [
    "Diese Formulierung führt zu einem zweiseitigen Hypothesentest."
   ]
  },
  {
   "cell_type": "markdown",
   "id": "6663d087-ddc7-45e9-8068-076770d04888",
   "metadata": {},
   "source": [
    "**Schritt 2: Legen Sie das Signifikanzniveau,$\\alpha$ fest**"
   ]
  },
  {
   "cell_type": "markdown",
   "id": "553f18a0-c1a3-4fac-b9f8-9126e8f0befa",
   "metadata": {},
   "source": [
    "$$\\alpha = 0,05$$"
   ]
  },
  {
   "cell_type": "code",
   "execution_count": 23,
   "id": "748eb834-6d21-499a-bf1f-0b21519848d6",
   "metadata": {},
   "outputs": [],
   "source": [
    "alpha = 0.05"
   ]
  },
  {
   "cell_type": "markdown",
   "id": "d0afdac8-528d-43a0-8aa0-e84ab9ddd61c",
   "metadata": {},
   "source": [
    "**Schritt 3 und 4: Berechnen Sie den Wert der Teststatistik und den $p$-Wert**"
   ]
  },
  {
   "cell_type": "markdown",
   "id": "1626067c-651f-4274-98bb-aa8df6d1aeb3",
   "metadata": {},
   "source": [
    "Zur Veranschaulichung berechnen wir die Teststatistik manuell in Python. Wir erinnern uns an die Gleichungen für die Teststatistik von oben."
   ]
  },
  {
   "cell_type": "code",
   "execution_count": 24,
   "id": "8118bc27-67ec-4d00-a795-51faa4ffbd77",
   "metadata": {},
   "outputs": [
    {
     "data": {
      "text/plain": [
       "np.float64(3.054456171492353)"
      ]
     },
     "execution_count": 24,
     "metadata": {},
     "output_type": "execute_result"
    }
   ],
   "source": [
    "# Berechne die Teststatistik\n",
    "n1 = len(PS)\n",
    "n2 = len(SS)\n",
    "s1 = np.std(PS, ddof=1)\n",
    "s2 = np.std(SS, ddof=1)\n",
    "x1_bar = np.mean(PS)\n",
    "x2_bar = np.mean(SS)\n",
    "\n",
    "tw = (x1_bar - x2_bar) / (np.sqrt(s1**2 / n1 + s2**2 / n2))\n",
    "tw"
   ]
  },
  {
   "cell_type": "markdown",
   "id": "57fcdd98-62d2-4ab5-a3eb-abba6396666f",
   "metadata": {},
   "source": [
    "Der numerische Wert der Teststatistik ist $3,05446$.\n",
    "\n",
    "Um den $p$-Wert zu berechnen, wenden wir die Funktion `t.cdf()` an. Erinnern Sie sich daran, wie man die Freiheitsgrade berechnet."
   ]
  },
  {
   "cell_type": "markdown",
   "id": "6a7977d5-3ad2-45f1-957a-dd03882c354e",
   "metadata": {},
   "source": [
    "$$df=\\frac{\\left(\\frac{s_1^2}{n_1}+\\frac{s_1^2}{n_2}\\right)^2}{\\frac{\\left(\\frac{s_1^2}{n_1}\\right)^2}{n_1-1}+\\frac{\\left(\\frac{s_2^2}{n_2}\\right)^2}{n_2-1}}\\text{,}$$"
   ]
  },
  {
   "cell_type": "code",
   "execution_count": 25,
   "id": "fd9a2206-d4c0-470e-b2c8-cd8f15b7ebb7",
   "metadata": {},
   "outputs": [
    {
     "data": {
      "text/plain": [
       "np.float64(81.31178520706362)"
      ]
     },
     "execution_count": 25,
     "metadata": {},
     "output_type": "execute_result"
    }
   ],
   "source": [
    "# Berechne df\n",
    "df_numerator = (s1**2 / n1 + s2**2 / n2) ** 2\n",
    "df_denominator = (s1**2 / n1) ** 2 / (n1 - 1) + (s2**2 / n2) ** 2 / (n2 - 1)\n",
    "df = df_numerator / df_denominator\n",
    "df"
   ]
  },
  {
   "cell_type": "code",
   "execution_count": 26,
   "id": "a62c73cc-271c-4379-b77c-4aeb87545fbe",
   "metadata": {},
   "outputs": [
    {
     "data": {
      "text/plain": [
       "np.float64(0.0030479813074539763)"
      ]
     },
     "execution_count": 26,
     "metadata": {},
     "output_type": "execute_result"
    }
   ],
   "source": [
    "# Berechne p-Wert\n",
    "# wir verwenden einen zweiseitigen Test\n",
    "upper = 1 - t.cdf(abs(tw), df=df)\n",
    "lower = t.cdf(-abs(tw), df=df)\n",
    "p = upper + lower\n",
    "p"
   ]
  },
  {
   "cell_type": "markdown",
   "id": "6730041f-c6e6-4452-93d3-79bc21ad3fbf",
   "metadata": {},
   "source": [
    "**Schritt 5: Wenn $p \\le \\alpha , H_0$ ablehnen; ansonsten $H_0$ nicht ablehnen**"
   ]
  },
  {
   "cell_type": "code",
   "execution_count": 27,
   "id": "9c9b9b2d-6fb5-4f49-9e4c-edc7973f7e6b",
   "metadata": {},
   "outputs": [
    {
     "data": {
      "text/plain": [
       "np.True_"
      ]
     },
     "execution_count": 27,
     "metadata": {},
     "output_type": "execute_result"
    }
   ],
   "source": [
    "p <= alpha"
   ]
  },
  {
   "cell_type": "markdown",
   "id": "8c3a2f7e-60a8-47a5-bb73-14b9f6c768e9",
   "metadata": {},
   "source": [
    "Der $p$-Wert ist kleiner als das angegebene Signifikanzniveau von $0,05$; wir verwerfen $H_0$. Die Testergebnisse sind statistisch signifikant auf dem $5 \\%$-Niveau und liefern einen sehr starken Beweis gegen die Nullhypothese."
   ]
  },
  {
   "cell_type": "markdown",
   "id": "857e3ede-8175-4294-8aaf-0bdec76f3cd3",
   "metadata": {},
   "source": [
    "**Schritt 6: Interpretieren Sie das Ergebnis des Hypothesentests**"
   ]
  },
  {
   "cell_type": "markdown",
   "id": "af240a6f-404f-4794-a3d0-5dbc300de6d9",
   "metadata": {},
   "source": [
    "$p=0,003047987$. Bei einem Signifikanzniveau von $5 \\%$ lassen die Daten den Schluss zu, dass sich das durchschnittliche Jahresgehalt von Absolventinnen der Politikwissenschaft vom durchschnittlichen Jahresgehalt von Absolventinnen der Sozialwissenschaften unterscheidet."
   ]
  },
  {
   "cell_type": "markdown",
   "id": "2d8eda1b-c138-4210-980d-2d743a0a7a9c",
   "metadata": {},
   "source": [
    "### Hypothesentests in Python"
   ]
  },
  {
   "cell_type": "markdown",
   "id": "6282d2db-2612-4ef7-8473-f5f2d6d7a04c",
   "metadata": {},
   "source": [
    "Wir haben gerade einen Welch's $t$-Test in Python manuell durchgeführt. Jetzt nutzen wir die volle Leistung  von Python, um das gleiche Ergebnis wie oben mit nur einer Zeile Code zu erhalten!\n",
    "\n",
    "Um einen Welch's $t$-Test in Python durchzuführen, verwenden wir die Funktion `ttest_ind()`. Wir geben zwei Vektoren als Dateneingabe an und setzen `equal_var = False`, um explizit anzugeben, dass wir die nicht gepoolte Version des $t$-Tests anwenden. Das Argument `alternative` muss nicht gesetzt werden, da der Standardwert unserer Alternativhypothese entspricht $H_A: \\; \\mu_1 \\ne \\mu_2$"
   ]
  },
  {
   "cell_type": "code",
   "execution_count": 28,
   "id": "cb4927de-7270-4a5c-bb77-3eb779492278",
   "metadata": {},
   "outputs": [
    {
     "data": {
      "text/plain": [
       "TtestResult(statistic=np.float64(3.054456171492353), pvalue=np.float64(0.003047981307453968), df=np.float64(81.31178520706362))"
      ]
     },
     "execution_count": 28,
     "metadata": {},
     "output_type": "execute_result"
    }
   ],
   "source": [
    "ttest_ind(PS, SS, equal_var=False)"
   ]
  },
  {
   "cell_type": "markdown",
   "id": "a10f4421-ecc5-4370-bc98-02a72f299b05",
   "metadata": {},
   "source": [
    "Stark! Vergleichen Sie die Ausgabe der Funktion `ttest_ind()` mit unserem Ergebnis von oben. Sie stimmen perfekt überein! Auch hier können wir schlussfolgern, dass die Daten bei einem Signifikanzniveau von $5 \\%$ einen sehr starken Hinweis darauf liefern, dass sich das durchschnittliche Jahresgehalt von Absolventinnen der Politikwissenschaft vom durchschnittlichen Jahresgehalt von Absolventinnen der Sozialwissenschaften unterscheidet."
   ]
  },
  {
   "cell_type": "code",
   "execution_count": 29,
   "id": "1e8d3368-f2ed-4854-b6cb-a5267368c4de",
   "metadata": {},
   "outputs": [
    {
     "name": "stdout",
     "output_type": "stream",
     "text": [
      "The autoreload extension is already loaded. To reload it, use:\n",
      "  %reload_ext autoreload\n",
      "The lab_black extension is already loaded. To reload it, use:\n",
      "  %reload_ext lab_black\n",
      "\n",
      "---------------------------------\n",
      "Working on the host: imarevic-pc\n",
      "\n",
      "---------------------------------\n",
      "Python version: 3.10.12 (main, Sep 11 2024, 15:47:36) [GCC 11.4.0]\n",
      "\n",
      "---------------------------------\n",
      "Python interpreter: /home/imarevic/Documents/teaching/SRH/content/statistik/statistik-env/bin/python3\n"
     ]
    },
    {
     "data": {
      "text/plain": [
       "<Figure size 640x480 with 0 Axes>"
      ]
     },
     "metadata": {},
     "output_type": "display_data"
    }
   ],
   "source": [
    "%matplotlib inline\n",
    "# Load the \"autoreload\" extension\n",
    "%load_ext autoreload\n",
    "# always reload modules\n",
    "%autoreload 2\n",
    "# black formatter for jupyter notebooks\n",
    "# %load_ext nb_black\n",
    "# black formatter for jupyter lab\n",
    "%load_ext lab_black\n",
    "\n",
    "%run ../../src/notebook_env.py"
   ]
  },
  {
   "cell_type": "markdown",
   "id": "9e83da8d-e24d-4948-b0ac-da88852311a0",
   "metadata": {},
   "source": [
    "## Inferenz für zwei Grundgesamtheitsmittelwerte bei gepaarten Stichproben\n",
    "----------------------------------------"
   ]
  },
  {
   "cell_type": "code",
   "execution_count": 30,
   "id": "e6966708-0852-40af-8192-d8a2b544c93f",
   "metadata": {
    "tags": []
   },
   "outputs": [],
   "source": [
    "import matplotlib.pyplot as plt\n",
    "import numpy as np\n",
    "import pandas as pd\n",
    "from random import sample\n",
    "from scipy.stats import t, ttest_rel\n",
    "import statsmodels.api as smi"
   ]
  },
  {
   "cell_type": "markdown",
   "id": "f9150c9f-e2a9-433a-bd1c-8d3d906b8cca",
   "metadata": {},
   "source": [
    "Wenden wir uns nun einem Hypothesentestverfahren für die Differenz zwischen zwei Grundgesamtheitsmittelwerte zu, wenn die Stichproben **abhängig** sind. Wenn beispielsweise zwei Datenwerte aus derselben Quelle (oder demselben Teilsystem) stammen, werden diese als **gepaarte** oder **abhängige** Stichproben bezeichnet.\n",
    "\n",
    "Sehr häufig werden diese Verfahren für die **Before-After-Control-Impact (BACI)** eingesetzt. Stellen Sie sich einen Fall vor, in dem Sie die Wirksamkeit eines Filtersystems zur Entfernung von Luftschadstoffen, die von einer Fabrik freigesetzt werden, bewerten sollen. In diesem Fall besteht eine Grundgesamtheit aus Messungen der Luftqualität vor der Einführung oder Erneuerung des Filtersystems und die andere Grundgesamtheit aus Messungen der Luftqualität nach der Installation des neuen Filtersystems. In diesem Fall hat man es mit gepaarten Stichproben zu tun, da die beiden Datensätze von derselben Quelle, der Fabrik, erhoben werden.\n",
    "\n",
    "Bei gepaarten Stichproben wird die Differenz zwischen den Datenwerten der beiden Stichproben mit $d$ bezeichnet, oft auch als **gepaarte Differenz** bezeichnet. Beachten Sie, dass der Stichprobenumfang $n$ für jede Stichprobe gleich ist. Der Mittelwert der gepaarten Differenzen für die Stichproben wird als $\\bar d$ bezeichnet."
   ]
  },
  {
   "cell_type": "markdown",
   "id": "d991212a-466e-4375-91cf-3d55e6a59edd",
   "metadata": {},
   "source": [
    "$$\\bar d = \\frac{\\sum d}{n}$$"
   ]
  },
  {
   "cell_type": "markdown",
   "id": "feb0ba2a-d2f7-4f99-b232-808b72f82f73",
   "metadata": {},
   "source": [
    "Die Standardabweichung der gepaarten Unterschiede für zwei Stichproben, $s_d$, wird wie folgt berechnet"
   ]
  },
  {
   "cell_type": "markdown",
   "id": "21bd2e05-ab4b-4e9f-8f6f-51be5858e628",
   "metadata": {},
   "source": [
    "$$s_d = \\sqrt{\\frac{\\sum d^2 - \\frac{(\\sum d)^2}{n}}{n-1}}$$"
   ]
  },
  {
   "cell_type": "markdown",
   "id": "f8147117-330c-44e5-8dc9-298ba70f7923",
   "metadata": {},
   "source": [
    "Angenommen, die gepaarte Differenzvariable $d$ ist normalverteilt, dann wird die <a href=\"https://de.wikipedia.org/wiki/Zweistichproben-t-Test#Zweistichproben-t-Test_f%C3%BCr_abh%C3%A4ngige_Stichproben\">gepaarte $t$-Statistik</a> wie folgt ausgedrückt"
   ]
  },
  {
   "cell_type": "markdown",
   "id": "fa5aaf58-d91e-40d3-b472-509a0fac25aa",
   "metadata": {},
   "source": [
    "$$t= \\frac{\\bar d - (\\mu_1-\\mu_2)}{\\frac{s_d}{\\sqrt{n}}}\\text{,}$$"
   ]
  },
  {
   "cell_type": "markdown",
   "id": "c9ef1706-03b6-485c-9c86-de144169f10b",
   "metadata": {},
   "source": [
    "was sich vereinfacht zu"
   ]
  },
  {
   "cell_type": "markdown",
   "id": "e8da4769-3cab-46b8-8de0-343d985d537e",
   "metadata": {},
   "source": [
    "$$t= \\frac{\\bar d}{\\frac{s_d}{\\sqrt{n}}}\\text{,}$$"
   ]
  },
  {
   "cell_type": "markdown",
   "id": "6f30ed09-d716-459d-ab44-7f4b327530be",
   "metadata": {},
   "source": [
    "wenn $\\mu_1-\\mu_2 = 0$. Die Teststatistik $t$ für gepaarte Stichproben folgt einer $t$-Verteilung mit $df=n-1$."
   ]
  },
  {
   "cell_type": "markdown",
   "id": "d143819b-6403-4fef-bfa4-b334ec5564c7",
   "metadata": {},
   "source": [
    "### Intervall-Schätzung von $\\mu_d$"
   ]
  },
  {
   "cell_type": "markdown",
   "id": "6eb85e3a-1320-47ba-8665-6d1e161aa3e6",
   "metadata": {},
   "source": [
    "Das $100(1-\\alpha)\\%$-Konfidenzintervall für $\\mu_d$ ist"
   ]
  },
  {
   "cell_type": "markdown",
   "id": "bb22fdc2-c0c9-4b6a-80d5-bc729adba12a",
   "metadata": {},
   "source": [
    "$$\\bar d \\pm t \\times \\frac{s_d}{\\sqrt{n}}$$"
   ]
  },
  {
   "cell_type": "markdown",
   "id": "c211b8f0-5a3c-4c52-a407-5dff7b6d64fe",
   "metadata": {},
   "source": [
    "wobei sich der Wert von $t$ aus der $t$-Verteilung für das gegebene Konfidenzniveau und $n-1$ Freiheitsgrade ergibt."
   ]
  },
  {
   "cell_type": "markdown",
   "id": "e31abfb2-0e5a-4b43-b11f-0b31ceb0831d",
   "metadata": {},
   "source": [
    "### Der $2$-Stichproben $t$-Test für gepaarte (abhängige) Stichproben: Ein Beispiel"
   ]
  },
  {
   "cell_type": "markdown",
   "id": "714f1e26-8ff0-4b40-aeea-7e12fb1665af",
   "metadata": {},
   "source": [
    "Um praktische Erfahrungen zu sammeln, wenden wir den **gepaarten $t$-Test** in einer Übung an. Dazu laden wir den `students` Datensatz. Sie können die Datei `students.csv` <a href=\"https://userpage.fu-berlin.de/soga/200/2010_data_sets/students.csv\">hier</a> herunterladen. Importieren Sie den Datensatz und geben Sie ihm einen passenden Namen."
   ]
  },
  {
   "cell_type": "code",
   "execution_count": 31,
   "id": "2f551221-1555-4949-88f6-f4aa1eac5038",
   "metadata": {},
   "outputs": [],
   "source": [
    "# Lese Datei students.csv als Dataframe ein; Indexspalte wird übersprungen\n",
    "students = pd.read_csv(\"../../data/students.csv\", index_col=0)"
   ]
  },
  {
   "cell_type": "markdown",
   "id": "940d921e-1caa-44f1-a1da-0c885e74dffe",
   "metadata": {},
   "source": [
    "Der `students` Datensatz besteht aus $8239$ Zeilen, von denen jede einen bestimmten Studenten repräsentiert, und $16$ Spalten, von denen jede einer Variable/einem Merkmal entspricht, das sich auf diesen bestimmten Studenten bezieht. Diese selbsterklärenden Variablen sind: *stud_id, name, gender, age, height, weight, religion, nc_score, semester, major, minor, score1, score2, online_tutorial, graduated, salary.*"
   ]
  },
  {
   "cell_type": "markdown",
   "id": "fdc588ab-bc2a-4708-9fc2-3332e3d44f51",
   "metadata": {},
   "source": [
    "Um den gepaarten $t$-Test für abhängige Stichproben zu veranschaulichen, **interessieren wir uns für die Frage, ob ein Online-Tutorium zum Erlernen von Statistik den Studenten hilft, ihre Noten zu verbessern**. Es gibt drei Variablen im Datensatz der Studenten, die von Interesse sind. Die Variable `online_tutorial` ist eine binäre Variable, die den Wert $1$ annimmt, wenn der Student das Online-Tutorium zum Thema Statistik absolviert hat, und ansonsten den Wert $0$. Die Variablen `score1` und `score2` geben die Noten ($0-100$) für zwei Klausuren in Mathematik und Statistik an. Je höher der Wert ist, desto besser hat der jeweilige Studierende abgeschnitten. Bitte beachten Sie, dass die erste Prüfung stattfindet, bevor die Studierenden das Online-Tutorium zum Thema Statistik besucht haben. Die Teilnahme am Online-Tutorium zur Statistik ist nicht verpflichtend, die beiden Prüfungen sind jedoch für alle Studierenden obligatorisch. Die erste Prüfung (`score1`) findet zu Beginn des $3$. Semesters statt, die zweite Prüfung (`score2`) am Ende des $3$. Semesters.\n",
    "\n",
    "Im Wesentlichen sind zwei Forschungsfragen von Interesse. **Erstens wollen wir untersuchen, ob die Gruppe der Studierenden, die das Online-Tutorial zum Statistiklernen besucht hat, in der zweiten Prüfung besser abschneidet als in den ersten Prüfungen. Zweitens wird untersucht, wie die Gruppe der Studierenden, die nicht am Online-Tutorium für Statistik teilgenommen hat, bei beiden Prüfungen abgeschnitten hat.**"
   ]
  },
  {
   "cell_type": "markdown",
   "id": "07c6ad34-123a-42ea-be43-11eb5946a4ce",
   "metadata": {},
   "source": [
    "### Vorbereitung der Daten"
   ]
  },
  {
   "cell_type": "markdown",
   "id": "cdbddd36-d8dc-43cb-b773-6a142682ed82",
   "metadata": {},
   "source": [
    "Wir beginnen mit der ersten Forschungsfrage und konzentrieren uns auf die Studierenden, die das Online-Tutorial zum Thema Statistik besucht haben.\n",
    "\n",
    "Für die Datenaufbereitung unterteilen wir den Datensatz anhand der Variable `online_tutorial`, die angibt, ob der Studierende das Tutorium besucht hat oder nicht ($1$=ja, $0$=nein). Dann ziehen wir eine Zufallsstichprobe von $65$ Studenten aus dem Datensatz und extrahieren die beiden Variablen von Interesse, `score1` und `score2`. Wir speichern jede von ihnen in einem Vektor mit den Namen `score1_sample` und `score2_sample`."
   ]
  },
  {
   "cell_type": "code",
   "execution_count": 32,
   "id": "42db0a26-18af-443a-99d7-20b94bf16b8b",
   "metadata": {},
   "outputs": [],
   "source": [
    "tutorial = students.loc[students[\"online_tutorial\"] == 1]\n",
    "n = 65\n",
    "score1_sample = tutorial[\"score1\"].sample(n, random_state=1)\n",
    "score2_sample = tutorial[\"score2\"].sample(n, random_state=1)"
   ]
  },
  {
   "cell_type": "markdown",
   "id": "4554f064-54ed-4aa4-afe2-1313c4b36f47",
   "metadata": {},
   "source": [
    "Nun berechnen wir die gepaarten Differenzen, $d$, und stellen sie dar."
   ]
  },
  {
   "cell_type": "code",
   "execution_count": 33,
   "id": "dac5d9ca-e992-41e0-8671-0345ac98d4c0",
   "metadata": {},
   "outputs": [
    {
     "data": {
      "text/plain": [
       "Text(0, 0.5, \"Unterschied der 'Scores'\")"
      ]
     },
     "execution_count": 33,
     "metadata": {},
     "output_type": "execute_result"
    },
    {
     "data": {
      "image/png": "[encoded data removed]",
      "text/plain": [
       "<Figure size 640x480 with 1 Axes>"
      ]
     },
     "metadata": {},
     "output_type": "display_data"
    }
   ],
   "source": [
    "d = score1_sample - score2_sample\n",
    "x = np.arange(n)\n",
    "fig, ax = plt.subplots()\n",
    "ax.axhline(y=0, color=\"r\")\n",
    "ax.bar(x, d, edgecolor=\"k\")\n",
    "ax.set_xlabel(\"ID\")\n",
    "ax.set_ylabel(\"Unterschied der 'Scores'\")"
   ]
  },
  {
   "cell_type": "markdown",
   "id": "3d9a6e4b-b3e8-4ea2-ae37-7bcdefc6a603",
   "metadata": {},
   "source": [
    "Das Diagramm sieht wie erwartet aus. Einige Studierende schneiden in der ersten Prüfung besser ab als in der zweiten Prüfung und umgekehrt.\n",
    "\n",
    "Um die Normalverteilungsannahme zu überprüfen, stützen wir uns wiederum auf eine visuelle Inspektion eines <a href=\"https://de.wikipedia.org/wiki/Quantil-Quantil-Diagramm\">Q-Q-Plots</a>. Wenn die Variable normalverteilt ist, sollte das Q-Q-Diagramm ungefähr linear sein. In Python können wir die Funktion `qqplot()` verwenden, um Q-Q-Plots zu erstellen."
   ]
  },
  {
   "cell_type": "code",
   "execution_count": 34,
   "id": "3469aae1-6d2d-42a6-9809-377442cdee62",
   "metadata": {},
   "outputs": [
    {
     "data": {
      "text/plain": [
       "Text(0, 0.5, 'Stichproben Quantillen')"
      ]
     },
     "execution_count": 34,
     "metadata": {},
     "output_type": "execute_result"
    },
    {
     "data": {
      "image/png": "[encoded data removed]",
      "text/plain": [
       "<Figure size 640x480 with 1 Axes>"
      ]
     },
     "metadata": {},
     "output_type": "display_data"
    }
   ],
   "source": [
    "# Erzeuge Q-Q Plot\n",
    "qqp = smi.qqplot(d, line=\"r\")\n",
    "ax = qqp.gca()\n",
    "ax.set_title(\"Q-Q-Diagramm für Unterschiede \\n in den Prüfungsergebnissen\")\n",
    "ax.set_xlabel(\"Theoretische Quantillen\")\n",
    "ax.set_ylabel(\"Stichproben Quantillen\")"
   ]
  },
  {
   "cell_type": "markdown",
   "id": "ca01e27f-a3e3-43e0-8776-768b9b0209d1",
   "metadata": {},
   "source": [
    "Die Daten sind nicht sehr genau und etwas verrauscht, aber sie scheinen ungefähr normalverteilt zu sein.\n",
    "\n",
    "Wir berechnen weiter $\\bar d$ den Mittelwert der gepaarten Differenzen"
   ]
  },
  {
   "cell_type": "markdown",
   "id": "e9075ae2-7704-4946-b551-e6d8356887da",
   "metadata": {},
   "source": [
    "$$\\bar d = \\frac{\\sum d}{n}\\text{,}$$"
   ]
  },
  {
   "cell_type": "markdown",
   "id": "7be0825f-d2a0-435c-8245-36a59c85b2ae",
   "metadata": {},
   "source": [
    "und $s_d$, die Standardabweichung der gepaarten Unterschiede für zwei Stichproben"
   ]
  },
  {
   "cell_type": "markdown",
   "id": "a1bb13d5-cebc-413f-ac53-bc5bb8664ca4",
   "metadata": {},
   "source": [
    "$$s_d = \\sqrt{\\frac{\\sum d^2 - \\frac{(\\sum d)^2}{n}}{n-1}}\\text{.}$$"
   ]
  },
  {
   "cell_type": "code",
   "execution_count": 35,
   "id": "053a6c93-2806-4a30-9619-b7f0c9e265e2",
   "metadata": {},
   "outputs": [
    {
     "data": {
      "text/plain": [
       "-1.7538461538461538"
      ]
     },
     "execution_count": 35,
     "metadata": {},
     "output_type": "execute_result"
    }
   ],
   "source": [
    "# gepaarte Differenz\n",
    "d_bar = sum(d) / len(d)\n",
    "d_bar"
   ]
  },
  {
   "cell_type": "code",
   "execution_count": 36,
   "id": "654596e7-6752-45cf-9105-9dcefe495a79",
   "metadata": {},
   "outputs": [
    {
     "data": {
      "text/plain": [
       "np.float64(5.836391139947831)"
      ]
     },
     "execution_count": 36,
     "metadata": {},
     "output_type": "execute_result"
    }
   ],
   "source": [
    "# Standardabweichung\n",
    "s_d = np.sqrt((sum(d**2) - (sum(d) ** 2 / len(d))) / (n - 1))\n",
    "s_d"
   ]
  },
  {
   "cell_type": "markdown",
   "id": "41a5fdc8-4aeb-4f2a-9fbe-39150465c26e",
   "metadata": {},
   "source": [
    "### Überprüfung der Hypothesen"
   ]
  },
  {
   "cell_type": "markdown",
   "id": "76f70b3d-ed35-4b56-b17e-1f9feaed3c12",
   "metadata": {},
   "source": [
    "Jetzt sind wir bereit, den **gepaarten $t$-Test** anzuwenden. Erinnern Sie sich an unsere erste Forschungsfrage: **Lassen die Daten den Schluss zu, dass sich die durchschnittlichen Prüfungsergebnisse verbessern, wenn die Studierenden ein Online-Tutorial zum Thema Statistik besuchen?**\n",
    "\n",
    "Wir folgen dem schrittweisen Implementierungsverfahren für Hypothesentests."
   ]
  },
  {
   "cell_type": "markdown",
   "id": "6a5c38d6-a98e-4daa-9ab2-a5f0c120cd2e",
   "metadata": {},
   "source": [
    "**Schritt 1 : Geben Sie die Nullhypothese $H_0$ und alternative Hypothese $H_A$ an**"
   ]
  },
  {
   "cell_type": "markdown",
   "id": "f07bea7b-a5b2-4add-8f7b-ff66119de9f8",
   "metadata": {
    "tags": []
   },
   "source": [
    "Die Nullhypothese besagt, dass es keinen Unterschied im Mittelwert der Prüfungsnoten der einen Prüfung im Vergleich zur anderen gibt."
   ]
  },
  {
   "cell_type": "markdown",
   "id": "7761c8ee-dd55-439f-91a9-f848478b2ffe",
   "metadata": {
    "tags": []
   },
   "source": [
    "$$H_0: \\quad \\mu_1 = \\mu_2$$"
   ]
  },
  {
   "cell_type": "markdown",
   "id": "956f4303-5064-4411-9d39-748c6f508895",
   "metadata": {},
   "source": [
    "Erinnern Sie sich daran, dass die Formulierung der Alternativhypothese vorgibt, ob wir einen zweiseitigen, einen links- oder einen rechtsseitigen Hypothesentest durchführen."
   ]
  },
  {
   "cell_type": "markdown",
   "id": "1e9cc9a1-c280-4cb8-b692-808abac2eb9b",
   "metadata": {
    "tags": []
   },
   "source": [
    "**Alternative Hypothese**"
   ]
  },
  {
   "cell_type": "markdown",
   "id": "5fb9b493-6870-40fe-99d4-d026244ebc2f",
   "metadata": {},
   "source": [
    "$$H_A: \\quad \\mu_1 < \\mu_2$$"
   ]
  },
  {
   "cell_type": "markdown",
   "id": "24111465-b39f-4947-ab53-adb04ec05931",
   "metadata": {},
   "source": [
    "Diese Formulierung führt zu einem linksseitigen Hypothesentest und besagt, dass die Studenten im Durchschnitt bei der zweiten Prüfung besser abschneiden."
   ]
  },
  {
   "cell_type": "markdown",
   "id": "975ca811-45e4-4b27-bb85-2806c0c98ead",
   "metadata": {},
   "source": [
    "**Schritt 2: Legen Sie das Signifikanzniveau,$\\alpha$ fest**"
   ]
  },
  {
   "cell_type": "markdown",
   "id": "e6bfb5c8-6fe3-432d-a9b7-fe71307e70fa",
   "metadata": {},
   "source": [
    "$$\\alpha = 0,05$$"
   ]
  },
  {
   "cell_type": "code",
   "execution_count": 37,
   "id": "9a86f451-538b-41a0-8eec-f8b99cbfb320",
   "metadata": {},
   "outputs": [],
   "source": [
    "alpha = 0.05"
   ]
  },
  {
   "cell_type": "markdown",
   "id": "4d804540-8806-4815-ab5c-8f42e5e0bf3c",
   "metadata": {},
   "source": [
    "**Schritt 3 und 4: Berechnen Sie den Wert der Teststatistik und den $p$-Wert**"
   ]
  },
  {
   "cell_type": "markdown",
   "id": "cca31a9a-d4e3-4f6b-81cb-13e93339c799",
   "metadata": {},
   "source": [
    "Zur Veranschaulichung berechnen wir die Teststatistik manuell in Python. Erinnern Sie sich an die obige Gleichungsform:"
   ]
  },
  {
   "cell_type": "markdown",
   "id": "e1edeae4-144f-495d-9ec2-4fd1bb6d233e",
   "metadata": {},
   "source": [
    "$$t= \\frac{\\bar d - (\\mu_1-\\mu_2)}{\\frac{s_d}{\\sqrt{n}}}$$"
   ]
  },
  {
   "cell_type": "markdown",
   "id": "e0e03699-e8c6-4861-9a5a-aa83d1245794",
   "metadata": {},
   "source": [
    "Wenn $H_0$ wahr ist, dann ist $μ_1-μ_2=0$ und somit vereinfacht sich die Gleichung zu"
   ]
  },
  {
   "cell_type": "markdown",
   "id": "c28ad527-0ba8-4fdb-b82c-25591019e135",
   "metadata": {},
   "source": [
    "$$t= \\frac{\\bar d}{\\frac{s_d}{\\sqrt{n}}}\\text{.}$$"
   ]
  },
  {
   "cell_type": "code",
   "execution_count": 38,
   "id": "a83b5388-57e2-40e6-8ce0-134f3ba5d03c",
   "metadata": {
    "tags": []
   },
   "outputs": [
    {
     "data": {
      "text/plain": [
       "np.float64(-2.4227231184673745)"
      ]
     },
     "execution_count": 38,
     "metadata": {},
     "output_type": "execute_result"
    }
   ],
   "source": [
    "# Berechne Teststatistik\n",
    "\n",
    "# gepaarte Differenz\n",
    "d_bar = sum(d) / len(d)\n",
    "\n",
    "# Standardabweichung\n",
    "s_d = np.sqrt((sum(d**2) - (sum(d) ** 2 / len(d))) / (n - 1))\n",
    "\n",
    "# Teststatistik\n",
    "tw = d_bar / (s_d / np.sqrt(len(d)))\n",
    "tw"
   ]
  },
  {
   "cell_type": "markdown",
   "id": "52761a94-7b72-48d2-a632-b3832d34acbe",
   "metadata": {},
   "source": [
    "Der numerische Wert der Teststatistik ist $-2,422723$.\n",
    "\n",
    "Um den $p$-Wert zu berechnen, wenden wir die Funktion `t.cdf()` an. Erinnern Sie sich daran, wie man die Freiheitsgrade berechnet."
   ]
  },
  {
   "cell_type": "markdown",
   "id": "ae28e760-5b45-4654-8ec3-01bc1af155f3",
   "metadata": {},
   "source": [
    "$$df = n - 1= 64$$"
   ]
  },
  {
   "cell_type": "code",
   "execution_count": 39,
   "id": "1a6b5764-39f1-4bcd-b89a-3f46ea98effa",
   "metadata": {},
   "outputs": [
    {
     "data": {
      "text/plain": [
       "np.float64(0.009122595661033035)"
      ]
     },
     "execution_count": 39,
     "metadata": {},
     "output_type": "execute_result"
    }
   ],
   "source": [
    "# Berechne p-Wert\n",
    "df = len(d) - 1\n",
    "p = t.cdf(tw, df=df)\n",
    "p"
   ]
  },
  {
   "cell_type": "markdown",
   "id": "4a6d426b-7656-433f-9e41-7505fd681efe",
   "metadata": {},
   "source": [
    "**Schritt 5: Wenn $p \\le \\alpha , H_0$ ablehnen; ansonsten $H_0$ nicht ablehnen**"
   ]
  },
  {
   "cell_type": "code",
   "execution_count": 40,
   "id": "c20b2c14-1e94-4645-907e-8c50ad31fdb4",
   "metadata": {},
   "outputs": [
    {
     "data": {
      "text/plain": [
       "np.True_"
      ]
     },
     "execution_count": 40,
     "metadata": {},
     "output_type": "execute_result"
    }
   ],
   "source": [
    "p <= alpha"
   ]
  },
  {
   "cell_type": "markdown",
   "id": "ebb408af-d349-45c6-b330-972df9644a3c",
   "metadata": {},
   "source": [
    "Der $p$-Wert ist kleiner als das angegebene Signifikanzniveau von $0,05$; wir verwerfen $H_0$. Die Testergebnisse sind statistisch signifikant auf dem $5 \\%$-Niveau und liefern einen sehr starken Beweis gegen die Nullhypothese."
   ]
  },
  {
   "cell_type": "markdown",
   "id": "5b743d40-3042-4c8d-8b17-1d55a21de896",
   "metadata": {},
   "source": [
    "**Schritt 6: Interpretieren Sie das Ergebnis des Hypothesentests**"
   ]
  },
  {
   "cell_type": "markdown",
   "id": "ddc2a1e4-7f20-4cf0-b214-114292d3e270",
   "metadata": {},
   "source": [
    "$p=0,009123$. Bei einem Signifikanzniveau von $5 \\%$ lassen die Daten den Schluss zu, dass sich die Prüfungsnoten der Studierenden nach der Teilnahme an einem Online-Tutorium für Statistik verbessern."
   ]
  },
  {
   "cell_type": "markdown",
   "id": "59e1e036-ed6f-4287-873e-c0575169d479",
   "metadata": {},
   "source": [
    "### Hypothesentests in Python"
   ]
  },
  {
   "cell_type": "markdown",
   "id": "5a3b3070-7b48-491a-8642-0c5b3f767144",
   "metadata": {},
   "source": [
    "Wir haben soeben manuell einen gepaarten $t$-Test in Python durchgeführt. Das ist gut, aber jetzt nutzen wir die ganze Macht von Python, um das gleiche Ergebnis wie oben mit nur einer Zeile Code zu erhalten!\n",
    "\n",
    "Um einen gepaarten $t$-Test in Python durchzuführen, verwenden wir die Funktion `ttest_rel()`. Wir geben zwei Vektoren als Dateneingabe an und wir setzen das Argument `alternative` auf `alternative = 'less'`, um auf $HA:\\mu_1 \\lt \\mu_2$ zu testen"
   ]
  },
  {
   "cell_type": "code",
   "execution_count": 41,
   "id": "a5378e5b-04eb-49d4-9043-b6aabadcb80e",
   "metadata": {},
   "outputs": [
    {
     "data": {
      "text/plain": [
       "TtestResult(statistic=np.float64(-2.4227231184673745), pvalue=np.float64(0.009122595661033035), df=np.int64(64))"
      ]
     },
     "execution_count": 41,
     "metadata": {},
     "output_type": "execute_result"
    }
   ],
   "source": [
    "ttest_rel(score1_sample, score2_sample, alternative=\"less\")"
   ]
  },
  {
   "cell_type": "markdown",
   "id": "961e3f98-a5ac-45be-b067-b34a45c11766",
   "metadata": {},
   "source": [
    "Großartig! Vergleichen Sie die Ausgabe der Funktion `ttest_rel()` mit unserem Ergebnis von oben. Sie stimmen perfekt überein! Auch hier können wir schlussfolgern, dass die Daten bei einem Signifikanzniveau von $5 \\%$ einen sehr starken Hinweis darauf liefern, dass sich die Prüfungsnoten der Studenten nach der Teilnahme an einem Online-Tutorium für Statistik verbessern.\n",
    "\n",
    "Bevor wir fortfahren, muss noch eine Forschungsfrage beantwortet werden. Was ist, wenn es andere Gründe für die besseren Noten in der zweiten Prüfung gibt? Was ist, wenn die zweite Prüfung viel einfacher war? Was wäre, wenn die Studenten einen tollen Dozenten hatten und sich dadurch im Laufe des Semesters verbessert haben? Wir testen diese Hypothese, indem wir einen gepaarten $t$-Test durchführen, und zwar explizit für die Studierenden, die nicht am Online-Tutorium für Statistik teilgenommen haben. Da wir mit der Python-Maschinerie bestens vertraut sind, führen wir einen gepaarten $t$-Test mit nur wenigen Zeilen Code durch."
   ]
  },
  {
   "cell_type": "code",
   "execution_count": 42,
   "id": "455d54f3-6601-4274-854d-a93b64ccb374",
   "metadata": {},
   "outputs": [
    {
     "data": {
      "text/plain": [
       "TtestResult(statistic=np.float64(2.1307181194375913), pvalue=np.float64(0.9771439852770387), df=np.int64(20))"
      ]
     },
     "execution_count": 42,
     "metadata": {},
     "output_type": "execute_result"
    }
   ],
   "source": [
    "no_tutorial = students.loc[students[\"online_tutorial\"] == 0]\n",
    "\n",
    "n = 65\n",
    "\n",
    "\n",
    "score1_no_tutorial = no_tutorial[\"score1\"].sample(n, random_state=1)\n",
    "score2_no_tutorial = no_tutorial[\"score2\"].sample(n, random_state=1)\n",
    "\n",
    "# führe paired t-test durch\n",
    "statistics, pvalue = ttest_rel(\n",
    "    score1_no_tutorial, score2_no_tutorial, nan_policy=\"omit\", alternative=\"less\"\n",
    ")\n",
    "ttest_rel(score1_no_tutorial, score2_no_tutorial, nan_policy=\"omit\", alternative=\"less\")"
   ]
  },
  {
   "cell_type": "code",
   "execution_count": 43,
   "id": "4e863dd6-acec-4eac-a3c2-e0a22c46916d",
   "metadata": {},
   "outputs": [
    {
     "data": {
      "text/plain": [
       "np.False_"
      ]
     },
     "execution_count": 43,
     "metadata": {},
     "output_type": "execute_result"
    }
   ],
   "source": [
    "pvalue <= alpha"
   ]
  },
  {
   "cell_type": "markdown",
   "id": "5ec5fbe1-65dd-4b05-8bf8-2e5e566e64f2",
   "metadata": {},
   "source": [
    "Der $p$-Wert ist größer als das angegebene Signifikanzniveau von $0,05$; wir verwerfen $H_0$ nicht. Die Testergebnisse sind auf dem $5 \\%$-Niveau statistisch signifikant und liefern keinen ausreichenden Beweis gegen die Nullhypothese.\n",
    "\n",
    "Bei einem Signifikanzniveau von $5 \\%$ liefern die Daten keine ausreichende Evidenz für die Schlussfolgerung, dass sich die Prüfungsnoten der Studierenden, die nicht am Online-Tutorium teilgenommen haben, verbessert haben."
   ]
  }
 ],
 "metadata": {
  "kernelspec": {
   "display_name": "Python 3 (ipykernel)",
   "language": "python",
   "name": "python3"
  },
  "language_info": {
   "codemirror_mode": {
    "name": "ipython",
    "version": 3
   },
   "file_extension": ".py",
   "mimetype": "text/x-python",
   "name": "python",
   "nbconvert_exporter": "python",
   "pygments_lexer": "ipython3",
   "version": "3.10.12"
  },
  "vscode": {
   "interpreter": {
    "hash": "31f2aee4e71d21fbe5cf8b01ff0e069b9275f58929596ceb00d14d90e3e16cd6"
   }
  }
 },
 "nbformat": 4,
 "nbformat_minor": 5
}